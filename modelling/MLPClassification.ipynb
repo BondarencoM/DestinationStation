{
 "cells": [
  {
   "cell_type": "code",
   "execution_count": 93,
   "metadata": {},
   "outputs": [],
   "source": [
    "import math\n",
    "import numpy as np\n",
    "import pandas as pd\n",
    "import matplotlib.pyplot as plt\n",
    "\n",
    "from sklearn import neural_network, ensemble, preprocessing, model_selection, metrics\n",
    "from imblearn.over_sampling import SMOTENC"
   ]
  },
  {
   "cell_type": "code",
   "execution_count": 94,
   "metadata": {},
   "outputs": [],
   "source": [
    "df = pd.read_csv('../assets/data/2019-UT-ASD-Full/2019-UT-ASD-scrapped.csv')"
   ]
  },
  {
   "cell_type": "code",
   "execution_count": 95,
   "metadata": {},
   "outputs": [
    {
     "data": {
      "text/plain": [
       "(111268, 87)"
      ]
     },
     "execution_count": 95,
     "metadata": {},
     "output_type": "execute_result"
    }
   ],
   "source": [
    "df.shape"
   ]
  },
  {
   "cell_type": "code",
   "execution_count": 96,
   "metadata": {},
   "outputs": [],
   "source": [
    "df.sort_values('RideInstance', inplace=True)\n",
    "df.drop_duplicates(subset='RideInstance', keep='last', inplace=True)"
   ]
  },
  {
   "cell_type": "code",
   "execution_count": 97,
   "metadata": {},
   "outputs": [
    {
     "data": {
      "text/plain": [
       "(93104, 87)"
      ]
     },
     "execution_count": 97,
     "metadata": {},
     "output_type": "execute_result"
    }
   ],
   "source": [
    "df.shape"
   ]
  },
  {
   "cell_type": "code",
   "execution_count": 98,
   "metadata": {},
   "outputs": [],
   "source": [
    "feature_df = df[['RideId', 'TrainId', 'DepartureStation', 'DestinationStation', \n",
    "                   'ArrivalTime', 'ArrivalDelay', 'DepartureTime', 'DepartureWindSpeed', \n",
    "                   'DepartureVisibility', 'DepartureFog', 'DepartureRain', 'DepartureSnow', \n",
    "                   'DepartureThunder', 'DepartureIceFormation', \n",
    "\n",
    "                   'DestinationWindSpeed', 'DestinationVisibility', 'DestinationFog', 'DestinationRain',\n",
    "                   'DestinationSnow', 'DestinationThunder', 'DestinationIceFormation', 'cause_group']]"
   ]
  },
  {
   "cell_type": "code",
   "execution_count": 99,
   "metadata": {},
   "outputs": [
    {
     "data": {
      "text/plain": [
       "RideId                         0\n",
       "TrainId                        0\n",
       "DepartureStation             794\n",
       "DestinationStation           919\n",
       "ArrivalTime                  919\n",
       "ArrivalDelay                   0\n",
       "DepartureTime                801\n",
       "DepartureWindSpeed           924\n",
       "DepartureVisibility          924\n",
       "DepartureFog                 924\n",
       "DepartureRain                924\n",
       "DepartureSnow                924\n",
       "DepartureThunder             924\n",
       "DepartureIceFormation        924\n",
       "DestinationWindSpeed         922\n",
       "DestinationVisibility        922\n",
       "DestinationFog               922\n",
       "DestinationRain              922\n",
       "DestinationSnow              922\n",
       "DestinationThunder           922\n",
       "DestinationIceFormation      922\n",
       "cause_group                61629\n",
       "dtype: int64"
      ]
     },
     "execution_count": 99,
     "metadata": {},
     "output_type": "execute_result"
    }
   ],
   "source": [
    "feature_df.isna().sum()"
   ]
  },
  {
   "cell_type": "code",
   "execution_count": null,
   "metadata": {
    "scrolled": true
   },
   "outputs": [],
   "source": []
  },
  {
   "cell_type": "code",
   "execution_count": 100,
   "metadata": {},
   "outputs": [
    {
     "data": {
      "text/plain": [
       "RideId                         0\n",
       "TrainId                        0\n",
       "DepartureStation             794\n",
       "DestinationStation           919\n",
       "ArrivalTime                  919\n",
       "ArrivalDelay                   0\n",
       "DepartureTime                801\n",
       "DepartureWindSpeed           924\n",
       "DepartureVisibility          924\n",
       "DepartureFog                 924\n",
       "DepartureRain                924\n",
       "DepartureSnow                924\n",
       "DepartureThunder             924\n",
       "DepartureIceFormation        924\n",
       "DestinationWindSpeed         922\n",
       "DestinationVisibility        922\n",
       "DestinationFog               922\n",
       "DestinationRain              922\n",
       "DestinationSnow              922\n",
       "DestinationThunder           922\n",
       "DestinationIceFormation      922\n",
       "cause_group                61629\n",
       "dtype: int64"
      ]
     },
     "execution_count": 100,
     "metadata": {},
     "output_type": "execute_result"
    }
   ],
   "source": [
    "feature_df.isna().sum()"
   ]
  },
  {
   "cell_type": "code",
   "execution_count": 101,
   "metadata": {},
   "outputs": [
    {
     "name": "stderr",
     "output_type": "stream",
     "text": [
      "<ipython-input-101-f6988f8061be>:1: SettingWithCopyWarning: \n",
      "A value is trying to be set on a copy of a slice from a DataFrame.\n",
      "Try using .loc[row_indexer,col_indexer] = value instead\n",
      "\n",
      "See the caveats in the documentation: https://pandas.pydata.org/pandas-docs/stable/user_guide/indexing.html#returning-a-view-versus-a-copy\n",
      "  feature_df['DepartureTime'] = pd.to_datetime(feature_df['DepartureTime']).dt.hour\n",
      "<ipython-input-101-f6988f8061be>:2: SettingWithCopyWarning: \n",
      "A value is trying to be set on a copy of a slice from a DataFrame.\n",
      "Try using .loc[row_indexer,col_indexer] = value instead\n",
      "\n",
      "See the caveats in the documentation: https://pandas.pydata.org/pandas-docs/stable/user_guide/indexing.html#returning-a-view-versus-a-copy\n",
      "  feature_df['ArrivalTime'] = pd.to_datetime(feature_df['ArrivalTime']).dt.hour\n"
     ]
    }
   ],
   "source": [
    "feature_df['DepartureTime'] = pd.to_datetime(feature_df['DepartureTime']).dt.hour\n",
    "feature_df['ArrivalTime'] = pd.to_datetime(feature_df['ArrivalTime']).dt.hour"
   ]
  },
  {
   "cell_type": "code",
   "execution_count": 102,
   "metadata": {},
   "outputs": [
    {
     "data": {
      "text/plain": [
       "RideId                       int64\n",
       "TrainId                      int64\n",
       "DepartureStation            object\n",
       "DestinationStation          object\n",
       "ArrivalTime                float64\n",
       "ArrivalDelay               float64\n",
       "DepartureTime              float64\n",
       "DepartureWindSpeed         float64\n",
       "DepartureVisibility        float64\n",
       "DepartureFog               float64\n",
       "DepartureRain              float64\n",
       "DepartureSnow              float64\n",
       "DepartureThunder           float64\n",
       "DepartureIceFormation      float64\n",
       "DestinationWindSpeed       float64\n",
       "DestinationVisibility      float64\n",
       "DestinationFog             float64\n",
       "DestinationRain            float64\n",
       "DestinationSnow            float64\n",
       "DestinationThunder         float64\n",
       "DestinationIceFormation    float64\n",
       "cause_group                 object\n",
       "dtype: object"
      ]
     },
     "execution_count": 102,
     "metadata": {},
     "output_type": "execute_result"
    }
   ],
   "source": [
    "feature_df.dtypes"
   ]
  },
  {
   "cell_type": "code",
   "execution_count": 103,
   "metadata": {
    "code_folding": []
   },
   "outputs": [],
   "source": [
    "def apply_delay_category(delay):\n",
    "    if delay < 1:\n",
    "        return 'No Delay'\n",
    "    if delay < 5:\n",
    "        return '<5'\n",
    "    if delay < 10:\n",
    "        return '<10'\n",
    "    if delay < 15:\n",
    "        return '<15'\n",
    "    return '>15'"
   ]
  },
  {
   "cell_type": "code",
   "execution_count": 104,
   "metadata": {},
   "outputs": [
    {
     "name": "stderr",
     "output_type": "stream",
     "text": [
      "<ipython-input-104-264a3505c4aa>:1: SettingWithCopyWarning: \n",
      "A value is trying to be set on a copy of a slice from a DataFrame.\n",
      "Try using .loc[row_indexer,col_indexer] = value instead\n",
      "\n",
      "See the caveats in the documentation: https://pandas.pydata.org/pandas-docs/stable/user_guide/indexing.html#returning-a-view-versus-a-copy\n",
      "  feature_df['DelayCategory'] = feature_df['ArrivalDelay'].apply(lambda delay: apply_delay_category(delay))\n"
     ]
    }
   ],
   "source": [
    "feature_df['DelayCategory'] = feature_df['ArrivalDelay'].apply(lambda delay: apply_delay_category(delay))"
   ]
  },
  {
   "cell_type": "code",
   "execution_count": 105,
   "metadata": {},
   "outputs": [
    {
     "data": {
      "text/plain": [
       "array(['No Delay', '<5', '>15', '<10', '<15'], dtype=object)"
      ]
     },
     "execution_count": 105,
     "metadata": {},
     "output_type": "execute_result"
    }
   ],
   "source": [
    "feature_df['DelayCategory'].unique()"
   ]
  },
  {
   "cell_type": "code",
   "execution_count": 106,
   "metadata": {},
   "outputs": [],
   "source": [
    "encoder = preprocessing.LabelEncoder()"
   ]
  },
  {
   "cell_type": "code",
   "execution_count": 107,
   "metadata": {
    "scrolled": false
   },
   "outputs": [
    {
     "name": "stderr",
     "output_type": "stream",
     "text": [
      "<ipython-input-107-d3c021d3aee0>:1: SettingWithCopyWarning: \n",
      "A value is trying to be set on a copy of a slice from a DataFrame.\n",
      "Try using .loc[row_indexer,col_indexer] = value instead\n",
      "\n",
      "See the caveats in the documentation: https://pandas.pydata.org/pandas-docs/stable/user_guide/indexing.html#returning-a-view-versus-a-copy\n",
      "  feature_df['DelayCategory'] = encoder.fit_transform(feature_df['DelayCategory'])\n",
      "<ipython-input-107-d3c021d3aee0>:2: SettingWithCopyWarning: \n",
      "A value is trying to be set on a copy of a slice from a DataFrame.\n",
      "Try using .loc[row_indexer,col_indexer] = value instead\n",
      "\n",
      "See the caveats in the documentation: https://pandas.pydata.org/pandas-docs/stable/user_guide/indexing.html#returning-a-view-versus-a-copy\n",
      "  feature_df['DepartureStation'] = encoder.fit_transform(feature_df['DepartureStation'])\n",
      "<ipython-input-107-d3c021d3aee0>:3: SettingWithCopyWarning: \n",
      "A value is trying to be set on a copy of a slice from a DataFrame.\n",
      "Try using .loc[row_indexer,col_indexer] = value instead\n",
      "\n",
      "See the caveats in the documentation: https://pandas.pydata.org/pandas-docs/stable/user_guide/indexing.html#returning-a-view-versus-a-copy\n",
      "  feature_df['DestinationStation'] = encoder.fit_transform(feature_df['DestinationStation'])\n"
     ]
    }
   ],
   "source": [
    "feature_df['DelayCategory'] = encoder.fit_transform(feature_df['DelayCategory'])\n",
    "feature_df['DepartureStation'] = encoder.fit_transform(feature_df['DepartureStation'])\n",
    "feature_df['DestinationStation'] = encoder.fit_transform(feature_df['DestinationStation'])"
   ]
  },
  {
   "cell_type": "code",
   "execution_count": 108,
   "metadata": {},
   "outputs": [
    {
     "data": {
      "text/plain": [
       "array([4, 2, 3, 0, 1])"
      ]
     },
     "execution_count": 108,
     "metadata": {},
     "output_type": "execute_result"
    }
   ],
   "source": [
    "feature_df['DelayCategory'].unique()"
   ]
  },
  {
   "cell_type": "code",
   "execution_count": 109,
   "metadata": {},
   "outputs": [
    {
     "data": {
      "text/plain": [
       "RideId                         0\n",
       "TrainId                        0\n",
       "DepartureStation               0\n",
       "DestinationStation             0\n",
       "ArrivalTime                  919\n",
       "ArrivalDelay                   0\n",
       "DepartureTime                801\n",
       "DepartureWindSpeed           924\n",
       "DepartureVisibility          924\n",
       "DepartureFog                 924\n",
       "DepartureRain                924\n",
       "DepartureSnow                924\n",
       "DepartureThunder             924\n",
       "DepartureIceFormation        924\n",
       "DestinationWindSpeed         922\n",
       "DestinationVisibility        922\n",
       "DestinationFog               922\n",
       "DestinationRain              922\n",
       "DestinationSnow              922\n",
       "DestinationThunder           922\n",
       "DestinationIceFormation      922\n",
       "cause_group                61629\n",
       "DelayCategory                  0\n",
       "dtype: int64"
      ]
     },
     "execution_count": 109,
     "metadata": {},
     "output_type": "execute_result"
    }
   ],
   "source": [
    "feature_df.isna().sum()"
   ]
  },
  {
   "cell_type": "code",
   "execution_count": 110,
   "metadata": {},
   "outputs": [
    {
     "name": "stderr",
     "output_type": "stream",
     "text": [
      "<ipython-input-110-d005bec42c14>:1: SettingWithCopyWarning: \n",
      "A value is trying to be set on a copy of a slice from a DataFrame.\n",
      "Try using .loc[row_indexer,col_indexer] = value instead\n",
      "\n",
      "See the caveats in the documentation: https://pandas.pydata.org/pandas-docs/stable/user_guide/indexing.html#returning-a-view-versus-a-copy\n",
      "  feature_df['Maintanence'] = feature_df['cause_group'].apply(lambda cause: True if cause == 'engineering work' else False)\n"
     ]
    }
   ],
   "source": [
    "feature_df['Maintanence'] = feature_df['cause_group'].apply(lambda cause: True if cause == 'engineering work' else False)"
   ]
  },
  {
   "cell_type": "code",
   "execution_count": 111,
   "metadata": {
    "scrolled": false
   },
   "outputs": [
    {
     "name": "stderr",
     "output_type": "stream",
     "text": [
      "C:\\Users\\micha\\anaconda3\\lib\\site-packages\\pandas\\core\\frame.py:4163: SettingWithCopyWarning: \n",
      "A value is trying to be set on a copy of a slice from a DataFrame\n",
      "\n",
      "See the caveats in the documentation: https://pandas.pydata.org/pandas-docs/stable/user_guide/indexing.html#returning-a-view-versus-a-copy\n",
      "  return super().drop(\n"
     ]
    }
   ],
   "source": [
    "feature_df.drop(columns=['cause_group', 'ArrivalDelay'], inplace=True)"
   ]
  },
  {
   "cell_type": "code",
   "execution_count": 112,
   "metadata": {
    "scrolled": true
   },
   "outputs": [
    {
     "data": {
      "text/plain": [
       "RideId                       0\n",
       "TrainId                      0\n",
       "DepartureStation             0\n",
       "DestinationStation           0\n",
       "ArrivalTime                919\n",
       "DepartureTime              801\n",
       "DepartureWindSpeed         924\n",
       "DepartureVisibility        924\n",
       "DepartureFog               924\n",
       "DepartureRain              924\n",
       "DepartureSnow              924\n",
       "DepartureThunder           924\n",
       "DepartureIceFormation      924\n",
       "DestinationWindSpeed       922\n",
       "DestinationVisibility      922\n",
       "DestinationFog             922\n",
       "DestinationRain            922\n",
       "DestinationSnow            922\n",
       "DestinationThunder         922\n",
       "DestinationIceFormation    922\n",
       "DelayCategory                0\n",
       "Maintanence                  0\n",
       "dtype: int64"
      ]
     },
     "execution_count": 112,
     "metadata": {},
     "output_type": "execute_result"
    }
   ],
   "source": [
    "feature_df.isna().sum()"
   ]
  },
  {
   "cell_type": "code",
   "execution_count": 113,
   "metadata": {
    "scrolled": true
   },
   "outputs": [
    {
     "data": {
      "text/plain": [
       "RideId                       int64\n",
       "TrainId                      int64\n",
       "DepartureStation             int32\n",
       "DestinationStation           int32\n",
       "ArrivalTime                float64\n",
       "DepartureTime              float64\n",
       "DepartureWindSpeed         float64\n",
       "DepartureVisibility        float64\n",
       "DepartureFog               float64\n",
       "DepartureRain              float64\n",
       "DepartureSnow              float64\n",
       "DepartureThunder           float64\n",
       "DepartureIceFormation      float64\n",
       "DestinationWindSpeed       float64\n",
       "DestinationVisibility      float64\n",
       "DestinationFog             float64\n",
       "DestinationRain            float64\n",
       "DestinationSnow            float64\n",
       "DestinationThunder         float64\n",
       "DestinationIceFormation    float64\n",
       "DelayCategory                int32\n",
       "Maintanence                   bool\n",
       "dtype: object"
      ]
     },
     "execution_count": 113,
     "metadata": {},
     "output_type": "execute_result"
    }
   ],
   "source": [
    "feature_df.dtypes"
   ]
  },
  {
   "cell_type": "code",
   "execution_count": 114,
   "metadata": {},
   "outputs": [
    {
     "data": {
      "text/plain": [
       "4    0.824637\n",
       "2    0.130843\n",
       "0    0.025681\n",
       "3    0.011557\n",
       "1    0.007282\n",
       "Name: DelayCategory, dtype: float64"
      ]
     },
     "execution_count": 114,
     "metadata": {},
     "output_type": "execute_result"
    }
   ],
   "source": [
    "feature_df['DelayCategory'].value_counts(normalize=True)"
   ]
  },
  {
   "cell_type": "code",
   "execution_count": 115,
   "metadata": {},
   "outputs": [
    {
     "name": "stderr",
     "output_type": "stream",
     "text": [
      "<ipython-input-115-2a7612a683b6>:1: SettingWithCopyWarning: \n",
      "A value is trying to be set on a copy of a slice from a DataFrame\n",
      "\n",
      "See the caveats in the documentation: https://pandas.pydata.org/pandas-docs/stable/user_guide/indexing.html#returning-a-view-versus-a-copy\n",
      "  feature_df.dropna(inplace=True)\n"
     ]
    }
   ],
   "source": [
    "feature_df.dropna(inplace=True)"
   ]
  },
  {
   "cell_type": "code",
   "execution_count": 116,
   "metadata": {},
   "outputs": [
    {
     "data": {
      "text/plain": [
       "(92180, 22)"
      ]
     },
     "execution_count": 116,
     "metadata": {},
     "output_type": "execute_result"
    }
   ],
   "source": [
    "feature_df.shape"
   ]
  },
  {
   "cell_type": "code",
   "execution_count": 117,
   "metadata": {},
   "outputs": [
    {
     "data": {
      "text/plain": [
       "4    75856\n",
       "2    12181\n",
       "0     2391\n",
       "3     1074\n",
       "1      678\n",
       "Name: DelayCategory, dtype: int64"
      ]
     },
     "execution_count": 117,
     "metadata": {},
     "output_type": "execute_result"
    }
   ],
   "source": [
    "feature_df['DelayCategory'].value_counts()"
   ]
  },
  {
   "cell_type": "markdown",
   "metadata": {},
   "source": [
    "# Data Scaling"
   ]
  },
  {
   "cell_type": "code",
   "execution_count": 118,
   "metadata": {
    "scrolled": true
   },
   "outputs": [
    {
     "data": {
      "text/plain": [
       "Index(['RideId', 'TrainId', 'DepartureStation', 'DestinationStation',\n",
       "       'ArrivalTime', 'DepartureTime', 'DepartureWindSpeed',\n",
       "       'DepartureVisibility', 'DepartureFog', 'DepartureRain', 'DepartureSnow',\n",
       "       'DepartureThunder', 'DepartureIceFormation', 'DestinationWindSpeed',\n",
       "       'DestinationVisibility', 'DestinationFog', 'DestinationRain',\n",
       "       'DestinationSnow', 'DestinationThunder', 'DestinationIceFormation',\n",
       "       'DelayCategory', 'Maintanence'],\n",
       "      dtype='object')"
      ]
     },
     "execution_count": 118,
     "metadata": {},
     "output_type": "execute_result"
    }
   ],
   "source": [
    "feature_df.columns"
   ]
  },
  {
   "cell_type": "code",
   "execution_count": 119,
   "metadata": {},
   "outputs": [],
   "source": [
    "to_scale = [col for col in feature_df.columns if feature_df[col].max() > 1]"
   ]
  },
  {
   "cell_type": "code",
   "execution_count": 120,
   "metadata": {},
   "outputs": [
    {
     "data": {
      "text/plain": [
       "'DelayCategory'"
      ]
     },
     "execution_count": 120,
     "metadata": {},
     "output_type": "execute_result"
    }
   ],
   "source": [
    "to_scale.pop(-1)"
   ]
  },
  {
   "cell_type": "code",
   "execution_count": 121,
   "metadata": {},
   "outputs": [
    {
     "data": {
      "text/plain": [
       "['RideId',\n",
       " 'TrainId',\n",
       " 'ArrivalTime',\n",
       " 'DepartureTime',\n",
       " 'DepartureWindSpeed',\n",
       " 'DepartureVisibility',\n",
       " 'DestinationWindSpeed',\n",
       " 'DestinationVisibility']"
      ]
     },
     "execution_count": 121,
     "metadata": {},
     "output_type": "execute_result"
    }
   ],
   "source": [
    "to_scale"
   ]
  },
  {
   "cell_type": "code",
   "execution_count": 122,
   "metadata": {
    "scrolled": false
   },
   "outputs": [
    {
     "name": "stderr",
     "output_type": "stream",
     "text": [
      "<ipython-input-122-72ff1aab4f51>:2: SettingWithCopyWarning: \n",
      "A value is trying to be set on a copy of a slice from a DataFrame.\n",
      "Try using .loc[row_indexer,col_indexer] = value instead\n",
      "\n",
      "See the caveats in the documentation: https://pandas.pydata.org/pandas-docs/stable/user_guide/indexing.html#returning-a-view-versus-a-copy\n",
      "  feature_df[to_scale] = mms.fit_transform(feature_df[to_scale])\n",
      "C:\\Users\\micha\\anaconda3\\lib\\site-packages\\pandas\\core\\indexing.py:1736: SettingWithCopyWarning: \n",
      "A value is trying to be set on a copy of a slice from a DataFrame.\n",
      "Try using .loc[row_indexer,col_indexer] = value instead\n",
      "\n",
      "See the caveats in the documentation: https://pandas.pydata.org/pandas-docs/stable/user_guide/indexing.html#returning-a-view-versus-a-copy\n",
      "  isetter(loc, value[:, i].tolist())\n"
     ]
    }
   ],
   "source": [
    "mms = preprocessing.MinMaxScaler()\n",
    "feature_df[to_scale] = mms.fit_transform(feature_df[to_scale])\n",
    "# scaled = pd.DataFrame(scaled, columns=to_scale)\n",
    "\n",
    "# for col in scaled:\n",
    "#     feature_df[col] = scaled[col]\n",
    "\n",
    "# feature_df.head()"
   ]
  },
  {
   "cell_type": "code",
   "execution_count": 123,
   "metadata": {},
   "outputs": [
    {
     "data": {
      "text/html": [
       "<div>\n",
       "<style scoped>\n",
       "    .dataframe tbody tr th:only-of-type {\n",
       "        vertical-align: middle;\n",
       "    }\n",
       "\n",
       "    .dataframe tbody tr th {\n",
       "        vertical-align: top;\n",
       "    }\n",
       "\n",
       "    .dataframe thead th {\n",
       "        text-align: right;\n",
       "    }\n",
       "</style>\n",
       "<table border=\"1\" class=\"dataframe\">\n",
       "  <thead>\n",
       "    <tr style=\"text-align: right;\">\n",
       "      <th></th>\n",
       "      <th>RideId</th>\n",
       "      <th>TrainId</th>\n",
       "      <th>ArrivalTime</th>\n",
       "      <th>DepartureTime</th>\n",
       "      <th>DepartureWindSpeed</th>\n",
       "      <th>DepartureVisibility</th>\n",
       "      <th>DestinationWindSpeed</th>\n",
       "      <th>DestinationVisibility</th>\n",
       "    </tr>\n",
       "  </thead>\n",
       "  <tbody>\n",
       "    <tr>\n",
       "      <th>177</th>\n",
       "      <td>0.000000</td>\n",
       "      <td>0.000000</td>\n",
       "      <td>0.913043</td>\n",
       "      <td>0.913043</td>\n",
       "      <td>0.222222</td>\n",
       "      <td>0.831325</td>\n",
       "      <td>0.388889</td>\n",
       "      <td>0.771084</td>\n",
       "    </tr>\n",
       "    <tr>\n",
       "      <th>190</th>\n",
       "      <td>0.000023</td>\n",
       "      <td>0.000023</td>\n",
       "      <td>1.000000</td>\n",
       "      <td>1.000000</td>\n",
       "      <td>0.277778</td>\n",
       "      <td>0.783133</td>\n",
       "      <td>0.388889</td>\n",
       "      <td>0.843373</td>\n",
       "    </tr>\n",
       "    <tr>\n",
       "      <th>160</th>\n",
       "      <td>0.000026</td>\n",
       "      <td>0.000026</td>\n",
       "      <td>0.869565</td>\n",
       "      <td>0.869565</td>\n",
       "      <td>0.277778</td>\n",
       "      <td>0.831325</td>\n",
       "      <td>0.444444</td>\n",
       "      <td>0.867470</td>\n",
       "    </tr>\n",
       "    <tr>\n",
       "      <th>38</th>\n",
       "      <td>0.000027</td>\n",
       "      <td>0.000027</td>\n",
       "      <td>0.478261</td>\n",
       "      <td>0.434783</td>\n",
       "      <td>0.333333</td>\n",
       "      <td>0.771084</td>\n",
       "      <td>0.222222</td>\n",
       "      <td>0.795181</td>\n",
       "    </tr>\n",
       "    <tr>\n",
       "      <th>122</th>\n",
       "      <td>0.000028</td>\n",
       "      <td>0.000028</td>\n",
       "      <td>0.739130</td>\n",
       "      <td>0.739130</td>\n",
       "      <td>0.333333</td>\n",
       "      <td>0.831325</td>\n",
       "      <td>0.333333</td>\n",
       "      <td>0.807229</td>\n",
       "    </tr>\n",
       "    <tr>\n",
       "      <th>...</th>\n",
       "      <td>...</td>\n",
       "      <td>...</td>\n",
       "      <td>...</td>\n",
       "      <td>...</td>\n",
       "      <td>...</td>\n",
       "      <td>...</td>\n",
       "      <td>...</td>\n",
       "      <td>...</td>\n",
       "    </tr>\n",
       "    <tr>\n",
       "      <th>111255</th>\n",
       "      <td>0.001080</td>\n",
       "      <td>0.001080</td>\n",
       "      <td>0.826087</td>\n",
       "      <td>0.782609</td>\n",
       "      <td>0.055556</td>\n",
       "      <td>0.012048</td>\n",
       "      <td>0.055556</td>\n",
       "      <td>0.000000</td>\n",
       "    </tr>\n",
       "    <tr>\n",
       "      <th>111230</th>\n",
       "      <td>0.001081</td>\n",
       "      <td>0.001081</td>\n",
       "      <td>0.782609</td>\n",
       "      <td>0.739130</td>\n",
       "      <td>0.111111</td>\n",
       "      <td>0.698795</td>\n",
       "      <td>0.055556</td>\n",
       "      <td>0.012048</td>\n",
       "    </tr>\n",
       "    <tr>\n",
       "      <th>111238</th>\n",
       "      <td>0.001084</td>\n",
       "      <td>0.001084</td>\n",
       "      <td>0.782609</td>\n",
       "      <td>0.782609</td>\n",
       "      <td>0.166667</td>\n",
       "      <td>0.000000</td>\n",
       "      <td>0.055556</td>\n",
       "      <td>0.012048</td>\n",
       "    </tr>\n",
       "    <tr>\n",
       "      <th>111247</th>\n",
       "      <td>0.001087</td>\n",
       "      <td>0.001087</td>\n",
       "      <td>0.826087</td>\n",
       "      <td>0.782609</td>\n",
       "      <td>0.166667</td>\n",
       "      <td>0.000000</td>\n",
       "      <td>0.166667</td>\n",
       "      <td>0.144578</td>\n",
       "    </tr>\n",
       "    <tr>\n",
       "      <th>111256</th>\n",
       "      <td>0.001090</td>\n",
       "      <td>0.001090</td>\n",
       "      <td>0.826087</td>\n",
       "      <td>0.826087</td>\n",
       "      <td>0.055556</td>\n",
       "      <td>0.000000</td>\n",
       "      <td>0.166667</td>\n",
       "      <td>0.144578</td>\n",
       "    </tr>\n",
       "  </tbody>\n",
       "</table>\n",
       "<p>92180 rows × 8 columns</p>\n",
       "</div>"
      ],
      "text/plain": [
       "          RideId   TrainId  ArrivalTime  DepartureTime  DepartureWindSpeed  \\\n",
       "177     0.000000  0.000000     0.913043       0.913043            0.222222   \n",
       "190     0.000023  0.000023     1.000000       1.000000            0.277778   \n",
       "160     0.000026  0.000026     0.869565       0.869565            0.277778   \n",
       "38      0.000027  0.000027     0.478261       0.434783            0.333333   \n",
       "122     0.000028  0.000028     0.739130       0.739130            0.333333   \n",
       "...          ...       ...          ...            ...                 ...   \n",
       "111255  0.001080  0.001080     0.826087       0.782609            0.055556   \n",
       "111230  0.001081  0.001081     0.782609       0.739130            0.111111   \n",
       "111238  0.001084  0.001084     0.782609       0.782609            0.166667   \n",
       "111247  0.001087  0.001087     0.826087       0.782609            0.166667   \n",
       "111256  0.001090  0.001090     0.826087       0.826087            0.055556   \n",
       "\n",
       "        DepartureVisibility  DestinationWindSpeed  DestinationVisibility  \n",
       "177                0.831325              0.388889               0.771084  \n",
       "190                0.783133              0.388889               0.843373  \n",
       "160                0.831325              0.444444               0.867470  \n",
       "38                 0.771084              0.222222               0.795181  \n",
       "122                0.831325              0.333333               0.807229  \n",
       "...                     ...                   ...                    ...  \n",
       "111255             0.012048              0.055556               0.000000  \n",
       "111230             0.698795              0.055556               0.012048  \n",
       "111238             0.000000              0.055556               0.012048  \n",
       "111247             0.000000              0.166667               0.144578  \n",
       "111256             0.000000              0.166667               0.144578  \n",
       "\n",
       "[92180 rows x 8 columns]"
      ]
     },
     "execution_count": 123,
     "metadata": {},
     "output_type": "execute_result"
    }
   ],
   "source": [
    "feature_df[to_scale]"
   ]
  },
  {
   "cell_type": "code",
   "execution_count": 124,
   "metadata": {},
   "outputs": [
    {
     "data": {
      "text/plain": [
       "RideId                     0\n",
       "TrainId                    0\n",
       "DepartureStation           0\n",
       "DestinationStation         0\n",
       "ArrivalTime                0\n",
       "DepartureTime              0\n",
       "DepartureWindSpeed         0\n",
       "DepartureVisibility        0\n",
       "DepartureFog               0\n",
       "DepartureRain              0\n",
       "DepartureSnow              0\n",
       "DepartureThunder           0\n",
       "DepartureIceFormation      0\n",
       "DestinationWindSpeed       0\n",
       "DestinationVisibility      0\n",
       "DestinationFog             0\n",
       "DestinationRain            0\n",
       "DestinationSnow            0\n",
       "DestinationThunder         0\n",
       "DestinationIceFormation    0\n",
       "DelayCategory              0\n",
       "Maintanence                0\n",
       "dtype: int64"
      ]
     },
     "execution_count": 124,
     "metadata": {},
     "output_type": "execute_result"
    }
   ],
   "source": [
    "feature_df.isna().sum()"
   ]
  },
  {
   "cell_type": "markdown",
   "metadata": {},
   "source": [
    "# Splitting Test & Training"
   ]
  },
  {
   "cell_type": "code",
   "execution_count": 125,
   "metadata": {},
   "outputs": [
    {
     "data": {
      "text/plain": [
       "(93104, 87)"
      ]
     },
     "execution_count": 125,
     "metadata": {},
     "output_type": "execute_result"
    }
   ],
   "source": [
    "df.shape"
   ]
  },
  {
   "cell_type": "code",
   "execution_count": 126,
   "metadata": {},
   "outputs": [],
   "source": [
    "y = feature_df.pop('DelayCategory')\n",
    "X = feature_df"
   ]
  },
  {
   "cell_type": "code",
   "execution_count": 127,
   "metadata": {},
   "outputs": [],
   "source": [
    "X_train, X_test, y_train, y_test = model_selection.train_test_split(X, y, random_state=42, stratify=y)"
   ]
  },
  {
   "cell_type": "markdown",
   "metadata": {},
   "source": [
    "# SMOTE \n",
    "> Synthetic Minority Oversampling Technique"
   ]
  },
  {
   "cell_type": "code",
   "execution_count": 36,
   "metadata": {},
   "outputs": [],
   "source": [
    "# smote = SMOTE(random_state=42)\n",
    "# X_train_smote, y_train_smote = smote.fit_resample(X_train, y_train)"
   ]
  },
  {
   "cell_type": "code",
   "execution_count": 37,
   "metadata": {},
   "outputs": [
    {
     "ename": "NameError",
     "evalue": "name 'y_train_smote' is not defined",
     "output_type": "error",
     "traceback": [
      "\u001b[1;31m---------------------------------------------------------------------------\u001b[0m",
      "\u001b[1;31mNameError\u001b[0m                                 Traceback (most recent call last)",
      "\u001b[1;32m<ipython-input-37-c03c5bf13a04>\u001b[0m in \u001b[0;36m<module>\u001b[1;34m\u001b[0m\n\u001b[1;32m----> 1\u001b[1;33m \u001b[0my_train_smote\u001b[0m\u001b[1;33m.\u001b[0m\u001b[0mvalue_counts\u001b[0m\u001b[1;33m(\u001b[0m\u001b[0mnormalize\u001b[0m\u001b[1;33m=\u001b[0m\u001b[1;32mTrue\u001b[0m\u001b[1;33m)\u001b[0m\u001b[1;33m\u001b[0m\u001b[1;33m\u001b[0m\u001b[0m\n\u001b[0m",
      "\u001b[1;31mNameError\u001b[0m: name 'y_train_smote' is not defined"
     ]
    }
   ],
   "source": [
    "y_train_smote.value_counts(normalize=True)"
   ]
  },
  {
   "cell_type": "markdown",
   "metadata": {},
   "source": [
    "# Modelling"
   ]
  },
  {
   "cell_type": "code",
   "execution_count": 207,
   "metadata": {},
   "outputs": [],
   "source": [
    "mlp = neural_network.MLPClassifier(hidden_layer_sizes=(128, 64))"
   ]
  },
  {
   "cell_type": "code",
   "execution_count": 208,
   "metadata": {},
   "outputs": [],
   "source": [
    "parameters = {\n",
    "    \"activation\": ['identity', 'logistic', 'tanh', 'relu'],\n",
    "    \"solver\": ['lbfgs', 'sgd', 'adam']\n",
    "}"
   ]
  },
  {
   "cell_type": "code",
   "execution_count": 209,
   "metadata": {},
   "outputs": [],
   "source": [
    "clf = model_selection.GridSearchCV(mlp, parameters, verbose=1)"
   ]
  },
  {
   "cell_type": "code",
   "execution_count": 210,
   "metadata": {
    "scrolled": true
   },
   "outputs": [
    {
     "name": "stdout",
     "output_type": "stream",
     "text": [
      "Fitting 5 folds for each of 12 candidates, totalling 60 fits\n"
     ]
    },
    {
     "name": "stderr",
     "output_type": "stream",
     "text": [
      "C:\\Users\\micha\\anaconda3\\lib\\site-packages\\sklearn\\neural_network\\_multilayer_perceptron.py:500: ConvergenceWarning: lbfgs failed to converge (status=1):\n",
      "STOP: TOTAL NO. of ITERATIONS REACHED LIMIT.\n",
      "\n",
      "Increase the number of iterations (max_iter) or scale the data as shown in:\n",
      "    https://scikit-learn.org/stable/modules/preprocessing.html\n",
      "  self.n_iter_ = _check_optimize_result(\"lbfgs\", opt_res, self.max_iter)\n",
      "C:\\Users\\micha\\anaconda3\\lib\\site-packages\\sklearn\\neural_network\\_multilayer_perceptron.py:500: ConvergenceWarning: lbfgs failed to converge (status=1):\n",
      "STOP: TOTAL NO. of ITERATIONS REACHED LIMIT.\n",
      "\n",
      "Increase the number of iterations (max_iter) or scale the data as shown in:\n",
      "    https://scikit-learn.org/stable/modules/preprocessing.html\n",
      "  self.n_iter_ = _check_optimize_result(\"lbfgs\", opt_res, self.max_iter)\n",
      "C:\\Users\\micha\\anaconda3\\lib\\site-packages\\sklearn\\neural_network\\_multilayer_perceptron.py:500: ConvergenceWarning: lbfgs failed to converge (status=1):\n",
      "STOP: TOTAL NO. of ITERATIONS REACHED LIMIT.\n",
      "\n",
      "Increase the number of iterations (max_iter) or scale the data as shown in:\n",
      "    https://scikit-learn.org/stable/modules/preprocessing.html\n",
      "  self.n_iter_ = _check_optimize_result(\"lbfgs\", opt_res, self.max_iter)\n",
      "C:\\Users\\micha\\anaconda3\\lib\\site-packages\\sklearn\\neural_network\\_multilayer_perceptron.py:500: ConvergenceWarning: lbfgs failed to converge (status=1):\n",
      "STOP: TOTAL NO. of ITERATIONS REACHED LIMIT.\n",
      "\n",
      "Increase the number of iterations (max_iter) or scale the data as shown in:\n",
      "    https://scikit-learn.org/stable/modules/preprocessing.html\n",
      "  self.n_iter_ = _check_optimize_result(\"lbfgs\", opt_res, self.max_iter)\n",
      "C:\\Users\\micha\\anaconda3\\lib\\site-packages\\sklearn\\neural_network\\_multilayer_perceptron.py:500: ConvergenceWarning: lbfgs failed to converge (status=1):\n",
      "STOP: TOTAL NO. of ITERATIONS REACHED LIMIT.\n",
      "\n",
      "Increase the number of iterations (max_iter) or scale the data as shown in:\n",
      "    https://scikit-learn.org/stable/modules/preprocessing.html\n",
      "  self.n_iter_ = _check_optimize_result(\"lbfgs\", opt_res, self.max_iter)\n",
      "C:\\Users\\micha\\anaconda3\\lib\\site-packages\\sklearn\\neural_network\\_multilayer_perceptron.py:500: ConvergenceWarning: lbfgs failed to converge (status=1):\n",
      "STOP: TOTAL NO. of ITERATIONS REACHED LIMIT.\n",
      "\n",
      "Increase the number of iterations (max_iter) or scale the data as shown in:\n",
      "    https://scikit-learn.org/stable/modules/preprocessing.html\n",
      "  self.n_iter_ = _check_optimize_result(\"lbfgs\", opt_res, self.max_iter)\n",
      "C:\\Users\\micha\\anaconda3\\lib\\site-packages\\sklearn\\neural_network\\_multilayer_perceptron.py:500: ConvergenceWarning: lbfgs failed to converge (status=1):\n",
      "STOP: TOTAL NO. of ITERATIONS REACHED LIMIT.\n",
      "\n",
      "Increase the number of iterations (max_iter) or scale the data as shown in:\n",
      "    https://scikit-learn.org/stable/modules/preprocessing.html\n",
      "  self.n_iter_ = _check_optimize_result(\"lbfgs\", opt_res, self.max_iter)\n",
      "C:\\Users\\micha\\anaconda3\\lib\\site-packages\\sklearn\\neural_network\\_multilayer_perceptron.py:500: ConvergenceWarning: lbfgs failed to converge (status=1):\n",
      "STOP: TOTAL NO. of ITERATIONS REACHED LIMIT.\n",
      "\n",
      "Increase the number of iterations (max_iter) or scale the data as shown in:\n",
      "    https://scikit-learn.org/stable/modules/preprocessing.html\n",
      "  self.n_iter_ = _check_optimize_result(\"lbfgs\", opt_res, self.max_iter)\n",
      "C:\\Users\\micha\\anaconda3\\lib\\site-packages\\sklearn\\neural_network\\_multilayer_perceptron.py:500: ConvergenceWarning: lbfgs failed to converge (status=1):\n",
      "STOP: TOTAL NO. of ITERATIONS REACHED LIMIT.\n",
      "\n",
      "Increase the number of iterations (max_iter) or scale the data as shown in:\n",
      "    https://scikit-learn.org/stable/modules/preprocessing.html\n",
      "  self.n_iter_ = _check_optimize_result(\"lbfgs\", opt_res, self.max_iter)\n",
      "C:\\Users\\micha\\anaconda3\\lib\\site-packages\\sklearn\\neural_network\\_multilayer_perceptron.py:500: ConvergenceWarning: lbfgs failed to converge (status=1):\n",
      "STOP: TOTAL NO. of ITERATIONS REACHED LIMIT.\n",
      "\n",
      "Increase the number of iterations (max_iter) or scale the data as shown in:\n",
      "    https://scikit-learn.org/stable/modules/preprocessing.html\n",
      "  self.n_iter_ = _check_optimize_result(\"lbfgs\", opt_res, self.max_iter)\n",
      "C:\\Users\\micha\\anaconda3\\lib\\site-packages\\sklearn\\neural_network\\_multilayer_perceptron.py:614: ConvergenceWarning: Stochastic Optimizer: Maximum iterations (200) reached and the optimization hasn't converged yet.\n",
      "  warnings.warn(\n",
      "C:\\Users\\micha\\anaconda3\\lib\\site-packages\\sklearn\\neural_network\\_multilayer_perceptron.py:614: ConvergenceWarning: Stochastic Optimizer: Maximum iterations (200) reached and the optimization hasn't converged yet.\n",
      "  warnings.warn(\n",
      "C:\\Users\\micha\\anaconda3\\lib\\site-packages\\sklearn\\neural_network\\_multilayer_perceptron.py:614: ConvergenceWarning: Stochastic Optimizer: Maximum iterations (200) reached and the optimization hasn't converged yet.\n",
      "  warnings.warn(\n",
      "C:\\Users\\micha\\anaconda3\\lib\\site-packages\\sklearn\\neural_network\\_multilayer_perceptron.py:614: ConvergenceWarning: Stochastic Optimizer: Maximum iterations (200) reached and the optimization hasn't converged yet.\n",
      "  warnings.warn(\n",
      "C:\\Users\\micha\\anaconda3\\lib\\site-packages\\sklearn\\neural_network\\_multilayer_perceptron.py:614: ConvergenceWarning: Stochastic Optimizer: Maximum iterations (200) reached and the optimization hasn't converged yet.\n",
      "  warnings.warn(\n",
      "C:\\Users\\micha\\anaconda3\\lib\\site-packages\\sklearn\\neural_network\\_multilayer_perceptron.py:614: ConvergenceWarning: Stochastic Optimizer: Maximum iterations (200) reached and the optimization hasn't converged yet.\n",
      "  warnings.warn(\n",
      "C:\\Users\\micha\\anaconda3\\lib\\site-packages\\sklearn\\neural_network\\_multilayer_perceptron.py:500: ConvergenceWarning: lbfgs failed to converge (status=1):\n",
      "STOP: TOTAL NO. of ITERATIONS REACHED LIMIT.\n",
      "\n",
      "Increase the number of iterations (max_iter) or scale the data as shown in:\n",
      "    https://scikit-learn.org/stable/modules/preprocessing.html\n",
      "  self.n_iter_ = _check_optimize_result(\"lbfgs\", opt_res, self.max_iter)\n",
      "C:\\Users\\micha\\anaconda3\\lib\\site-packages\\sklearn\\neural_network\\_multilayer_perceptron.py:500: ConvergenceWarning: lbfgs failed to converge (status=1):\n",
      "STOP: TOTAL NO. of ITERATIONS REACHED LIMIT.\n",
      "\n",
      "Increase the number of iterations (max_iter) or scale the data as shown in:\n",
      "    https://scikit-learn.org/stable/modules/preprocessing.html\n",
      "  self.n_iter_ = _check_optimize_result(\"lbfgs\", opt_res, self.max_iter)\n",
      "C:\\Users\\micha\\anaconda3\\lib\\site-packages\\sklearn\\neural_network\\_multilayer_perceptron.py:500: ConvergenceWarning: lbfgs failed to converge (status=1):\n",
      "STOP: TOTAL NO. of ITERATIONS REACHED LIMIT.\n",
      "\n",
      "Increase the number of iterations (max_iter) or scale the data as shown in:\n",
      "    https://scikit-learn.org/stable/modules/preprocessing.html\n",
      "  self.n_iter_ = _check_optimize_result(\"lbfgs\", opt_res, self.max_iter)\n",
      "C:\\Users\\micha\\anaconda3\\lib\\site-packages\\sklearn\\neural_network\\_multilayer_perceptron.py:500: ConvergenceWarning: lbfgs failed to converge (status=1):\n",
      "STOP: TOTAL NO. of ITERATIONS REACHED LIMIT.\n",
      "\n",
      "Increase the number of iterations (max_iter) or scale the data as shown in:\n",
      "    https://scikit-learn.org/stable/modules/preprocessing.html\n",
      "  self.n_iter_ = _check_optimize_result(\"lbfgs\", opt_res, self.max_iter)\n",
      "C:\\Users\\micha\\anaconda3\\lib\\site-packages\\sklearn\\neural_network\\_multilayer_perceptron.py:500: ConvergenceWarning: lbfgs failed to converge (status=1):\n",
      "STOP: TOTAL NO. of ITERATIONS REACHED LIMIT.\n",
      "\n",
      "Increase the number of iterations (max_iter) or scale the data as shown in:\n",
      "    https://scikit-learn.org/stable/modules/preprocessing.html\n",
      "  self.n_iter_ = _check_optimize_result(\"lbfgs\", opt_res, self.max_iter)\n",
      "C:\\Users\\micha\\anaconda3\\lib\\site-packages\\sklearn\\neural_network\\_multilayer_perceptron.py:614: ConvergenceWarning: Stochastic Optimizer: Maximum iterations (200) reached and the optimization hasn't converged yet.\n",
      "  warnings.warn(\n",
      "C:\\Users\\micha\\anaconda3\\lib\\site-packages\\sklearn\\neural_network\\_multilayer_perceptron.py:614: ConvergenceWarning: Stochastic Optimizer: Maximum iterations (200) reached and the optimization hasn't converged yet.\n",
      "  warnings.warn(\n",
      "C:\\Users\\micha\\anaconda3\\lib\\site-packages\\sklearn\\neural_network\\_multilayer_perceptron.py:614: ConvergenceWarning: Stochastic Optimizer: Maximum iterations (200) reached and the optimization hasn't converged yet.\n",
      "  warnings.warn(\n"
     ]
    },
    {
     "name": "stderr",
     "output_type": "stream",
     "text": [
      "C:\\Users\\micha\\anaconda3\\lib\\site-packages\\sklearn\\neural_network\\_multilayer_perceptron.py:614: ConvergenceWarning: Stochastic Optimizer: Maximum iterations (200) reached and the optimization hasn't converged yet.\n",
      "  warnings.warn(\n",
      "C:\\Users\\micha\\anaconda3\\lib\\site-packages\\sklearn\\neural_network\\_multilayer_perceptron.py:614: ConvergenceWarning: Stochastic Optimizer: Maximum iterations (200) reached and the optimization hasn't converged yet.\n",
      "  warnings.warn(\n",
      "C:\\Users\\micha\\anaconda3\\lib\\site-packages\\sklearn\\neural_network\\_multilayer_perceptron.py:614: ConvergenceWarning: Stochastic Optimizer: Maximum iterations (200) reached and the optimization hasn't converged yet.\n",
      "  warnings.warn(\n",
      "C:\\Users\\micha\\anaconda3\\lib\\site-packages\\sklearn\\neural_network\\_multilayer_perceptron.py:614: ConvergenceWarning: Stochastic Optimizer: Maximum iterations (200) reached and the optimization hasn't converged yet.\n",
      "  warnings.warn(\n",
      "C:\\Users\\micha\\anaconda3\\lib\\site-packages\\sklearn\\neural_network\\_multilayer_perceptron.py:614: ConvergenceWarning: Stochastic Optimizer: Maximum iterations (200) reached and the optimization hasn't converged yet.\n",
      "  warnings.warn(\n",
      "C:\\Users\\micha\\anaconda3\\lib\\site-packages\\sklearn\\neural_network\\_multilayer_perceptron.py:614: ConvergenceWarning: Stochastic Optimizer: Maximum iterations (200) reached and the optimization hasn't converged yet.\n",
      "  warnings.warn(\n",
      "C:\\Users\\micha\\anaconda3\\lib\\site-packages\\sklearn\\neural_network\\_multilayer_perceptron.py:614: ConvergenceWarning: Stochastic Optimizer: Maximum iterations (200) reached and the optimization hasn't converged yet.\n",
      "  warnings.warn(\n",
      "C:\\Users\\micha\\anaconda3\\lib\\site-packages\\sklearn\\neural_network\\_multilayer_perceptron.py:500: ConvergenceWarning: lbfgs failed to converge (status=1):\n",
      "STOP: TOTAL NO. of ITERATIONS REACHED LIMIT.\n",
      "\n",
      "Increase the number of iterations (max_iter) or scale the data as shown in:\n",
      "    https://scikit-learn.org/stable/modules/preprocessing.html\n",
      "  self.n_iter_ = _check_optimize_result(\"lbfgs\", opt_res, self.max_iter)\n",
      "C:\\Users\\micha\\anaconda3\\lib\\site-packages\\sklearn\\neural_network\\_multilayer_perceptron.py:500: ConvergenceWarning: lbfgs failed to converge (status=1):\n",
      "STOP: TOTAL NO. of ITERATIONS REACHED LIMIT.\n",
      "\n",
      "Increase the number of iterations (max_iter) or scale the data as shown in:\n",
      "    https://scikit-learn.org/stable/modules/preprocessing.html\n",
      "  self.n_iter_ = _check_optimize_result(\"lbfgs\", opt_res, self.max_iter)\n",
      "C:\\Users\\micha\\anaconda3\\lib\\site-packages\\sklearn\\neural_network\\_multilayer_perceptron.py:500: ConvergenceWarning: lbfgs failed to converge (status=1):\n",
      "STOP: TOTAL NO. of ITERATIONS REACHED LIMIT.\n",
      "\n",
      "Increase the number of iterations (max_iter) or scale the data as shown in:\n",
      "    https://scikit-learn.org/stable/modules/preprocessing.html\n",
      "  self.n_iter_ = _check_optimize_result(\"lbfgs\", opt_res, self.max_iter)\n",
      "C:\\Users\\micha\\anaconda3\\lib\\site-packages\\sklearn\\neural_network\\_multilayer_perceptron.py:500: ConvergenceWarning: lbfgs failed to converge (status=1):\n",
      "STOP: TOTAL NO. of ITERATIONS REACHED LIMIT.\n",
      "\n",
      "Increase the number of iterations (max_iter) or scale the data as shown in:\n",
      "    https://scikit-learn.org/stable/modules/preprocessing.html\n",
      "  self.n_iter_ = _check_optimize_result(\"lbfgs\", opt_res, self.max_iter)\n",
      "C:\\Users\\micha\\anaconda3\\lib\\site-packages\\sklearn\\neural_network\\_multilayer_perceptron.py:500: ConvergenceWarning: lbfgs failed to converge (status=1):\n",
      "STOP: TOTAL NO. of ITERATIONS REACHED LIMIT.\n",
      "\n",
      "Increase the number of iterations (max_iter) or scale the data as shown in:\n",
      "    https://scikit-learn.org/stable/modules/preprocessing.html\n",
      "  self.n_iter_ = _check_optimize_result(\"lbfgs\", opt_res, self.max_iter)\n",
      "C:\\Users\\micha\\anaconda3\\lib\\site-packages\\sklearn\\neural_network\\_multilayer_perceptron.py:614: ConvergenceWarning: Stochastic Optimizer: Maximum iterations (200) reached and the optimization hasn't converged yet.\n",
      "  warnings.warn(\n",
      "C:\\Users\\micha\\anaconda3\\lib\\site-packages\\sklearn\\neural_network\\_multilayer_perceptron.py:614: ConvergenceWarning: Stochastic Optimizer: Maximum iterations (200) reached and the optimization hasn't converged yet.\n",
      "  warnings.warn(\n",
      "C:\\Users\\micha\\anaconda3\\lib\\site-packages\\sklearn\\neural_network\\_multilayer_perceptron.py:614: ConvergenceWarning: Stochastic Optimizer: Maximum iterations (200) reached and the optimization hasn't converged yet.\n",
      "  warnings.warn(\n",
      "C:\\Users\\micha\\anaconda3\\lib\\site-packages\\sklearn\\neural_network\\_multilayer_perceptron.py:614: ConvergenceWarning: Stochastic Optimizer: Maximum iterations (200) reached and the optimization hasn't converged yet.\n",
      "  warnings.warn(\n",
      "C:\\Users\\micha\\anaconda3\\lib\\site-packages\\sklearn\\neural_network\\_multilayer_perceptron.py:614: ConvergenceWarning: Stochastic Optimizer: Maximum iterations (200) reached and the optimization hasn't converged yet.\n",
      "  warnings.warn(\n",
      "C:\\Users\\micha\\anaconda3\\lib\\site-packages\\sklearn\\neural_network\\_multilayer_perceptron.py:614: ConvergenceWarning: Stochastic Optimizer: Maximum iterations (200) reached and the optimization hasn't converged yet.\n",
      "  warnings.warn(\n",
      "C:\\Users\\micha\\anaconda3\\lib\\site-packages\\sklearn\\neural_network\\_multilayer_perceptron.py:614: ConvergenceWarning: Stochastic Optimizer: Maximum iterations (200) reached and the optimization hasn't converged yet.\n",
      "  warnings.warn(\n",
      "C:\\Users\\micha\\anaconda3\\lib\\site-packages\\sklearn\\neural_network\\_multilayer_perceptron.py:614: ConvergenceWarning: Stochastic Optimizer: Maximum iterations (200) reached and the optimization hasn't converged yet.\n",
      "  warnings.warn(\n",
      "C:\\Users\\micha\\anaconda3\\lib\\site-packages\\sklearn\\neural_network\\_multilayer_perceptron.py:614: ConvergenceWarning: Stochastic Optimizer: Maximum iterations (200) reached and the optimization hasn't converged yet.\n",
      "  warnings.warn(\n",
      "C:\\Users\\micha\\anaconda3\\lib\\site-packages\\sklearn\\neural_network\\_multilayer_perceptron.py:614: ConvergenceWarning: Stochastic Optimizer: Maximum iterations (200) reached and the optimization hasn't converged yet.\n",
      "  warnings.warn(\n",
      "C:\\Users\\micha\\anaconda3\\lib\\site-packages\\sklearn\\neural_network\\_multilayer_perceptron.py:614: ConvergenceWarning: Stochastic Optimizer: Maximum iterations (200) reached and the optimization hasn't converged yet.\n",
      "  warnings.warn(\n"
     ]
    },
    {
     "data": {
      "text/plain": [
       "GridSearchCV(estimator=MLPClassifier(hidden_layer_sizes=(128, 64)),\n",
       "             param_grid={'activation': ['identity', 'logistic', 'tanh', 'relu'],\n",
       "                         'solver': ['lbfgs', 'sgd', 'adam']},\n",
       "             verbose=1)"
      ]
     },
     "execution_count": 210,
     "metadata": {},
     "output_type": "execute_result"
    }
   ],
   "source": [
    "clf.fit(X_train_smote, y_train_smote)"
   ]
  },
  {
   "cell_type": "code",
   "execution_count": 211,
   "metadata": {},
   "outputs": [
    {
     "data": {
      "text/plain": [
       "{'mean_fit_time': array([ 50.95010028,  38.66760116,  34.75380306, 122.69960151,\n",
       "        139.79240003, 243.21356544, 151.97480044, 198.03339844,\n",
       "        251.41321263, 119.75340128, 209.21429915, 401.91609883]),\n",
       " 'std_fit_time': array([  0.83700963,   5.40928342,  16.48150552,   4.82058202,\n",
       "         13.16337655, 126.25962296,   3.13918347,   8.68423453,\n",
       "         12.20863558,   2.24103819,   1.12884391,  18.63899343]),\n",
       " 'mean_score_time': array([0.06939902, 0.06289873, 0.07459712, 0.11069851, 0.11019955,\n",
       "        0.22350073, 0.17589893, 0.15010028, 0.19138694, 0.11399875,\n",
       "        0.10990129, 0.2048018 ]),\n",
       " 'std_score_time': array([0.00354058, 0.00472517, 0.00614197, 0.00451297, 0.00348645,\n",
       "        0.22576269, 0.0153373 , 0.00562371, 0.02627678, 0.00930099,\n",
       "        0.00815037, 0.01437708]),\n",
       " 'param_activation': masked_array(data=['identity', 'identity', 'identity', 'logistic',\n",
       "                    'logistic', 'logistic', 'tanh', 'tanh', 'tanh', 'relu',\n",
       "                    'relu', 'relu'],\n",
       "              mask=[False, False, False, False, False, False, False, False,\n",
       "                    False, False, False, False],\n",
       "        fill_value='?',\n",
       "             dtype=object),\n",
       " 'param_solver': masked_array(data=['lbfgs', 'sgd', 'adam', 'lbfgs', 'sgd', 'adam',\n",
       "                    'lbfgs', 'sgd', 'adam', 'lbfgs', 'sgd', 'adam'],\n",
       "              mask=[False, False, False, False, False, False, False, False,\n",
       "                    False, False, False, False],\n",
       "        fill_value='?',\n",
       "             dtype=object),\n",
       " 'params': [{'activation': 'identity', 'solver': 'lbfgs'},\n",
       "  {'activation': 'identity', 'solver': 'sgd'},\n",
       "  {'activation': 'identity', 'solver': 'adam'},\n",
       "  {'activation': 'logistic', 'solver': 'lbfgs'},\n",
       "  {'activation': 'logistic', 'solver': 'sgd'},\n",
       "  {'activation': 'logistic', 'solver': 'adam'},\n",
       "  {'activation': 'tanh', 'solver': 'lbfgs'},\n",
       "  {'activation': 'tanh', 'solver': 'sgd'},\n",
       "  {'activation': 'tanh', 'solver': 'adam'},\n",
       "  {'activation': 'relu', 'solver': 'lbfgs'},\n",
       "  {'activation': 'relu', 'solver': 'sgd'},\n",
       "  {'activation': 'relu', 'solver': 'adam'}],\n",
       " 'split0_test_score': array([0.29842073, 0.27620155, 0.29513913, 0.29677993, 0.27968825,\n",
       "        0.58190333, 0.37136802, 0.34029534, 0.6735831 , 0.4100294 ,\n",
       "        0.4377521 , 0.69590483]),\n",
       " 'split1_test_score': array([0.29883093, 0.27582553, 0.29421618, 0.3060778 , 0.27035619,\n",
       "        0.58651808, 0.36589868, 0.36005333, 0.67908662, 0.39909072,\n",
       "        0.46338962, 0.68076161]),\n",
       " 'split2_test_score': array([0.29948041, 0.28054283, 0.2984891 , 0.31858891, 0.27114241,\n",
       "        0.58333903, 0.38750256, 0.3679155 , 0.68486361, 0.41088398,\n",
       "        0.46680796, 0.69060641]),\n",
       " 'split3_test_score': array([0.3011554 , 0.28526014, 0.3001299 , 0.29226772, 0.27924386,\n",
       "        0.57520339, 0.3907158 , 0.35482327, 0.68281261, 0.40483353,\n",
       "        0.46356054, 0.7002803 ]),\n",
       " 'split4_test_score': array([0.2993095 , 0.29339577, 0.30539413, 0.30471047, 0.27914131,\n",
       "        0.57499829, 0.37129965, 0.36330075, 0.67710399, 0.41871197,\n",
       "        0.47436248, 0.69610993]),\n",
       " 'mean_test_score': array([0.29943939, 0.28224516, 0.29867369, 0.30368497, 0.2759144 ,\n",
       "        0.58039242, 0.37735694, 0.35727764, 0.67948998, 0.40870992,\n",
       "        0.46117454, 0.69273262]),\n",
       " 'std_test_score': array([0.000935  , 0.00654311, 0.00399203, 0.00902151, 0.00422861,\n",
       "        0.00457191, 0.00985132, 0.00950335, 0.00401653, 0.00654315,\n",
       "        0.01236824, 0.006727  ]),\n",
       " 'rank_test_score': array([ 9, 11, 10,  8, 12,  3,  6,  7,  2,  5,  4,  1])}"
      ]
     },
     "execution_count": 211,
     "metadata": {},
     "output_type": "execute_result"
    }
   ],
   "source": [
    "clf.cv_results_"
   ]
  },
  {
   "cell_type": "code",
   "execution_count": 212,
   "metadata": {},
   "outputs": [],
   "source": [
    "res_df = pd.DataFrame(clf.cv_results_)"
   ]
  },
  {
   "cell_type": "code",
   "execution_count": 213,
   "metadata": {},
   "outputs": [
    {
     "data": {
      "text/html": [
       "<div>\n",
       "<style scoped>\n",
       "    .dataframe tbody tr th:only-of-type {\n",
       "        vertical-align: middle;\n",
       "    }\n",
       "\n",
       "    .dataframe tbody tr th {\n",
       "        vertical-align: top;\n",
       "    }\n",
       "\n",
       "    .dataframe thead th {\n",
       "        text-align: right;\n",
       "    }\n",
       "</style>\n",
       "<table border=\"1\" class=\"dataframe\">\n",
       "  <thead>\n",
       "    <tr style=\"text-align: right;\">\n",
       "      <th></th>\n",
       "      <th>mean_fit_time</th>\n",
       "      <th>std_fit_time</th>\n",
       "      <th>mean_score_time</th>\n",
       "      <th>std_score_time</th>\n",
       "      <th>param_activation</th>\n",
       "      <th>param_solver</th>\n",
       "      <th>params</th>\n",
       "      <th>split0_test_score</th>\n",
       "      <th>split1_test_score</th>\n",
       "      <th>split2_test_score</th>\n",
       "      <th>split3_test_score</th>\n",
       "      <th>split4_test_score</th>\n",
       "      <th>mean_test_score</th>\n",
       "      <th>std_test_score</th>\n",
       "      <th>rank_test_score</th>\n",
       "    </tr>\n",
       "  </thead>\n",
       "  <tbody>\n",
       "    <tr>\n",
       "      <th>11</th>\n",
       "      <td>401.916099</td>\n",
       "      <td>18.638993</td>\n",
       "      <td>0.204802</td>\n",
       "      <td>0.014377</td>\n",
       "      <td>relu</td>\n",
       "      <td>adam</td>\n",
       "      <td>{'activation': 'relu', 'solver': 'adam'}</td>\n",
       "      <td>0.695905</td>\n",
       "      <td>0.680762</td>\n",
       "      <td>0.690606</td>\n",
       "      <td>0.700280</td>\n",
       "      <td>0.696110</td>\n",
       "      <td>0.692733</td>\n",
       "      <td>0.006727</td>\n",
       "      <td>1</td>\n",
       "    </tr>\n",
       "    <tr>\n",
       "      <th>8</th>\n",
       "      <td>251.413213</td>\n",
       "      <td>12.208636</td>\n",
       "      <td>0.191387</td>\n",
       "      <td>0.026277</td>\n",
       "      <td>tanh</td>\n",
       "      <td>adam</td>\n",
       "      <td>{'activation': 'tanh', 'solver': 'adam'}</td>\n",
       "      <td>0.673583</td>\n",
       "      <td>0.679087</td>\n",
       "      <td>0.684864</td>\n",
       "      <td>0.682813</td>\n",
       "      <td>0.677104</td>\n",
       "      <td>0.679490</td>\n",
       "      <td>0.004017</td>\n",
       "      <td>2</td>\n",
       "    </tr>\n",
       "    <tr>\n",
       "      <th>5</th>\n",
       "      <td>243.213565</td>\n",
       "      <td>126.259623</td>\n",
       "      <td>0.223501</td>\n",
       "      <td>0.225763</td>\n",
       "      <td>logistic</td>\n",
       "      <td>adam</td>\n",
       "      <td>{'activation': 'logistic', 'solver': 'adam'}</td>\n",
       "      <td>0.581903</td>\n",
       "      <td>0.586518</td>\n",
       "      <td>0.583339</td>\n",
       "      <td>0.575203</td>\n",
       "      <td>0.574998</td>\n",
       "      <td>0.580392</td>\n",
       "      <td>0.004572</td>\n",
       "      <td>3</td>\n",
       "    </tr>\n",
       "    <tr>\n",
       "      <th>10</th>\n",
       "      <td>209.214299</td>\n",
       "      <td>1.128844</td>\n",
       "      <td>0.109901</td>\n",
       "      <td>0.008150</td>\n",
       "      <td>relu</td>\n",
       "      <td>sgd</td>\n",
       "      <td>{'activation': 'relu', 'solver': 'sgd'}</td>\n",
       "      <td>0.437752</td>\n",
       "      <td>0.463390</td>\n",
       "      <td>0.466808</td>\n",
       "      <td>0.463561</td>\n",
       "      <td>0.474362</td>\n",
       "      <td>0.461175</td>\n",
       "      <td>0.012368</td>\n",
       "      <td>4</td>\n",
       "    </tr>\n",
       "    <tr>\n",
       "      <th>9</th>\n",
       "      <td>119.753401</td>\n",
       "      <td>2.241038</td>\n",
       "      <td>0.113999</td>\n",
       "      <td>0.009301</td>\n",
       "      <td>relu</td>\n",
       "      <td>lbfgs</td>\n",
       "      <td>{'activation': 'relu', 'solver': 'lbfgs'}</td>\n",
       "      <td>0.410029</td>\n",
       "      <td>0.399091</td>\n",
       "      <td>0.410884</td>\n",
       "      <td>0.404834</td>\n",
       "      <td>0.418712</td>\n",
       "      <td>0.408710</td>\n",
       "      <td>0.006543</td>\n",
       "      <td>5</td>\n",
       "    </tr>\n",
       "    <tr>\n",
       "      <th>6</th>\n",
       "      <td>151.974800</td>\n",
       "      <td>3.139183</td>\n",
       "      <td>0.175899</td>\n",
       "      <td>0.015337</td>\n",
       "      <td>tanh</td>\n",
       "      <td>lbfgs</td>\n",
       "      <td>{'activation': 'tanh', 'solver': 'lbfgs'}</td>\n",
       "      <td>0.371368</td>\n",
       "      <td>0.365899</td>\n",
       "      <td>0.387503</td>\n",
       "      <td>0.390716</td>\n",
       "      <td>0.371300</td>\n",
       "      <td>0.377357</td>\n",
       "      <td>0.009851</td>\n",
       "      <td>6</td>\n",
       "    </tr>\n",
       "    <tr>\n",
       "      <th>7</th>\n",
       "      <td>198.033398</td>\n",
       "      <td>8.684235</td>\n",
       "      <td>0.150100</td>\n",
       "      <td>0.005624</td>\n",
       "      <td>tanh</td>\n",
       "      <td>sgd</td>\n",
       "      <td>{'activation': 'tanh', 'solver': 'sgd'}</td>\n",
       "      <td>0.340295</td>\n",
       "      <td>0.360053</td>\n",
       "      <td>0.367915</td>\n",
       "      <td>0.354823</td>\n",
       "      <td>0.363301</td>\n",
       "      <td>0.357278</td>\n",
       "      <td>0.009503</td>\n",
       "      <td>7</td>\n",
       "    </tr>\n",
       "    <tr>\n",
       "      <th>3</th>\n",
       "      <td>122.699602</td>\n",
       "      <td>4.820582</td>\n",
       "      <td>0.110699</td>\n",
       "      <td>0.004513</td>\n",
       "      <td>logistic</td>\n",
       "      <td>lbfgs</td>\n",
       "      <td>{'activation': 'logistic', 'solver': 'lbfgs'}</td>\n",
       "      <td>0.296780</td>\n",
       "      <td>0.306078</td>\n",
       "      <td>0.318589</td>\n",
       "      <td>0.292268</td>\n",
       "      <td>0.304710</td>\n",
       "      <td>0.303685</td>\n",
       "      <td>0.009022</td>\n",
       "      <td>8</td>\n",
       "    </tr>\n",
       "    <tr>\n",
       "      <th>0</th>\n",
       "      <td>50.950100</td>\n",
       "      <td>0.837010</td>\n",
       "      <td>0.069399</td>\n",
       "      <td>0.003541</td>\n",
       "      <td>identity</td>\n",
       "      <td>lbfgs</td>\n",
       "      <td>{'activation': 'identity', 'solver': 'lbfgs'}</td>\n",
       "      <td>0.298421</td>\n",
       "      <td>0.298831</td>\n",
       "      <td>0.299480</td>\n",
       "      <td>0.301155</td>\n",
       "      <td>0.299309</td>\n",
       "      <td>0.299439</td>\n",
       "      <td>0.000935</td>\n",
       "      <td>9</td>\n",
       "    </tr>\n",
       "    <tr>\n",
       "      <th>2</th>\n",
       "      <td>34.753803</td>\n",
       "      <td>16.481506</td>\n",
       "      <td>0.074597</td>\n",
       "      <td>0.006142</td>\n",
       "      <td>identity</td>\n",
       "      <td>adam</td>\n",
       "      <td>{'activation': 'identity', 'solver': 'adam'}</td>\n",
       "      <td>0.295139</td>\n",
       "      <td>0.294216</td>\n",
       "      <td>0.298489</td>\n",
       "      <td>0.300130</td>\n",
       "      <td>0.305394</td>\n",
       "      <td>0.298674</td>\n",
       "      <td>0.003992</td>\n",
       "      <td>10</td>\n",
       "    </tr>\n",
       "    <tr>\n",
       "      <th>1</th>\n",
       "      <td>38.667601</td>\n",
       "      <td>5.409283</td>\n",
       "      <td>0.062899</td>\n",
       "      <td>0.004725</td>\n",
       "      <td>identity</td>\n",
       "      <td>sgd</td>\n",
       "      <td>{'activation': 'identity', 'solver': 'sgd'}</td>\n",
       "      <td>0.276202</td>\n",
       "      <td>0.275826</td>\n",
       "      <td>0.280543</td>\n",
       "      <td>0.285260</td>\n",
       "      <td>0.293396</td>\n",
       "      <td>0.282245</td>\n",
       "      <td>0.006543</td>\n",
       "      <td>11</td>\n",
       "    </tr>\n",
       "    <tr>\n",
       "      <th>4</th>\n",
       "      <td>139.792400</td>\n",
       "      <td>13.163377</td>\n",
       "      <td>0.110200</td>\n",
       "      <td>0.003486</td>\n",
       "      <td>logistic</td>\n",
       "      <td>sgd</td>\n",
       "      <td>{'activation': 'logistic', 'solver': 'sgd'}</td>\n",
       "      <td>0.279688</td>\n",
       "      <td>0.270356</td>\n",
       "      <td>0.271142</td>\n",
       "      <td>0.279244</td>\n",
       "      <td>0.279141</td>\n",
       "      <td>0.275914</td>\n",
       "      <td>0.004229</td>\n",
       "      <td>12</td>\n",
       "    </tr>\n",
       "  </tbody>\n",
       "</table>\n",
       "</div>"
      ],
      "text/plain": [
       "    mean_fit_time  std_fit_time  mean_score_time  std_score_time  \\\n",
       "11     401.916099     18.638993         0.204802        0.014377   \n",
       "8      251.413213     12.208636         0.191387        0.026277   \n",
       "5      243.213565    126.259623         0.223501        0.225763   \n",
       "10     209.214299      1.128844         0.109901        0.008150   \n",
       "9      119.753401      2.241038         0.113999        0.009301   \n",
       "6      151.974800      3.139183         0.175899        0.015337   \n",
       "7      198.033398      8.684235         0.150100        0.005624   \n",
       "3      122.699602      4.820582         0.110699        0.004513   \n",
       "0       50.950100      0.837010         0.069399        0.003541   \n",
       "2       34.753803     16.481506         0.074597        0.006142   \n",
       "1       38.667601      5.409283         0.062899        0.004725   \n",
       "4      139.792400     13.163377         0.110200        0.003486   \n",
       "\n",
       "   param_activation param_solver  \\\n",
       "11             relu         adam   \n",
       "8              tanh         adam   \n",
       "5          logistic         adam   \n",
       "10             relu          sgd   \n",
       "9              relu        lbfgs   \n",
       "6              tanh        lbfgs   \n",
       "7              tanh          sgd   \n",
       "3          logistic        lbfgs   \n",
       "0          identity        lbfgs   \n",
       "2          identity         adam   \n",
       "1          identity          sgd   \n",
       "4          logistic          sgd   \n",
       "\n",
       "                                           params  split0_test_score  \\\n",
       "11       {'activation': 'relu', 'solver': 'adam'}           0.695905   \n",
       "8        {'activation': 'tanh', 'solver': 'adam'}           0.673583   \n",
       "5    {'activation': 'logistic', 'solver': 'adam'}           0.581903   \n",
       "10        {'activation': 'relu', 'solver': 'sgd'}           0.437752   \n",
       "9       {'activation': 'relu', 'solver': 'lbfgs'}           0.410029   \n",
       "6       {'activation': 'tanh', 'solver': 'lbfgs'}           0.371368   \n",
       "7         {'activation': 'tanh', 'solver': 'sgd'}           0.340295   \n",
       "3   {'activation': 'logistic', 'solver': 'lbfgs'}           0.296780   \n",
       "0   {'activation': 'identity', 'solver': 'lbfgs'}           0.298421   \n",
       "2    {'activation': 'identity', 'solver': 'adam'}           0.295139   \n",
       "1     {'activation': 'identity', 'solver': 'sgd'}           0.276202   \n",
       "4     {'activation': 'logistic', 'solver': 'sgd'}           0.279688   \n",
       "\n",
       "    split1_test_score  split2_test_score  split3_test_score  \\\n",
       "11           0.680762           0.690606           0.700280   \n",
       "8            0.679087           0.684864           0.682813   \n",
       "5            0.586518           0.583339           0.575203   \n",
       "10           0.463390           0.466808           0.463561   \n",
       "9            0.399091           0.410884           0.404834   \n",
       "6            0.365899           0.387503           0.390716   \n",
       "7            0.360053           0.367915           0.354823   \n",
       "3            0.306078           0.318589           0.292268   \n",
       "0            0.298831           0.299480           0.301155   \n",
       "2            0.294216           0.298489           0.300130   \n",
       "1            0.275826           0.280543           0.285260   \n",
       "4            0.270356           0.271142           0.279244   \n",
       "\n",
       "    split4_test_score  mean_test_score  std_test_score  rank_test_score  \n",
       "11           0.696110         0.692733        0.006727                1  \n",
       "8            0.677104         0.679490        0.004017                2  \n",
       "5            0.574998         0.580392        0.004572                3  \n",
       "10           0.474362         0.461175        0.012368                4  \n",
       "9            0.418712         0.408710        0.006543                5  \n",
       "6            0.371300         0.377357        0.009851                6  \n",
       "7            0.363301         0.357278        0.009503                7  \n",
       "3            0.304710         0.303685        0.009022                8  \n",
       "0            0.299309         0.299439        0.000935                9  \n",
       "2            0.305394         0.298674        0.003992               10  \n",
       "1            0.293396         0.282245        0.006543               11  \n",
       "4            0.279141         0.275914        0.004229               12  "
      ]
     },
     "execution_count": 213,
     "metadata": {},
     "output_type": "execute_result"
    }
   ],
   "source": [
    "res_df.sort_values('rank_test_score')"
   ]
  },
  {
   "cell_type": "code",
   "execution_count": 214,
   "metadata": {},
   "outputs": [],
   "source": [
    "y_pred = clf.best_estimator_.predict(X_test)"
   ]
  },
  {
   "cell_type": "code",
   "execution_count": 215,
   "metadata": {},
   "outputs": [],
   "source": [
    "labels = ['No Delay', '<5', '<10', '<15', '>15']"
   ]
  },
  {
   "cell_type": "code",
   "execution_count": 220,
   "metadata": {},
   "outputs": [
    {
     "name": "stdout",
     "output_type": "stream",
     "text": [
      "[[0.5136612  0.05191257 0.21584699 0.04098361 0.17759563]\n",
      " [0.23333333 0.36666667 0.175      0.11666667 0.10833333]\n",
      " [0.24558196 0.03778184 0.39183425 0.03290676 0.29189519]\n",
      " [0.11046512 0.00581395 0.11627907 0.65116279 0.11627907]\n",
      " [0.22255072 0.03180752 0.27362626 0.04964828 0.42236721]]\n"
     ]
    },
    {
     "data": {
      "image/png": "[encoded data removed]",
      "text/plain": [
       "<Figure size 720x720 with 2 Axes>"
      ]
     },
     "metadata": {
      "needs_background": "light"
     },
     "output_type": "display_data"
    }
   ],
   "source": [
    "disp = metrics.plot_confusion_matrix(clf.best_estimator_, X_test, y_test,\n",
    "                              display_labels=labels,\n",
    "                              cmap=plt.cm.Blues,\n",
    "                              normalize='true')\n",
    "disp.ax_.set_title(\"Normalized confusion matrix\")\n",
    "disp.figure_.set_size_inches(10, 10)\n",
    "\n",
    "print(disp.confusion_matrix)\n",
    "\n",
    "plt.show()"
   ]
  },
  {
   "cell_type": "code",
   "execution_count": 221,
   "metadata": {},
   "outputs": [
    {
     "data": {
      "text/plain": [
       "MLPClassifier(hidden_layer_sizes=(128, 64))"
      ]
     },
     "execution_count": 221,
     "metadata": {},
     "output_type": "execute_result"
    }
   ],
   "source": [
    "clf.best_estimator_"
   ]
  },
  {
   "cell_type": "code",
   "execution_count": 222,
   "metadata": {},
   "outputs": [
    {
     "data": {
      "text/plain": [
       "{'activation': 'relu', 'solver': 'adam'}"
      ]
     },
     "execution_count": 222,
     "metadata": {},
     "output_type": "execute_result"
    }
   ],
   "source": [
    "clf.best_params_"
   ]
  },
  {
   "cell_type": "markdown",
   "metadata": {},
   "source": [
    "# Best Neural Network params"
   ]
  },
  {
   "cell_type": "code",
   "execution_count": 45,
   "metadata": {
    "scrolled": true
   },
   "outputs": [
    {
     "data": {
      "text/plain": [
       "[4, 2, 0, 1, 3]"
      ]
     },
     "execution_count": 45,
     "metadata": {},
     "output_type": "execute_result"
    }
   ],
   "source": [
    "['No Delay', '<5', '<10', '<15', '>15']\n",
    "[4, 2, 0, 1, 3]"
   ]
  },
  {
   "cell_type": "code",
   "execution_count": 46,
   "metadata": {},
   "outputs": [
    {
     "data": {
      "text/plain": [
       "4    0.822912\n",
       "2    0.132147\n",
       "0    0.025935\n",
       "3    0.011658\n",
       "1    0.007348\n",
       "Name: DelayCategory, dtype: float64"
      ]
     },
     "execution_count": 46,
     "metadata": {},
     "output_type": "execute_result"
    }
   ],
   "source": [
    "y_train.value_counts(normalize=True)"
   ]
  },
  {
   "cell_type": "code",
   "execution_count": 47,
   "metadata": {},
   "outputs": [
    {
     "data": {
      "text/plain": [
       "4    0.822912\n",
       "2    0.132133\n",
       "0    0.025949\n",
       "3    0.011629\n",
       "1    0.007377\n",
       "Name: DelayCategory, dtype: float64"
      ]
     },
     "execution_count": 47,
     "metadata": {},
     "output_type": "execute_result"
    }
   ],
   "source": [
    "y_test.value_counts(normalize=True)"
   ]
  },
  {
   "cell_type": "code",
   "execution_count": 128,
   "metadata": {},
   "outputs": [],
   "source": [
    "n = 75856 * 2\n",
    "smote = SMOTENC(categorical_features=[0, 1, 5, 6, 7], \n",
    "                sampling_strategy='auto',\n",
    "                random_state=42\n",
    "               )\n",
    "X_train_smote, y_train_smote = smote.fit_resample(X_train, y_train)"
   ]
  },
  {
   "cell_type": "code",
   "execution_count": 129,
   "metadata": {},
   "outputs": [
    {
     "data": {
      "text/plain": [
       "4    0.2\n",
       "3    0.2\n",
       "2    0.2\n",
       "1    0.2\n",
       "0    0.2\n",
       "Name: DelayCategory, dtype: float64"
      ]
     },
     "execution_count": 129,
     "metadata": {},
     "output_type": "execute_result"
    }
   ],
   "source": [
    "y_train_smote.value_counts(normalize=True)"
   ]
  },
  {
   "cell_type": "code",
   "execution_count": 55,
   "metadata": {},
   "outputs": [],
   "source": [
    "clf = neural_network.MLPClassifier(hidden_layer_sizes=(128, 64), activation='relu', solver='adam')"
   ]
  },
  {
   "cell_type": "code",
   "execution_count": 51,
   "metadata": {
    "scrolled": false
   },
   "outputs": [
    {
     "name": "stderr",
     "output_type": "stream",
     "text": [
      "C:\\Users\\micha\\anaconda3\\lib\\site-packages\\sklearn\\neural_network\\_multilayer_perceptron.py:614: ConvergenceWarning: Stochastic Optimizer: Maximum iterations (200) reached and the optimization hasn't converged yet.\n",
      "  warnings.warn(\n"
     ]
    },
    {
     "data": {
      "text/plain": [
       "MLPClassifier(hidden_layer_sizes=(256, 128, 64))"
      ]
     },
     "execution_count": 51,
     "metadata": {},
     "output_type": "execute_result"
    }
   ],
   "source": [
    "clf.fit(X_train_smote, y_train_smote)"
   ]
  },
  {
   "cell_type": "code",
   "execution_count": 52,
   "metadata": {},
   "outputs": [],
   "source": [
    "labels = ['No Delay', '<5', '<10', '<15', '>15']"
   ]
  },
  {
   "cell_type": "code",
   "execution_count": 53,
   "metadata": {},
   "outputs": [
    {
     "data": {
      "text/plain": [
       "[4, 2, 0, 1, 3]"
      ]
     },
     "execution_count": 53,
     "metadata": {},
     "output_type": "execute_result"
    }
   ],
   "source": [
    "['No Delay', '<5', '<10', '<15', '>15']\n",
    "[4, 2, 0, 1, 3]"
   ]
  },
  {
   "cell_type": "code",
   "execution_count": 54,
   "metadata": {},
   "outputs": [
    {
     "name": "stdout",
     "output_type": "stream",
     "text": [
      "[[0.18561873 0.05852843 0.28762542 0.05183946 0.41638796]\n",
      " [0.19411765 0.05882353 0.23529412 0.1        0.41176471]\n",
      " [0.14844007 0.03513957 0.28505747 0.03678161 0.49458128]\n",
      " [0.05970149 0.10820896 0.1119403  0.39552239 0.32462687]\n",
      " [0.12186248 0.02309639 0.21161147 0.02958237 0.61384729]]\n"
     ]
    },
    {
     "data": {
      "image/png": "[encoded data removed]",
      "text/plain": [
       "<Figure size 720x720 with 2 Axes>"
      ]
     },
     "metadata": {
      "needs_background": "light"
     },
     "output_type": "display_data"
    }
   ],
   "source": [
    "disp = metrics.plot_confusion_matrix(clf, X_test, y_test,\n",
    "                              cmap=plt.cm.Blues,\n",
    "                              normalize='true')\n",
    "disp.ax_.set_title(\"Normalized confusion matrix\")\n",
    "disp.figure_.set_size_inches(10, 10)\n",
    "\n",
    "print(disp.confusion_matrix)\n",
    "\n",
    "plt.show()"
   ]
  },
  {
   "cell_type": "code",
   "execution_count": 178,
   "metadata": {},
   "outputs": [],
   "source": [
    "y_pred = clf.predict(X_test)"
   ]
  },
  {
   "cell_type": "code",
   "execution_count": 179,
   "metadata": {},
   "outputs": [],
   "source": [
    "labels = ['No Delay', '<5', '<10', '<15', '>15']"
   ]
  },
  {
   "cell_type": "code",
   "execution_count": 180,
   "metadata": {
    "scrolled": true
   },
   "outputs": [
    {
     "name": "stdout",
     "output_type": "stream",
     "text": [
      "              precision    recall  f1-score   support\n",
      "\n",
      "           0       0.13      0.29      0.18       366\n",
      "           1       0.08      0.19      0.11       120\n",
      "           2       0.22      0.43      0.29      1641\n",
      "           3       0.17      0.55      0.26       172\n",
      "           4       0.87      0.64      0.74      9809\n",
      "\n",
      "    accuracy                           0.59     12108\n",
      "   macro avg       0.29      0.42      0.32     12108\n",
      "weighted avg       0.74      0.59      0.65     12108\n",
      "\n"
     ]
    }
   ],
   "source": [
    "print(metrics.classification_report(y_test, y_pred))"
   ]
  },
  {
   "cell_type": "code",
   "execution_count": null,
   "metadata": {},
   "outputs": [],
   "source": []
  },
  {
   "cell_type": "code",
   "execution_count": null,
   "metadata": {},
   "outputs": [],
   "source": [
    "['No Delay', '<5', '<10', '<15', '>15']\n",
    "[4, 2, 0, 1, 3]\n",
    "4    0.806570\n",
    "2    0.137969\n",
    "0    0.029733\n",
    "3    0.016601\n",
    "1    0.009126"
   ]
  },
  {
   "cell_type": "markdown",
   "metadata": {},
   "source": [
    "# Random Forest"
   ]
  },
  {
   "cell_type": "code",
   "execution_count": 140,
   "metadata": {},
   "outputs": [],
   "source": [
    "params = {\n",
    "    'criterion': ['gini', 'entropy'],\n",
    "    'max_depth': [10, 20, 50, 200, None],\n",
    "    'max_features': ['auto', 'sqrt', 'log2'],\n",
    "}"
   ]
  },
  {
   "cell_type": "code",
   "execution_count": 141,
   "metadata": {},
   "outputs": [],
   "source": [
    "rfc = ensemble.RandomForestClassifier(n_jobs=4, random_state=42)"
   ]
  },
  {
   "cell_type": "code",
   "execution_count": 143,
   "metadata": {},
   "outputs": [],
   "source": [
    "clf = model_selection.GridSearchCV(rfc, param_grid=params, n_jobs=4)"
   ]
  },
  {
   "cell_type": "code",
   "execution_count": 144,
   "metadata": {
    "scrolled": true
   },
   "outputs": [
    {
     "name": "stderr",
     "output_type": "stream",
     "text": [
      "C:\\Users\\micha\\anaconda3\\lib\\site-packages\\sklearn\\model_selection\\_search.py:922: UserWarning: One or more of the test scores are non-finite: [nan nan nan nan nan nan nan nan nan nan nan nan nan nan nan nan nan nan\n",
      " nan nan nan nan nan nan nan nan nan nan nan nan]\n",
      "  warnings.warn(\n"
     ]
    },
    {
     "data": {
      "text/plain": [
       "GridSearchCV(estimator=RandomForestClassifier(n_jobs=4, random_state=42),\n",
       "             n_jobs=4,\n",
       "             param_grid={'criterion': ['gini', 'entropy'],\n",
       "                         'max_depth': [10, 20, 50, 200, None],\n",
       "                         'max_features': ['auto', 'sqrt', 'log2']},\n",
       "             scoring='recall')"
      ]
     },
     "execution_count": 144,
     "metadata": {},
     "output_type": "execute_result"
    }
   ],
   "source": [
    "clf.fit(X_train_smote, y_train_smote)"
   ]
  },
  {
   "cell_type": "code",
   "execution_count": 146,
   "metadata": {},
   "outputs": [
    {
     "data": {
      "text/plain": [
       "{'criterion': 'gini', 'max_depth': 10, 'max_features': 'auto'}"
      ]
     },
     "execution_count": 146,
     "metadata": {},
     "output_type": "execute_result"
    }
   ],
   "source": [
    "clf.best_params_"
   ]
  },
  {
   "cell_type": "code",
   "execution_count": 145,
   "metadata": {},
   "outputs": [
    {
     "name": "stdout",
     "output_type": "stream",
     "text": [
      "[[0.20568562 0.10033445 0.15217391 0.04347826 0.49832776]\n",
      " [0.17058824 0.10588235 0.12352941 0.11764706 0.48235294]\n",
      " [0.17077176 0.06042693 0.15139573 0.03087028 0.5865353 ]\n",
      " [0.0858209  0.04477612 0.05223881 0.59328358 0.2238806 ]\n",
      " [0.12460451 0.03216621 0.08189201 0.02831681 0.73302046]]\n"
     ]
    },
    {
     "data": {
      "image/png": "[encoded data removed]",
      "text/plain": [
       "<Figure size 720x720 with 2 Axes>"
      ]
     },
     "metadata": {
      "needs_background": "light"
     },
     "output_type": "display_data"
    }
   ],
   "source": [
    "disp = metrics.plot_confusion_matrix(clf.best_estimator_, X_test, y_test,\n",
    "                              cmap=plt.cm.Blues,\n",
    "                              normalize='true')\n",
    "disp.ax_.set_title(\"Normalized confusion matrix\")\n",
    "disp.figure_.set_size_inches(10, 10)\n",
    "\n",
    "print(disp.confusion_matrix)\n",
    "\n",
    "plt.show()"
   ]
  },
  {
   "cell_type": "code",
   "execution_count": 147,
   "metadata": {},
   "outputs": [],
   "source": [
    "df = pd.DataFrame(clf.cv_results_)"
   ]
  },
  {
   "cell_type": "code",
   "execution_count": 148,
   "metadata": {},
   "outputs": [
    {
     "data": {
      "text/html": [
       "<div>\n",
       "<style scoped>\n",
       "    .dataframe tbody tr th:only-of-type {\n",
       "        vertical-align: middle;\n",
       "    }\n",
       "\n",
       "    .dataframe tbody tr th {\n",
       "        vertical-align: top;\n",
       "    }\n",
       "\n",
       "    .dataframe thead th {\n",
       "        text-align: right;\n",
       "    }\n",
       "</style>\n",
       "<table border=\"1\" class=\"dataframe\">\n",
       "  <thead>\n",
       "    <tr style=\"text-align: right;\">\n",
       "      <th></th>\n",
       "      <th>mean_fit_time</th>\n",
       "      <th>std_fit_time</th>\n",
       "      <th>mean_score_time</th>\n",
       "      <th>std_score_time</th>\n",
       "      <th>param_criterion</th>\n",
       "      <th>param_max_depth</th>\n",
       "      <th>param_max_features</th>\n",
       "      <th>params</th>\n",
       "      <th>split0_test_score</th>\n",
       "      <th>split1_test_score</th>\n",
       "      <th>split2_test_score</th>\n",
       "      <th>split3_test_score</th>\n",
       "      <th>split4_test_score</th>\n",
       "      <th>mean_test_score</th>\n",
       "      <th>std_test_score</th>\n",
       "      <th>rank_test_score</th>\n",
       "    </tr>\n",
       "  </thead>\n",
       "  <tbody>\n",
       "    <tr>\n",
       "      <th>22</th>\n",
       "      <td>43.690699</td>\n",
       "      <td>1.580256</td>\n",
       "      <td>2.032400</td>\n",
       "      <td>0.211734</td>\n",
       "      <td>entropy</td>\n",
       "      <td>50</td>\n",
       "      <td>sqrt</td>\n",
       "      <td>{'criterion': 'entropy', 'max_depth': 50, 'max...</td>\n",
       "      <td>NaN</td>\n",
       "      <td>NaN</td>\n",
       "      <td>NaN</td>\n",
       "      <td>NaN</td>\n",
       "      <td>NaN</td>\n",
       "      <td>NaN</td>\n",
       "      <td>NaN</td>\n",
       "      <td>7</td>\n",
       "    </tr>\n",
       "    <tr>\n",
       "      <th>23</th>\n",
       "      <td>42.673097</td>\n",
       "      <td>1.241995</td>\n",
       "      <td>2.046201</td>\n",
       "      <td>0.260185</td>\n",
       "      <td>entropy</td>\n",
       "      <td>50</td>\n",
       "      <td>log2</td>\n",
       "      <td>{'criterion': 'entropy', 'max_depth': 50, 'max...</td>\n",
       "      <td>NaN</td>\n",
       "      <td>NaN</td>\n",
       "      <td>NaN</td>\n",
       "      <td>NaN</td>\n",
       "      <td>NaN</td>\n",
       "      <td>NaN</td>\n",
       "      <td>NaN</td>\n",
       "      <td>6</td>\n",
       "    </tr>\n",
       "    <tr>\n",
       "      <th>25</th>\n",
       "      <td>41.801501</td>\n",
       "      <td>0.967713</td>\n",
       "      <td>1.981200</td>\n",
       "      <td>0.154151</td>\n",
       "      <td>entropy</td>\n",
       "      <td>200</td>\n",
       "      <td>sqrt</td>\n",
       "      <td>{'criterion': 'entropy', 'max_depth': 200, 'ma...</td>\n",
       "      <td>NaN</td>\n",
       "      <td>NaN</td>\n",
       "      <td>NaN</td>\n",
       "      <td>NaN</td>\n",
       "      <td>NaN</td>\n",
       "      <td>NaN</td>\n",
       "      <td>NaN</td>\n",
       "      <td>4</td>\n",
       "    </tr>\n",
       "    <tr>\n",
       "      <th>24</th>\n",
       "      <td>41.574299</td>\n",
       "      <td>0.421824</td>\n",
       "      <td>2.092301</td>\n",
       "      <td>0.111865</td>\n",
       "      <td>entropy</td>\n",
       "      <td>200</td>\n",
       "      <td>auto</td>\n",
       "      <td>{'criterion': 'entropy', 'max_depth': 200, 'ma...</td>\n",
       "      <td>NaN</td>\n",
       "      <td>NaN</td>\n",
       "      <td>NaN</td>\n",
       "      <td>NaN</td>\n",
       "      <td>NaN</td>\n",
       "      <td>NaN</td>\n",
       "      <td>NaN</td>\n",
       "      <td>5</td>\n",
       "    </tr>\n",
       "    <tr>\n",
       "      <th>21</th>\n",
       "      <td>41.395233</td>\n",
       "      <td>0.575800</td>\n",
       "      <td>1.934265</td>\n",
       "      <td>0.206457</td>\n",
       "      <td>entropy</td>\n",
       "      <td>50</td>\n",
       "      <td>auto</td>\n",
       "      <td>{'criterion': 'entropy', 'max_depth': 50, 'max...</td>\n",
       "      <td>NaN</td>\n",
       "      <td>NaN</td>\n",
       "      <td>NaN</td>\n",
       "      <td>NaN</td>\n",
       "      <td>NaN</td>\n",
       "      <td>NaN</td>\n",
       "      <td>NaN</td>\n",
       "      <td>8</td>\n",
       "    </tr>\n",
       "    <tr>\n",
       "      <th>27</th>\n",
       "      <td>41.366201</td>\n",
       "      <td>0.416960</td>\n",
       "      <td>1.911899</td>\n",
       "      <td>0.132183</td>\n",
       "      <td>entropy</td>\n",
       "      <td>None</td>\n",
       "      <td>auto</td>\n",
       "      <td>{'criterion': 'entropy', 'max_depth': None, 'm...</td>\n",
       "      <td>NaN</td>\n",
       "      <td>NaN</td>\n",
       "      <td>NaN</td>\n",
       "      <td>NaN</td>\n",
       "      <td>NaN</td>\n",
       "      <td>NaN</td>\n",
       "      <td>NaN</td>\n",
       "      <td>2</td>\n",
       "    </tr>\n",
       "    <tr>\n",
       "      <th>26</th>\n",
       "      <td>41.280000</td>\n",
       "      <td>0.221344</td>\n",
       "      <td>1.870900</td>\n",
       "      <td>0.137616</td>\n",
       "      <td>entropy</td>\n",
       "      <td>200</td>\n",
       "      <td>log2</td>\n",
       "      <td>{'criterion': 'entropy', 'max_depth': 200, 'ma...</td>\n",
       "      <td>NaN</td>\n",
       "      <td>NaN</td>\n",
       "      <td>NaN</td>\n",
       "      <td>NaN</td>\n",
       "      <td>NaN</td>\n",
       "      <td>NaN</td>\n",
       "      <td>NaN</td>\n",
       "      <td>3</td>\n",
       "    </tr>\n",
       "    <tr>\n",
       "      <th>28</th>\n",
       "      <td>41.215999</td>\n",
       "      <td>0.463876</td>\n",
       "      <td>1.921202</td>\n",
       "      <td>0.119251</td>\n",
       "      <td>entropy</td>\n",
       "      <td>None</td>\n",
       "      <td>sqrt</td>\n",
       "      <td>{'criterion': 'entropy', 'max_depth': None, 'm...</td>\n",
       "      <td>NaN</td>\n",
       "      <td>NaN</td>\n",
       "      <td>NaN</td>\n",
       "      <td>NaN</td>\n",
       "      <td>NaN</td>\n",
       "      <td>NaN</td>\n",
       "      <td>NaN</td>\n",
       "      <td>29</td>\n",
       "    </tr>\n",
       "    <tr>\n",
       "      <th>18</th>\n",
       "      <td>37.558601</td>\n",
       "      <td>0.590930</td>\n",
       "      <td>1.360801</td>\n",
       "      <td>0.138443</td>\n",
       "      <td>entropy</td>\n",
       "      <td>20</td>\n",
       "      <td>auto</td>\n",
       "      <td>{'criterion': 'entropy', 'max_depth': 20, 'max...</td>\n",
       "      <td>NaN</td>\n",
       "      <td>NaN</td>\n",
       "      <td>NaN</td>\n",
       "      <td>NaN</td>\n",
       "      <td>NaN</td>\n",
       "      <td>NaN</td>\n",
       "      <td>NaN</td>\n",
       "      <td>11</td>\n",
       "    </tr>\n",
       "    <tr>\n",
       "      <th>20</th>\n",
       "      <td>37.169180</td>\n",
       "      <td>0.336344</td>\n",
       "      <td>1.496200</td>\n",
       "      <td>0.137863</td>\n",
       "      <td>entropy</td>\n",
       "      <td>20</td>\n",
       "      <td>log2</td>\n",
       "      <td>{'criterion': 'entropy', 'max_depth': 20, 'max...</td>\n",
       "      <td>NaN</td>\n",
       "      <td>NaN</td>\n",
       "      <td>NaN</td>\n",
       "      <td>NaN</td>\n",
       "      <td>NaN</td>\n",
       "      <td>NaN</td>\n",
       "      <td>NaN</td>\n",
       "      <td>9</td>\n",
       "    </tr>\n",
       "    <tr>\n",
       "      <th>19</th>\n",
       "      <td>37.048899</td>\n",
       "      <td>0.168594</td>\n",
       "      <td>1.272100</td>\n",
       "      <td>0.123968</td>\n",
       "      <td>entropy</td>\n",
       "      <td>20</td>\n",
       "      <td>sqrt</td>\n",
       "      <td>{'criterion': 'entropy', 'max_depth': 20, 'max...</td>\n",
       "      <td>NaN</td>\n",
       "      <td>NaN</td>\n",
       "      <td>NaN</td>\n",
       "      <td>NaN</td>\n",
       "      <td>NaN</td>\n",
       "      <td>NaN</td>\n",
       "      <td>NaN</td>\n",
       "      <td>10</td>\n",
       "    </tr>\n",
       "    <tr>\n",
       "      <th>13</th>\n",
       "      <td>36.825698</td>\n",
       "      <td>1.497869</td>\n",
       "      <td>2.309201</td>\n",
       "      <td>0.299544</td>\n",
       "      <td>gini</td>\n",
       "      <td>None</td>\n",
       "      <td>sqrt</td>\n",
       "      <td>{'criterion': 'gini', 'max_depth': None, 'max_...</td>\n",
       "      <td>NaN</td>\n",
       "      <td>NaN</td>\n",
       "      <td>NaN</td>\n",
       "      <td>NaN</td>\n",
       "      <td>NaN</td>\n",
       "      <td>NaN</td>\n",
       "      <td>NaN</td>\n",
       "      <td>16</td>\n",
       "    </tr>\n",
       "    <tr>\n",
       "      <th>11</th>\n",
       "      <td>36.621401</td>\n",
       "      <td>0.764386</td>\n",
       "      <td>2.498898</td>\n",
       "      <td>0.150819</td>\n",
       "      <td>gini</td>\n",
       "      <td>200</td>\n",
       "      <td>log2</td>\n",
       "      <td>{'criterion': 'gini', 'max_depth': 200, 'max_f...</td>\n",
       "      <td>NaN</td>\n",
       "      <td>NaN</td>\n",
       "      <td>NaN</td>\n",
       "      <td>NaN</td>\n",
       "      <td>NaN</td>\n",
       "      <td>NaN</td>\n",
       "      <td>NaN</td>\n",
       "      <td>18</td>\n",
       "    </tr>\n",
       "    <tr>\n",
       "      <th>29</th>\n",
       "      <td>36.390700</td>\n",
       "      <td>6.055974</td>\n",
       "      <td>1.480999</td>\n",
       "      <td>0.458518</td>\n",
       "      <td>entropy</td>\n",
       "      <td>None</td>\n",
       "      <td>log2</td>\n",
       "      <td>{'criterion': 'entropy', 'max_depth': None, 'm...</td>\n",
       "      <td>NaN</td>\n",
       "      <td>NaN</td>\n",
       "      <td>NaN</td>\n",
       "      <td>NaN</td>\n",
       "      <td>NaN</td>\n",
       "      <td>NaN</td>\n",
       "      <td>NaN</td>\n",
       "      <td>30</td>\n",
       "    </tr>\n",
       "    <tr>\n",
       "      <th>9</th>\n",
       "      <td>35.997400</td>\n",
       "      <td>0.301262</td>\n",
       "      <td>2.329601</td>\n",
       "      <td>0.178088</td>\n",
       "      <td>gini</td>\n",
       "      <td>200</td>\n",
       "      <td>auto</td>\n",
       "      <td>{'criterion': 'gini', 'max_depth': 200, 'max_f...</td>\n",
       "      <td>NaN</td>\n",
       "      <td>NaN</td>\n",
       "      <td>NaN</td>\n",
       "      <td>NaN</td>\n",
       "      <td>NaN</td>\n",
       "      <td>NaN</td>\n",
       "      <td>NaN</td>\n",
       "      <td>20</td>\n",
       "    </tr>\n",
       "    <tr>\n",
       "      <th>7</th>\n",
       "      <td>35.836700</td>\n",
       "      <td>0.291761</td>\n",
       "      <td>2.271600</td>\n",
       "      <td>0.145105</td>\n",
       "      <td>gini</td>\n",
       "      <td>50</td>\n",
       "      <td>sqrt</td>\n",
       "      <td>{'criterion': 'gini', 'max_depth': 50, 'max_fe...</td>\n",
       "      <td>NaN</td>\n",
       "      <td>NaN</td>\n",
       "      <td>NaN</td>\n",
       "      <td>NaN</td>\n",
       "      <td>NaN</td>\n",
       "      <td>NaN</td>\n",
       "      <td>NaN</td>\n",
       "      <td>22</td>\n",
       "    </tr>\n",
       "    <tr>\n",
       "      <th>10</th>\n",
       "      <td>35.694800</td>\n",
       "      <td>0.444110</td>\n",
       "      <td>2.329700</td>\n",
       "      <td>0.114189</td>\n",
       "      <td>gini</td>\n",
       "      <td>200</td>\n",
       "      <td>sqrt</td>\n",
       "      <td>{'criterion': 'gini', 'max_depth': 200, 'max_f...</td>\n",
       "      <td>NaN</td>\n",
       "      <td>NaN</td>\n",
       "      <td>NaN</td>\n",
       "      <td>NaN</td>\n",
       "      <td>NaN</td>\n",
       "      <td>NaN</td>\n",
       "      <td>NaN</td>\n",
       "      <td>19</td>\n",
       "    </tr>\n",
       "    <tr>\n",
       "      <th>6</th>\n",
       "      <td>35.694000</td>\n",
       "      <td>0.476822</td>\n",
       "      <td>2.358802</td>\n",
       "      <td>0.123879</td>\n",
       "      <td>gini</td>\n",
       "      <td>50</td>\n",
       "      <td>auto</td>\n",
       "      <td>{'criterion': 'gini', 'max_depth': 50, 'max_fe...</td>\n",
       "      <td>NaN</td>\n",
       "      <td>NaN</td>\n",
       "      <td>NaN</td>\n",
       "      <td>NaN</td>\n",
       "      <td>NaN</td>\n",
       "      <td>NaN</td>\n",
       "      <td>NaN</td>\n",
       "      <td>23</td>\n",
       "    </tr>\n",
       "    <tr>\n",
       "      <th>8</th>\n",
       "      <td>35.677000</td>\n",
       "      <td>0.383609</td>\n",
       "      <td>2.386000</td>\n",
       "      <td>0.217202</td>\n",
       "      <td>gini</td>\n",
       "      <td>50</td>\n",
       "      <td>log2</td>\n",
       "      <td>{'criterion': 'gini', 'max_depth': 50, 'max_fe...</td>\n",
       "      <td>NaN</td>\n",
       "      <td>NaN</td>\n",
       "      <td>NaN</td>\n",
       "      <td>NaN</td>\n",
       "      <td>NaN</td>\n",
       "      <td>NaN</td>\n",
       "      <td>NaN</td>\n",
       "      <td>21</td>\n",
       "    </tr>\n",
       "    <tr>\n",
       "      <th>12</th>\n",
       "      <td>35.604499</td>\n",
       "      <td>0.349929</td>\n",
       "      <td>2.209202</td>\n",
       "      <td>0.179372</td>\n",
       "      <td>gini</td>\n",
       "      <td>None</td>\n",
       "      <td>auto</td>\n",
       "      <td>{'criterion': 'gini', 'max_depth': None, 'max_...</td>\n",
       "      <td>NaN</td>\n",
       "      <td>NaN</td>\n",
       "      <td>NaN</td>\n",
       "      <td>NaN</td>\n",
       "      <td>NaN</td>\n",
       "      <td>NaN</td>\n",
       "      <td>NaN</td>\n",
       "      <td>17</td>\n",
       "    </tr>\n",
       "    <tr>\n",
       "      <th>14</th>\n",
       "      <td>35.515199</td>\n",
       "      <td>1.264752</td>\n",
       "      <td>2.068301</td>\n",
       "      <td>0.182186</td>\n",
       "      <td>gini</td>\n",
       "      <td>None</td>\n",
       "      <td>log2</td>\n",
       "      <td>{'criterion': 'gini', 'max_depth': None, 'max_...</td>\n",
       "      <td>NaN</td>\n",
       "      <td>NaN</td>\n",
       "      <td>NaN</td>\n",
       "      <td>NaN</td>\n",
       "      <td>NaN</td>\n",
       "      <td>NaN</td>\n",
       "      <td>NaN</td>\n",
       "      <td>15</td>\n",
       "    </tr>\n",
       "    <tr>\n",
       "      <th>3</th>\n",
       "      <td>32.188799</td>\n",
       "      <td>1.379195</td>\n",
       "      <td>1.344403</td>\n",
       "      <td>0.249784</td>\n",
       "      <td>gini</td>\n",
       "      <td>20</td>\n",
       "      <td>auto</td>\n",
       "      <td>{'criterion': 'gini', 'max_depth': 20, 'max_fe...</td>\n",
       "      <td>NaN</td>\n",
       "      <td>NaN</td>\n",
       "      <td>NaN</td>\n",
       "      <td>NaN</td>\n",
       "      <td>NaN</td>\n",
       "      <td>NaN</td>\n",
       "      <td>NaN</td>\n",
       "      <td>26</td>\n",
       "    </tr>\n",
       "    <tr>\n",
       "      <th>5</th>\n",
       "      <td>31.751701</td>\n",
       "      <td>0.641283</td>\n",
       "      <td>1.405400</td>\n",
       "      <td>0.239974</td>\n",
       "      <td>gini</td>\n",
       "      <td>20</td>\n",
       "      <td>log2</td>\n",
       "      <td>{'criterion': 'gini', 'max_depth': 20, 'max_fe...</td>\n",
       "      <td>NaN</td>\n",
       "      <td>NaN</td>\n",
       "      <td>NaN</td>\n",
       "      <td>NaN</td>\n",
       "      <td>NaN</td>\n",
       "      <td>NaN</td>\n",
       "      <td>NaN</td>\n",
       "      <td>24</td>\n",
       "    </tr>\n",
       "    <tr>\n",
       "      <th>4</th>\n",
       "      <td>31.255800</td>\n",
       "      <td>0.233263</td>\n",
       "      <td>1.268599</td>\n",
       "      <td>0.241499</td>\n",
       "      <td>gini</td>\n",
       "      <td>20</td>\n",
       "      <td>sqrt</td>\n",
       "      <td>{'criterion': 'gini', 'max_depth': 20, 'max_fe...</td>\n",
       "      <td>NaN</td>\n",
       "      <td>NaN</td>\n",
       "      <td>NaN</td>\n",
       "      <td>NaN</td>\n",
       "      <td>NaN</td>\n",
       "      <td>NaN</td>\n",
       "      <td>NaN</td>\n",
       "      <td>25</td>\n",
       "    </tr>\n",
       "    <tr>\n",
       "      <th>15</th>\n",
       "      <td>25.065900</td>\n",
       "      <td>0.611199</td>\n",
       "      <td>0.912899</td>\n",
       "      <td>0.129736</td>\n",
       "      <td>entropy</td>\n",
       "      <td>10</td>\n",
       "      <td>auto</td>\n",
       "      <td>{'criterion': 'entropy', 'max_depth': 10, 'max...</td>\n",
       "      <td>NaN</td>\n",
       "      <td>NaN</td>\n",
       "      <td>NaN</td>\n",
       "      <td>NaN</td>\n",
       "      <td>NaN</td>\n",
       "      <td>NaN</td>\n",
       "      <td>NaN</td>\n",
       "      <td>14</td>\n",
       "    </tr>\n",
       "    <tr>\n",
       "      <th>16</th>\n",
       "      <td>24.588400</td>\n",
       "      <td>0.205345</td>\n",
       "      <td>0.856400</td>\n",
       "      <td>0.107140</td>\n",
       "      <td>entropy</td>\n",
       "      <td>10</td>\n",
       "      <td>sqrt</td>\n",
       "      <td>{'criterion': 'entropy', 'max_depth': 10, 'max...</td>\n",
       "      <td>NaN</td>\n",
       "      <td>NaN</td>\n",
       "      <td>NaN</td>\n",
       "      <td>NaN</td>\n",
       "      <td>NaN</td>\n",
       "      <td>NaN</td>\n",
       "      <td>NaN</td>\n",
       "      <td>13</td>\n",
       "    </tr>\n",
       "    <tr>\n",
       "      <th>17</th>\n",
       "      <td>24.309903</td>\n",
       "      <td>0.428044</td>\n",
       "      <td>0.840597</td>\n",
       "      <td>0.181996</td>\n",
       "      <td>entropy</td>\n",
       "      <td>10</td>\n",
       "      <td>log2</td>\n",
       "      <td>{'criterion': 'entropy', 'max_depth': 10, 'max...</td>\n",
       "      <td>NaN</td>\n",
       "      <td>NaN</td>\n",
       "      <td>NaN</td>\n",
       "      <td>NaN</td>\n",
       "      <td>NaN</td>\n",
       "      <td>NaN</td>\n",
       "      <td>NaN</td>\n",
       "      <td>12</td>\n",
       "    </tr>\n",
       "    <tr>\n",
       "      <th>2</th>\n",
       "      <td>23.721404</td>\n",
       "      <td>0.289379</td>\n",
       "      <td>0.605096</td>\n",
       "      <td>0.046216</td>\n",
       "      <td>gini</td>\n",
       "      <td>10</td>\n",
       "      <td>log2</td>\n",
       "      <td>{'criterion': 'gini', 'max_depth': 10, 'max_fe...</td>\n",
       "      <td>NaN</td>\n",
       "      <td>NaN</td>\n",
       "      <td>NaN</td>\n",
       "      <td>NaN</td>\n",
       "      <td>NaN</td>\n",
       "      <td>NaN</td>\n",
       "      <td>NaN</td>\n",
       "      <td>27</td>\n",
       "    </tr>\n",
       "    <tr>\n",
       "      <th>1</th>\n",
       "      <td>23.267702</td>\n",
       "      <td>0.139036</td>\n",
       "      <td>0.581698</td>\n",
       "      <td>0.024797</td>\n",
       "      <td>gini</td>\n",
       "      <td>10</td>\n",
       "      <td>sqrt</td>\n",
       "      <td>{'criterion': 'gini', 'max_depth': 10, 'max_fe...</td>\n",
       "      <td>NaN</td>\n",
       "      <td>NaN</td>\n",
       "      <td>NaN</td>\n",
       "      <td>NaN</td>\n",
       "      <td>NaN</td>\n",
       "      <td>NaN</td>\n",
       "      <td>NaN</td>\n",
       "      <td>28</td>\n",
       "    </tr>\n",
       "    <tr>\n",
       "      <th>0</th>\n",
       "      <td>23.077981</td>\n",
       "      <td>0.175255</td>\n",
       "      <td>0.611797</td>\n",
       "      <td>0.079161</td>\n",
       "      <td>gini</td>\n",
       "      <td>10</td>\n",
       "      <td>auto</td>\n",
       "      <td>{'criterion': 'gini', 'max_depth': 10, 'max_fe...</td>\n",
       "      <td>NaN</td>\n",
       "      <td>NaN</td>\n",
       "      <td>NaN</td>\n",
       "      <td>NaN</td>\n",
       "      <td>NaN</td>\n",
       "      <td>NaN</td>\n",
       "      <td>NaN</td>\n",
       "      <td>1</td>\n",
       "    </tr>\n",
       "  </tbody>\n",
       "</table>\n",
       "</div>"
      ],
      "text/plain": [
       "    mean_fit_time  std_fit_time  mean_score_time  std_score_time  \\\n",
       "22      43.690699      1.580256         2.032400        0.211734   \n",
       "23      42.673097      1.241995         2.046201        0.260185   \n",
       "25      41.801501      0.967713         1.981200        0.154151   \n",
       "24      41.574299      0.421824         2.092301        0.111865   \n",
       "21      41.395233      0.575800         1.934265        0.206457   \n",
       "27      41.366201      0.416960         1.911899        0.132183   \n",
       "26      41.280000      0.221344         1.870900        0.137616   \n",
       "28      41.215999      0.463876         1.921202        0.119251   \n",
       "18      37.558601      0.590930         1.360801        0.138443   \n",
       "20      37.169180      0.336344         1.496200        0.137863   \n",
       "19      37.048899      0.168594         1.272100        0.123968   \n",
       "13      36.825698      1.497869         2.309201        0.299544   \n",
       "11      36.621401      0.764386         2.498898        0.150819   \n",
       "29      36.390700      6.055974         1.480999        0.458518   \n",
       "9       35.997400      0.301262         2.329601        0.178088   \n",
       "7       35.836700      0.291761         2.271600        0.145105   \n",
       "10      35.694800      0.444110         2.329700        0.114189   \n",
       "6       35.694000      0.476822         2.358802        0.123879   \n",
       "8       35.677000      0.383609         2.386000        0.217202   \n",
       "12      35.604499      0.349929         2.209202        0.179372   \n",
       "14      35.515199      1.264752         2.068301        0.182186   \n",
       "3       32.188799      1.379195         1.344403        0.249784   \n",
       "5       31.751701      0.641283         1.405400        0.239974   \n",
       "4       31.255800      0.233263         1.268599        0.241499   \n",
       "15      25.065900      0.611199         0.912899        0.129736   \n",
       "16      24.588400      0.205345         0.856400        0.107140   \n",
       "17      24.309903      0.428044         0.840597        0.181996   \n",
       "2       23.721404      0.289379         0.605096        0.046216   \n",
       "1       23.267702      0.139036         0.581698        0.024797   \n",
       "0       23.077981      0.175255         0.611797        0.079161   \n",
       "\n",
       "   param_criterion param_max_depth param_max_features  \\\n",
       "22         entropy              50               sqrt   \n",
       "23         entropy              50               log2   \n",
       "25         entropy             200               sqrt   \n",
       "24         entropy             200               auto   \n",
       "21         entropy              50               auto   \n",
       "27         entropy            None               auto   \n",
       "26         entropy             200               log2   \n",
       "28         entropy            None               sqrt   \n",
       "18         entropy              20               auto   \n",
       "20         entropy              20               log2   \n",
       "19         entropy              20               sqrt   \n",
       "13            gini            None               sqrt   \n",
       "11            gini             200               log2   \n",
       "29         entropy            None               log2   \n",
       "9             gini             200               auto   \n",
       "7             gini              50               sqrt   \n",
       "10            gini             200               sqrt   \n",
       "6             gini              50               auto   \n",
       "8             gini              50               log2   \n",
       "12            gini            None               auto   \n",
       "14            gini            None               log2   \n",
       "3             gini              20               auto   \n",
       "5             gini              20               log2   \n",
       "4             gini              20               sqrt   \n",
       "15         entropy              10               auto   \n",
       "16         entropy              10               sqrt   \n",
       "17         entropy              10               log2   \n",
       "2             gini              10               log2   \n",
       "1             gini              10               sqrt   \n",
       "0             gini              10               auto   \n",
       "\n",
       "                                               params  split0_test_score  \\\n",
       "22  {'criterion': 'entropy', 'max_depth': 50, 'max...                NaN   \n",
       "23  {'criterion': 'entropy', 'max_depth': 50, 'max...                NaN   \n",
       "25  {'criterion': 'entropy', 'max_depth': 200, 'ma...                NaN   \n",
       "24  {'criterion': 'entropy', 'max_depth': 200, 'ma...                NaN   \n",
       "21  {'criterion': 'entropy', 'max_depth': 50, 'max...                NaN   \n",
       "27  {'criterion': 'entropy', 'max_depth': None, 'm...                NaN   \n",
       "26  {'criterion': 'entropy', 'max_depth': 200, 'ma...                NaN   \n",
       "28  {'criterion': 'entropy', 'max_depth': None, 'm...                NaN   \n",
       "18  {'criterion': 'entropy', 'max_depth': 20, 'max...                NaN   \n",
       "20  {'criterion': 'entropy', 'max_depth': 20, 'max...                NaN   \n",
       "19  {'criterion': 'entropy', 'max_depth': 20, 'max...                NaN   \n",
       "13  {'criterion': 'gini', 'max_depth': None, 'max_...                NaN   \n",
       "11  {'criterion': 'gini', 'max_depth': 200, 'max_f...                NaN   \n",
       "29  {'criterion': 'entropy', 'max_depth': None, 'm...                NaN   \n",
       "9   {'criterion': 'gini', 'max_depth': 200, 'max_f...                NaN   \n",
       "7   {'criterion': 'gini', 'max_depth': 50, 'max_fe...                NaN   \n",
       "10  {'criterion': 'gini', 'max_depth': 200, 'max_f...                NaN   \n",
       "6   {'criterion': 'gini', 'max_depth': 50, 'max_fe...                NaN   \n",
       "8   {'criterion': 'gini', 'max_depth': 50, 'max_fe...                NaN   \n",
       "12  {'criterion': 'gini', 'max_depth': None, 'max_...                NaN   \n",
       "14  {'criterion': 'gini', 'max_depth': None, 'max_...                NaN   \n",
       "3   {'criterion': 'gini', 'max_depth': 20, 'max_fe...                NaN   \n",
       "5   {'criterion': 'gini', 'max_depth': 20, 'max_fe...                NaN   \n",
       "4   {'criterion': 'gini', 'max_depth': 20, 'max_fe...                NaN   \n",
       "15  {'criterion': 'entropy', 'max_depth': 10, 'max...                NaN   \n",
       "16  {'criterion': 'entropy', 'max_depth': 10, 'max...                NaN   \n",
       "17  {'criterion': 'entropy', 'max_depth': 10, 'max...                NaN   \n",
       "2   {'criterion': 'gini', 'max_depth': 10, 'max_fe...                NaN   \n",
       "1   {'criterion': 'gini', 'max_depth': 10, 'max_fe...                NaN   \n",
       "0   {'criterion': 'gini', 'max_depth': 10, 'max_fe...                NaN   \n",
       "\n",
       "    split1_test_score  split2_test_score  split3_test_score  \\\n",
       "22                NaN                NaN                NaN   \n",
       "23                NaN                NaN                NaN   \n",
       "25                NaN                NaN                NaN   \n",
       "24                NaN                NaN                NaN   \n",
       "21                NaN                NaN                NaN   \n",
       "27                NaN                NaN                NaN   \n",
       "26                NaN                NaN                NaN   \n",
       "28                NaN                NaN                NaN   \n",
       "18                NaN                NaN                NaN   \n",
       "20                NaN                NaN                NaN   \n",
       "19                NaN                NaN                NaN   \n",
       "13                NaN                NaN                NaN   \n",
       "11                NaN                NaN                NaN   \n",
       "29                NaN                NaN                NaN   \n",
       "9                 NaN                NaN                NaN   \n",
       "7                 NaN                NaN                NaN   \n",
       "10                NaN                NaN                NaN   \n",
       "6                 NaN                NaN                NaN   \n",
       "8                 NaN                NaN                NaN   \n",
       "12                NaN                NaN                NaN   \n",
       "14                NaN                NaN                NaN   \n",
       "3                 NaN                NaN                NaN   \n",
       "5                 NaN                NaN                NaN   \n",
       "4                 NaN                NaN                NaN   \n",
       "15                NaN                NaN                NaN   \n",
       "16                NaN                NaN                NaN   \n",
       "17                NaN                NaN                NaN   \n",
       "2                 NaN                NaN                NaN   \n",
       "1                 NaN                NaN                NaN   \n",
       "0                 NaN                NaN                NaN   \n",
       "\n",
       "    split4_test_score  mean_test_score  std_test_score  rank_test_score  \n",
       "22                NaN              NaN             NaN                7  \n",
       "23                NaN              NaN             NaN                6  \n",
       "25                NaN              NaN             NaN                4  \n",
       "24                NaN              NaN             NaN                5  \n",
       "21                NaN              NaN             NaN                8  \n",
       "27                NaN              NaN             NaN                2  \n",
       "26                NaN              NaN             NaN                3  \n",
       "28                NaN              NaN             NaN               29  \n",
       "18                NaN              NaN             NaN               11  \n",
       "20                NaN              NaN             NaN                9  \n",
       "19                NaN              NaN             NaN               10  \n",
       "13                NaN              NaN             NaN               16  \n",
       "11                NaN              NaN             NaN               18  \n",
       "29                NaN              NaN             NaN               30  \n",
       "9                 NaN              NaN             NaN               20  \n",
       "7                 NaN              NaN             NaN               22  \n",
       "10                NaN              NaN             NaN               19  \n",
       "6                 NaN              NaN             NaN               23  \n",
       "8                 NaN              NaN             NaN               21  \n",
       "12                NaN              NaN             NaN               17  \n",
       "14                NaN              NaN             NaN               15  \n",
       "3                 NaN              NaN             NaN               26  \n",
       "5                 NaN              NaN             NaN               24  \n",
       "4                 NaN              NaN             NaN               25  \n",
       "15                NaN              NaN             NaN               14  \n",
       "16                NaN              NaN             NaN               13  \n",
       "17                NaN              NaN             NaN               12  \n",
       "2                 NaN              NaN             NaN               27  \n",
       "1                 NaN              NaN             NaN               28  \n",
       "0                 NaN              NaN             NaN                1  "
      ]
     },
     "execution_count": 148,
     "metadata": {},
     "output_type": "execute_result"
    }
   ],
   "source": [
    "df.sort_values('mean_fit_time', ascending=False)"
   ]
  },
  {
   "cell_type": "code",
   "execution_count": null,
   "metadata": {},
   "outputs": [],
   "source": []
  }
 ],
 "metadata": {
  "kernelspec": {
   "display_name": "Python 3",
   "language": "python",
   "name": "python3"
  },
  "language_info": {
   "codemirror_mode": {
    "name": "ipython",
    "version": 3
   },
   "file_extension": ".py",
   "mimetype": "text/x-python",
   "name": "python",
   "nbconvert_exporter": "python",
   "pygments_lexer": "ipython3",
   "version": "3.8.5"
  }
 },
 "nbformat": 4,
 "nbformat_minor": 4
}
