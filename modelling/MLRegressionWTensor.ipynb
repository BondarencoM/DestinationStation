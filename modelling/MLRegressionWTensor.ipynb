{
 "cells": [
  {
   "cell_type": "code",
   "execution_count": 1,
   "metadata": {},
   "outputs": [],
   "source": [
    "import numpy as np\n",
    "import pandas as pd\n",
    "import matplotlib.pyplot as plt\n",
    "from keras.models import Sequential\n",
    "from keras.layers import Dense\n",
    "from sklearn.model_selection import train_test_split\n",
    "from sklearn.metrics import mean_squared_error\n",
    "from sklearn.tree import DecisionTreeRegressor\n",
    "from sklearn.svm import SVR\n",
    "\n",
    "from sklearn import preprocessing"
   ]
  },
  {
   "cell_type": "code",
   "execution_count": 2,
   "metadata": {},
   "outputs": [],
   "source": [
    "df = pd.read_csv(\"../assets/data/2019-UT-ASD-Full/2019-UT-ASD-scrapped.csv\")"
   ]
  },
  {
   "cell_type": "code",
   "execution_count": 3,
   "metadata": {},
   "outputs": [
    {
     "name": "stdout",
     "output_type": "stream",
     "text": [
      "<class 'pandas.core.frame.DataFrame'>\n",
      "RangeIndex: 111268 entries, 0 to 111267\n",
      "Data columns (total 87 columns):\n",
      " #   Column                           Non-Null Count   Dtype  \n",
      "---  ------                           --------------   -----  \n",
      " 0   Unnamed: 0                       111268 non-null  int64  \n",
      " 1   Date                             111268 non-null  object \n",
      " 2   RideId                           111268 non-null  int64  \n",
      " 3   TrainId                          111268 non-null  int64  \n",
      " 4   DepartureStation                 110338 non-null  object \n",
      " 5   DepartureTime                    110328 non-null  object \n",
      " 6   DepartureDelay                   111268 non-null  float64\n",
      " 7   DestinationStation               110195 non-null  object \n",
      " 8   ArrivalTime                      110195 non-null  object \n",
      " 9   ArrivalDelay                     111268 non-null  float64\n",
      " 10  DeparturePlatform                110333 non-null  object \n",
      " 11  ArrivalPlatform                  110193 non-null  object \n",
      " 12  DepartureMaterials               103569 non-null  object \n",
      " 13  ArrivalMaterials                 97411 non-null   object \n",
      " 14  InbetweenStations                101798 non-null  object \n",
      " 15  FaultMessages                    6670 non-null    object \n",
      " 16  RideInstance                     111268 non-null  object \n",
      " 17  PlannedDepartureTime             110328 non-null  object \n",
      " 18  PlannedArrivalTime               110195 non-null  object \n",
      " 19  ActualArrivalTime                110195 non-null  object \n",
      " 20  ActualDepartureTime              110328 non-null  object \n",
      " 21  WeatherKey                       110195 non-null  object \n",
      " 22  DepartureWeatherStationCode      110190 non-null  float64\n",
      " 23  DepartureTimestamp               110190 non-null  object \n",
      " 24  DepartureHour                    110190 non-null  float64\n",
      " 25  DepartureWindDir                 110190 non-null  float64\n",
      " 26  DepartureWindHour                110190 non-null  float64\n",
      " 27  DepartureWindSpeed               110190 non-null  float64\n",
      " 28  DepartureMaxWindSpeed            110190 non-null  float64\n",
      " 29  DepartureTemperature             110190 non-null  float64\n",
      " 30  DepartureMinTemp10M              18533 non-null   float64\n",
      " 31  DepartureDewPointTemp            110190 non-null  float64\n",
      " 32  DepartureSunshineDur             110190 non-null  float64\n",
      " 33  DepartureRadiation               110190 non-null  float64\n",
      " 34  DeparturePrecipDur               110190 non-null  float64\n",
      " 35  DeparturePrecipHour              110190 non-null  float64\n",
      " 36  DepartureAirPressure             110190 non-null  float64\n",
      " 37  DepartureVisibility              110190 non-null  float64\n",
      " 38  DepartureCloudiness              110065 non-null  float64\n",
      " 39  DepartureHumidity                110190 non-null  float64\n",
      " 40  DepartureWeatherCode             39274 non-null   float64\n",
      " 41  DepartureWeatherCodeIndicator    110190 non-null  float64\n",
      " 42  DepartureFog                     110190 non-null  float64\n",
      " 43  DepartureRain                    110190 non-null  float64\n",
      " 44  DepartureSnow                    110190 non-null  float64\n",
      " 45  DepartureThunder                 110190 non-null  float64\n",
      " 46  DepartureIceFormation            110190 non-null  float64\n",
      " 47  DestinationWeatherStationCode    110192 non-null  float64\n",
      " 48  DestinationTimestamp             110192 non-null  object \n",
      " 49  DestinationHour                  110192 non-null  float64\n",
      " 50  DestinationWindDir               110192 non-null  float64\n",
      " 51  DestinationWindHour              110192 non-null  float64\n",
      " 52  DestinationWindSpeed             110192 non-null  float64\n",
      " 53  DestinationMaxWindSpeed          110192 non-null  float64\n",
      " 54  DestinationTemperature           110192 non-null  float64\n",
      " 55  DestinationMinTemp10M            18537 non-null   float64\n",
      " 56  DestinationDewPointTemp          110192 non-null  float64\n",
      " 57  DestinationSunshineDur           110192 non-null  float64\n",
      " 58  DestinationRadiation             110192 non-null  float64\n",
      " 59  DestinationPrecipDur             110192 non-null  float64\n",
      " 60  DestinationPrecipHour            110192 non-null  float64\n",
      " 61  DestinationAirPressure           110192 non-null  float64\n",
      " 62  DestinationVisibility            110192 non-null  float64\n",
      " 63  DestinationCloudiness            110069 non-null  float64\n",
      " 64  DestinationHumidity              110192 non-null  float64\n",
      " 65  DestinationWeatherCode           39193 non-null   float64\n",
      " 66  DestinationWeatherCodeIndicator  110192 non-null  float64\n",
      " 67  DestinationFog                   110192 non-null  float64\n",
      " 68  DestinationRain                  110192 non-null  float64\n",
      " 69  DestinationSnow                  110192 non-null  float64\n",
      " 70  DestinationThunder               110192 non-null  float64\n",
      " 71  DestinationIceFormation          110192 non-null  float64\n",
      " 72  DisruptionKey                    111268 non-null  object \n",
      " 73  rdt_id                           48976 non-null   float64\n",
      " 74  ns_lines                         48976 non-null   object \n",
      " 75  rdt_lines                        48976 non-null   object \n",
      " 76  rdt_lines_id                     48976 non-null   object \n",
      " 77  rdt_station_names                48976 non-null   object \n",
      " 78  rdt_station_codes                48976 non-null   object \n",
      " 79  cause_nl                         48976 non-null   object \n",
      " 80  cause_en                         48976 non-null   object \n",
      " 81  statistical_cause_nl             48976 non-null   object \n",
      " 82  statistical_cause_en             48976 non-null   object \n",
      " 83  cause_group                      48976 non-null   object \n",
      " 84  start_time                       48976 non-null   object \n",
      " 85  end_time                         48976 non-null   object \n",
      " 86  duration_minutes                 48976 non-null   float64\n",
      "dtypes: float64(52), int64(3), object(32)\n",
      "memory usage: 73.9+ MB\n"
     ]
    }
   ],
   "source": [
    "df.info()"
   ]
  },
  {
   "cell_type": "code",
   "execution_count": 4,
   "metadata": {},
   "outputs": [],
   "source": [
    "Xy = df[['TrainId', 'DepartureWindSpeed', \n",
    "                   'DepartureVisibility', 'DepartureFog', 'DepartureRain', 'DepartureSnow', \n",
    "                   'DepartureThunder', 'DepartureIceFormation', 'DestinationFog', 'DestinationRain','DestinationSnow', 'DestinationThunder', \n",
    "                   'DestinationWindSpeed', 'DestinationVisibility', 'DestinationIceFormation', 'ArrivalDelay']]"
   ]
  },
  {
   "cell_type": "code",
   "execution_count": 5,
   "metadata": {},
   "outputs": [
    {
     "data": {
      "text/plain": [
       "TrainId                       0\n",
       "DepartureWindSpeed         1078\n",
       "DepartureVisibility        1078\n",
       "DepartureFog               1078\n",
       "DepartureRain              1078\n",
       "DepartureSnow              1078\n",
       "DepartureThunder           1078\n",
       "DepartureIceFormation      1078\n",
       "DestinationFog             1076\n",
       "DestinationRain            1076\n",
       "DestinationSnow            1076\n",
       "DestinationThunder         1076\n",
       "DestinationWindSpeed       1076\n",
       "DestinationVisibility      1076\n",
       "DestinationIceFormation    1076\n",
       "ArrivalDelay                  0\n",
       "dtype: int64"
      ]
     },
     "execution_count": 5,
     "metadata": {},
     "output_type": "execute_result"
    }
   ],
   "source": [
    "Xy.isna().sum()"
   ]
  },
  {
   "cell_type": "code",
   "execution_count": 6,
   "metadata": {},
   "outputs": [],
   "source": [
    "#The NA values otherwise break all the predictions\n",
    "Xy = Xy.dropna()"
   ]
  },
  {
   "cell_type": "code",
   "execution_count": 7,
   "metadata": {},
   "outputs": [
    {
     "data": {
      "text/plain": [
       "TrainId                      int64\n",
       "DepartureWindSpeed         float64\n",
       "DepartureVisibility        float64\n",
       "DepartureFog               float64\n",
       "DepartureRain              float64\n",
       "DepartureSnow              float64\n",
       "DepartureThunder           float64\n",
       "DepartureIceFormation      float64\n",
       "DestinationFog             float64\n",
       "DestinationRain            float64\n",
       "DestinationSnow            float64\n",
       "DestinationThunder         float64\n",
       "DestinationWindSpeed       float64\n",
       "DestinationVisibility      float64\n",
       "DestinationIceFormation    float64\n",
       "ArrivalDelay               float64\n",
       "dtype: object"
      ]
     },
     "execution_count": 7,
     "metadata": {},
     "output_type": "execute_result"
    }
   ],
   "source": [
    "Xy.dtypes"
   ]
  },
  {
   "cell_type": "code",
   "execution_count": 8,
   "metadata": {},
   "outputs": [],
   "source": [
    "X = Xy[['TrainId', 'DepartureWindSpeed', \n",
    "                   'DepartureVisibility', 'DepartureFog', 'DepartureRain', 'DepartureSnow', \n",
    "                   'DepartureThunder', 'DepartureIceFormation', 'DestinationFog', 'DestinationRain','DestinationSnow',\n",
    "                    'DestinationThunder', 'DestinationWindSpeed', 'DestinationVisibility', 'DestinationIceFormation']]\n",
    "y = Xy['ArrivalDelay']"
   ]
  },
  {
   "cell_type": "markdown",
   "metadata": {},
   "source": [
    "# Scaling and splitting data"
   ]
  },
  {
   "cell_type": "code",
   "execution_count": 9,
   "metadata": {},
   "outputs": [],
   "source": [
    "min_max_scaler = preprocessing.MinMaxScaler()\n",
    "X_scale = min_max_scaler.fit_transform(X)\n",
    "Y_scale = min_max_scaler.fit_transform(y.values.reshape(-1,1))"
   ]
  },
  {
   "cell_type": "code",
   "execution_count": 10,
   "metadata": {},
   "outputs": [],
   "source": [
    "X_train, X_test, Y_train, Y_test = train_test_split(X_scale, y, test_size=0.2)"
   ]
  },
  {
   "cell_type": "code",
   "execution_count": 11,
   "metadata": {},
   "outputs": [
    {
     "name": "stdout",
     "output_type": "stream",
     "text": [
      "(88152, 15) (22038, 15) (88152,) (22038,)\n"
     ]
    }
   ],
   "source": [
    "print(X_train.shape, X_test.shape, Y_train.shape, Y_test.shape)"
   ]
  },
  {
   "cell_type": "markdown",
   "metadata": {},
   "source": [
    "# Neural network with tensorflow"
   ]
  },
  {
   "cell_type": "code",
   "execution_count": 12,
   "metadata": {},
   "outputs": [],
   "source": [
    "model = Sequential([\n",
    "    Dense(128, activation='relu', input_shape=(15,)),\n",
    "    Dense(64, activation='relu'),\n",
    "    Dense(1, activation='sigmoid'),\n",
    "])"
   ]
  },
  {
   "cell_type": "code",
   "execution_count": 13,
   "metadata": {},
   "outputs": [],
   "source": [
    "model.compile(loss='binary_crossentropy', optimizer='adam', metrics=['accuracy'])"
   ]
  },
  {
   "cell_type": "code",
   "execution_count": 14,
   "metadata": {},
   "outputs": [
    {
     "name": "stdout",
     "output_type": "stream",
     "text": [
      "Epoch 1/50\n",
      "2755/2755 [==============================] - 2s 534us/step - loss: 0.2549 - accuracy: 0.0343\n",
      "Epoch 2/50\n",
      "2755/2755 [==============================] - 1s 539us/step - loss: -0.7422 - accuracy: 0.0653\n",
      "Epoch 3/50\n",
      "2755/2755 [==============================] - 1s 539us/step - loss: -7.2533 - accuracy: 0.0883\n",
      "Epoch 4/50\n",
      "2755/2755 [==============================] - 1s 540us/step - loss: -16.6192 - accuracy: 0.1133\n",
      "Epoch 5/50\n",
      "2755/2755 [==============================] - 2s 549us/step - loss: -62.9369 - accuracy: 0.1143\n",
      "Epoch 6/50\n",
      "2755/2755 [==============================] - 2s 545us/step - loss: -122.1826 - accuracy: 0.0868\n",
      "Epoch 7/50\n",
      "2755/2755 [==============================] - 2s 544us/step - loss: -177.8158 - accuracy: 0.0971\n",
      "Epoch 8/50\n",
      "2755/2755 [==============================] - 2s 545us/step - loss: -304.4106 - accuracy: 0.1079\n",
      "Epoch 9/50\n",
      "2755/2755 [==============================] - 2s 548us/step - loss: -472.1526 - accuracy: 0.1013\n",
      "Epoch 10/50\n",
      "2755/2755 [==============================] - 2s 546us/step - loss: -579.6131 - accuracy: 0.0975\n",
      "Epoch 11/50\n",
      "2755/2755 [==============================] - 2s 545us/step - loss: -1171.0472 - accuracy: 0.0908\n",
      "Epoch 12/50\n",
      "2755/2755 [==============================] - 2s 553us/step - loss: -1147.3122 - accuracy: 0.1347\n",
      "Epoch 13/50\n",
      "2755/2755 [==============================] - 2s 547us/step - loss: -1645.7704 - accuracy: 0.1227\n",
      "Epoch 14/50\n",
      "2755/2755 [==============================] - 2s 546us/step - loss: -2027.2555 - accuracy: 0.0943\n",
      "Epoch 15/50\n",
      "2755/2755 [==============================] - 2s 547us/step - loss: -2398.7670 - accuracy: 0.1202\n",
      "Epoch 16/50\n",
      "2755/2755 [==============================] - 2s 549us/step - loss: -3880.2843 - accuracy: 0.1145\n",
      "Epoch 17/50\n",
      "2755/2755 [==============================] - 2s 547us/step - loss: -4599.2987 - accuracy: 0.1023\n",
      "Epoch 18/50\n",
      "2755/2755 [==============================] - 1s 544us/step - loss: -4017.3310 - accuracy: 0.1175\n",
      "Epoch 19/50\n",
      "2755/2755 [==============================] - 2s 548us/step - loss: -7847.9312 - accuracy: 0.0845\n",
      "Epoch 20/50\n",
      "2755/2755 [==============================] - 2s 546us/step - loss: -7000.0324 - accuracy: 0.1301\n",
      "Epoch 21/50\n",
      "2755/2755 [==============================] - 2s 547us/step - loss: -7495.5947 - accuracy: 0.1142\n",
      "Epoch 22/50\n",
      "2755/2755 [==============================] - 2s 565us/step - loss: -12967.7755 - accuracy: 0.0782\n",
      "Epoch 23/50\n",
      "2755/2755 [==============================] - 2s 561us/step - loss: -13499.7244 - accuracy: 0.1095\n",
      "Epoch 24/50\n",
      "2755/2755 [==============================] - 1s 544us/step - loss: -11193.8723 - accuracy: 0.1213\n",
      "Epoch 25/50\n",
      "2755/2755 [==============================] - 2s 547us/step - loss: -13162.6005 - accuracy: 0.1035\n",
      "Epoch 26/50\n",
      "2755/2755 [==============================] - 2s 544us/step - loss: -19179.5614 - accuracy: 0.0953\n",
      "Epoch 27/50\n",
      "2755/2755 [==============================] - 2s 550us/step - loss: -24059.9308 - accuracy: 0.1230\n",
      "Epoch 28/50\n",
      "2755/2755 [==============================] - 2s 548us/step - loss: -22265.0122 - accuracy: 0.0977\n",
      "Epoch 29/50\n",
      "2755/2755 [==============================] - 2s 564us/step - loss: -21508.5921 - accuracy: 0.1182\n",
      "Epoch 30/50\n",
      "2755/2755 [==============================] - 2s 548us/step - loss: -27395.6499 - accuracy: 0.1029\n",
      "Epoch 31/50\n",
      "2755/2755 [==============================] - 2s 545us/step - loss: -30017.0486 - accuracy: 0.1219\n",
      "Epoch 32/50\n",
      "2755/2755 [==============================] - 2s 559us/step - loss: -26877.9712 - accuracy: 0.1182\n",
      "Epoch 33/50\n",
      "2755/2755 [==============================] - 2s 561us/step - loss: -36279.1813 - accuracy: 0.1033\n",
      "Epoch 34/50\n",
      "2755/2755 [==============================] - 2s 577us/step - loss: -40450.9086 - accuracy: 0.1011\n",
      "Epoch 35/50\n",
      "2755/2755 [==============================] - 2s 572us/step - loss: -37468.3240 - accuracy: 0.1225\n",
      "Epoch 36/50\n",
      "2755/2755 [==============================] - 2s 562us/step - loss: -51336.1439 - accuracy: 0.0982\n",
      "Epoch 37/50\n",
      "2755/2755 [==============================] - 2s 546us/step - loss: -42155.4539 - accuracy: 0.1248\n",
      "Epoch 38/50\n",
      "2755/2755 [==============================] - 2s 551us/step - loss: -36074.9998 - accuracy: 0.1170\n",
      "Epoch 39/50\n",
      "2755/2755 [==============================] - 2s 549us/step - loss: -58383.8359 - accuracy: 0.1062\n",
      "Epoch 40/50\n",
      "2755/2755 [==============================] - 2s 723us/step - loss: -77307.3759 - accuracy: 0.1149\n",
      "Epoch 41/50\n",
      "2755/2755 [==============================] - 2s 615us/step - loss: -79710.4661 - accuracy: 0.1073\n",
      "Epoch 42/50\n",
      "2755/2755 [==============================] - 2s 583us/step - loss: -69444.8682 - accuracy: 0.1152\n",
      "Epoch 43/50\n",
      "2755/2755 [==============================] - 2s 580us/step - loss: -77628.9554 - accuracy: 0.0946\n",
      "Epoch 44/50\n",
      "2755/2755 [==============================] - 2s 555us/step - loss: -65218.2426 - accuracy: 0.1240\n",
      "Epoch 45/50\n",
      "2755/2755 [==============================] - 1s 543us/step - loss: -86180.0625 - accuracy: 0.1027\n",
      "Epoch 46/50\n",
      "2755/2755 [==============================] - 2s 547us/step - loss: -98300.9520 - accuracy: 0.1108\n",
      "Epoch 47/50\n",
      "2755/2755 [==============================] - 2s 546us/step - loss: -105087.7076 - accuracy: 0.1128\n",
      "Epoch 48/50\n",
      "2755/2755 [==============================] - 2s 547us/step - loss: -118656.9763 - accuracy: 0.1107\n",
      "Epoch 49/50\n",
      "2755/2755 [==============================] - 2s 546us/step - loss: -121532.4864 - accuracy: 0.1182\n",
      "Epoch 50/50\n",
      "2755/2755 [==============================] - 2s 546us/step - loss: -111076.2920 - accuracy: 0.1243\n"
     ]
    },
    {
     "data": {
      "text/plain": [
       "<tensorflow.python.keras.callbacks.History at 0x18548253970>"
      ]
     },
     "execution_count": 14,
     "metadata": {},
     "output_type": "execute_result"
    }
   ],
   "source": [
    "model.fit(X_train, Y_train,\n",
    "          batch_size=32, epochs=50)"
   ]
  },
  {
   "cell_type": "code",
   "execution_count": 15,
   "metadata": {},
   "outputs": [
    {
     "name": "stdout",
     "output_type": "stream",
     "text": [
      "689/689 [==============================] - 0s 401us/step - loss: -97804.4531 - accuracy: 0.1001\n",
      "The accuracy is 10.00998243689537\n"
     ]
    }
   ],
   "source": [
    "print(f'The accuracy is {model.evaluate(X_test, Y_test)[1]*100}')"
   ]
  },
  {
   "cell_type": "code",
   "execution_count": 16,
   "metadata": {},
   "outputs": [],
   "source": [
    "predictions= model.predict(X_test)\n",
    "predictions = min_max_scaler.inverse_transform(predictions)"
   ]
  },
  {
   "cell_type": "code",
   "execution_count": 17,
   "metadata": {},
   "outputs": [
    {
     "data": {
      "text/plain": [
       "22038"
      ]
     },
     "execution_count": 17,
     "metadata": {},
     "output_type": "execute_result"
    }
   ],
   "source": [
    "np.count_nonzero(~np.isnan(predictions))"
   ]
  },
  {
   "cell_type": "code",
   "execution_count": 18,
   "metadata": {},
   "outputs": [
    {
     "data": {
      "text/plain": [
       "22038"
      ]
     },
     "execution_count": 18,
     "metadata": {},
     "output_type": "execute_result"
    }
   ],
   "source": [
    "predictions.size"
   ]
  },
  {
   "cell_type": "markdown",
   "metadata": {},
   "source": [
    "**Evaluating the model on mean squared error**"
   ]
  },
  {
   "cell_type": "code",
   "execution_count": 19,
   "metadata": {},
   "outputs": [
    {
     "data": {
      "text/plain": [
       "242.90353338353756"
      ]
     },
     "execution_count": 19,
     "metadata": {},
     "output_type": "execute_result"
    }
   ],
   "source": [
    "mean_squared_error(Y_test, predictions, squared=False)"
   ]
  },
  {
   "cell_type": "markdown",
   "metadata": {},
   "source": [
    "# Decision Tree Regression"
   ]
  },
  {
   "cell_type": "code",
   "execution_count": 20,
   "metadata": {},
   "outputs": [],
   "source": [
    "regressor = DecisionTreeRegressor(random_state=0)"
   ]
  },
  {
   "cell_type": "code",
   "execution_count": 21,
   "metadata": {},
   "outputs": [
    {
     "data": {
      "text/plain": [
       "DecisionTreeRegressor(random_state=0)"
      ]
     },
     "execution_count": 21,
     "metadata": {},
     "output_type": "execute_result"
    }
   ],
   "source": [
    "regressor.fit(X_train,Y_train)"
   ]
  },
  {
   "cell_type": "code",
   "execution_count": 25,
   "metadata": {},
   "outputs": [],
   "source": [
    "y_pred = regressor.predict(X_test)"
   ]
  },
  {
   "cell_type": "code",
   "execution_count": 26,
   "metadata": {},
   "outputs": [],
   "source": [
    "df_dtr = pd.DataFrame(Y_test)\n",
    "df_dtr['PredictedDelay'] = y_pred"
   ]
  },
  {
   "cell_type": "code",
   "execution_count": 27,
   "metadata": {},
   "outputs": [
    {
     "data": {
      "text/html": [
       "<div>\n",
       "<style scoped>\n",
       "    .dataframe tbody tr th:only-of-type {\n",
       "        vertical-align: middle;\n",
       "    }\n",
       "\n",
       "    .dataframe tbody tr th {\n",
       "        vertical-align: top;\n",
       "    }\n",
       "\n",
       "    .dataframe thead th {\n",
       "        text-align: right;\n",
       "    }\n",
       "</style>\n",
       "<table border=\"1\" class=\"dataframe\">\n",
       "  <thead>\n",
       "    <tr style=\"text-align: right;\">\n",
       "      <th></th>\n",
       "      <th>ArrivalDelay</th>\n",
       "      <th>PredictedDelay</th>\n",
       "    </tr>\n",
       "  </thead>\n",
       "  <tbody>\n",
       "    <tr>\n",
       "      <th>8</th>\n",
       "      <td>1.0</td>\n",
       "      <td>0.0</td>\n",
       "    </tr>\n",
       "    <tr>\n",
       "      <th>36</th>\n",
       "      <td>1.0</td>\n",
       "      <td>0.0</td>\n",
       "    </tr>\n",
       "    <tr>\n",
       "      <th>40</th>\n",
       "      <td>0.0</td>\n",
       "      <td>0.0</td>\n",
       "    </tr>\n",
       "    <tr>\n",
       "      <th>47</th>\n",
       "      <td>0.0</td>\n",
       "      <td>0.0</td>\n",
       "    </tr>\n",
       "    <tr>\n",
       "      <th>50</th>\n",
       "      <td>0.0</td>\n",
       "      <td>0.0</td>\n",
       "    </tr>\n",
       "    <tr>\n",
       "      <th>...</th>\n",
       "      <td>...</td>\n",
       "      <td>...</td>\n",
       "    </tr>\n",
       "    <tr>\n",
       "      <th>111236</th>\n",
       "      <td>3.0</td>\n",
       "      <td>0.0</td>\n",
       "    </tr>\n",
       "    <tr>\n",
       "      <th>111238</th>\n",
       "      <td>0.0</td>\n",
       "      <td>0.0</td>\n",
       "    </tr>\n",
       "    <tr>\n",
       "      <th>111240</th>\n",
       "      <td>1.5</td>\n",
       "      <td>0.0</td>\n",
       "    </tr>\n",
       "    <tr>\n",
       "      <th>111252</th>\n",
       "      <td>0.0</td>\n",
       "      <td>7.0</td>\n",
       "    </tr>\n",
       "    <tr>\n",
       "      <th>111258</th>\n",
       "      <td>0.0</td>\n",
       "      <td>2.0</td>\n",
       "    </tr>\n",
       "  </tbody>\n",
       "</table>\n",
       "<p>22038 rows × 2 columns</p>\n",
       "</div>"
      ],
      "text/plain": [
       "        ArrivalDelay  PredictedDelay\n",
       "8                1.0             0.0\n",
       "36               1.0             0.0\n",
       "40               0.0             0.0\n",
       "47               0.0             0.0\n",
       "50               0.0             0.0\n",
       "...              ...             ...\n",
       "111236           3.0             0.0\n",
       "111238           0.0             0.0\n",
       "111240           1.5             0.0\n",
       "111252           0.0             7.0\n",
       "111258           0.0             2.0\n",
       "\n",
       "[22038 rows x 2 columns]"
      ]
     },
     "execution_count": 27,
     "metadata": {},
     "output_type": "execute_result"
    }
   ],
   "source": [
    "df_dtr.sort_index()"
   ]
  },
  {
   "cell_type": "code",
   "execution_count": 28,
   "metadata": {},
   "outputs": [
    {
     "data": {
      "text/html": [
       "<div>\n",
       "<style scoped>\n",
       "    .dataframe tbody tr th:only-of-type {\n",
       "        vertical-align: middle;\n",
       "    }\n",
       "\n",
       "    .dataframe tbody tr th {\n",
       "        vertical-align: top;\n",
       "    }\n",
       "\n",
       "    .dataframe thead th {\n",
       "        text-align: right;\n",
       "    }\n",
       "</style>\n",
       "<table border=\"1\" class=\"dataframe\">\n",
       "  <thead>\n",
       "    <tr style=\"text-align: right;\">\n",
       "      <th></th>\n",
       "      <th>ArrivalDelay</th>\n",
       "      <th>PredictedDelay</th>\n",
       "    </tr>\n",
       "  </thead>\n",
       "  <tbody>\n",
       "    <tr>\n",
       "      <th>23363</th>\n",
       "      <td>49.0</td>\n",
       "      <td>49.000000</td>\n",
       "    </tr>\n",
       "    <tr>\n",
       "      <th>67955</th>\n",
       "      <td>39.0</td>\n",
       "      <td>0.000000</td>\n",
       "    </tr>\n",
       "    <tr>\n",
       "      <th>40047</th>\n",
       "      <td>72.0</td>\n",
       "      <td>0.000000</td>\n",
       "    </tr>\n",
       "    <tr>\n",
       "      <th>93840</th>\n",
       "      <td>180.0</td>\n",
       "      <td>180.000000</td>\n",
       "    </tr>\n",
       "    <tr>\n",
       "      <th>93652</th>\n",
       "      <td>30.0</td>\n",
       "      <td>0.000000</td>\n",
       "    </tr>\n",
       "    <tr>\n",
       "      <th>107024</th>\n",
       "      <td>32.0</td>\n",
       "      <td>0.000000</td>\n",
       "    </tr>\n",
       "    <tr>\n",
       "      <th>104975</th>\n",
       "      <td>53.0</td>\n",
       "      <td>0.000000</td>\n",
       "    </tr>\n",
       "    <tr>\n",
       "      <th>101163</th>\n",
       "      <td>89.0</td>\n",
       "      <td>89.000000</td>\n",
       "    </tr>\n",
       "    <tr>\n",
       "      <th>25168</th>\n",
       "      <td>29.0</td>\n",
       "      <td>29.000000</td>\n",
       "    </tr>\n",
       "    <tr>\n",
       "      <th>63313</th>\n",
       "      <td>31.0</td>\n",
       "      <td>31.000000</td>\n",
       "    </tr>\n",
       "    <tr>\n",
       "      <th>107376</th>\n",
       "      <td>39.0</td>\n",
       "      <td>0.000000</td>\n",
       "    </tr>\n",
       "    <tr>\n",
       "      <th>90541</th>\n",
       "      <td>50.0</td>\n",
       "      <td>2.000000</td>\n",
       "    </tr>\n",
       "    <tr>\n",
       "      <th>63532</th>\n",
       "      <td>37.0</td>\n",
       "      <td>37.000000</td>\n",
       "    </tr>\n",
       "    <tr>\n",
       "      <th>49885</th>\n",
       "      <td>63.0</td>\n",
       "      <td>63.000000</td>\n",
       "    </tr>\n",
       "    <tr>\n",
       "      <th>74491</th>\n",
       "      <td>41.0</td>\n",
       "      <td>41.000000</td>\n",
       "    </tr>\n",
       "    <tr>\n",
       "      <th>100310</th>\n",
       "      <td>29.0</td>\n",
       "      <td>0.000000</td>\n",
       "    </tr>\n",
       "    <tr>\n",
       "      <th>25607</th>\n",
       "      <td>28.0</td>\n",
       "      <td>0.000000</td>\n",
       "    </tr>\n",
       "    <tr>\n",
       "      <th>45670</th>\n",
       "      <td>77.0</td>\n",
       "      <td>0.000000</td>\n",
       "    </tr>\n",
       "    <tr>\n",
       "      <th>51822</th>\n",
       "      <td>45.0</td>\n",
       "      <td>45.000000</td>\n",
       "    </tr>\n",
       "    <tr>\n",
       "      <th>59346</th>\n",
       "      <td>46.0</td>\n",
       "      <td>44.500000</td>\n",
       "    </tr>\n",
       "    <tr>\n",
       "      <th>22373</th>\n",
       "      <td>92.0</td>\n",
       "      <td>0.000000</td>\n",
       "    </tr>\n",
       "    <tr>\n",
       "      <th>4146</th>\n",
       "      <td>36.0</td>\n",
       "      <td>0.000000</td>\n",
       "    </tr>\n",
       "    <tr>\n",
       "      <th>99707</th>\n",
       "      <td>27.0</td>\n",
       "      <td>0.000000</td>\n",
       "    </tr>\n",
       "    <tr>\n",
       "      <th>6241</th>\n",
       "      <td>47.0</td>\n",
       "      <td>0.000000</td>\n",
       "    </tr>\n",
       "    <tr>\n",
       "      <th>47096</th>\n",
       "      <td>29.0</td>\n",
       "      <td>0.000000</td>\n",
       "    </tr>\n",
       "    <tr>\n",
       "      <th>98488</th>\n",
       "      <td>53.0</td>\n",
       "      <td>53.000000</td>\n",
       "    </tr>\n",
       "    <tr>\n",
       "      <th>67205</th>\n",
       "      <td>89.0</td>\n",
       "      <td>3.333333</td>\n",
       "    </tr>\n",
       "    <tr>\n",
       "      <th>31117</th>\n",
       "      <td>39.0</td>\n",
       "      <td>39.000000</td>\n",
       "    </tr>\n",
       "    <tr>\n",
       "      <th>90977</th>\n",
       "      <td>29.0</td>\n",
       "      <td>0.000000</td>\n",
       "    </tr>\n",
       "    <tr>\n",
       "      <th>27290</th>\n",
       "      <td>40.0</td>\n",
       "      <td>40.000000</td>\n",
       "    </tr>\n",
       "    <tr>\n",
       "      <th>45957</th>\n",
       "      <td>86.0</td>\n",
       "      <td>86.000000</td>\n",
       "    </tr>\n",
       "    <tr>\n",
       "      <th>77448</th>\n",
       "      <td>32.0</td>\n",
       "      <td>0.000000</td>\n",
       "    </tr>\n",
       "    <tr>\n",
       "      <th>66339</th>\n",
       "      <td>39.0</td>\n",
       "      <td>0.000000</td>\n",
       "    </tr>\n",
       "    <tr>\n",
       "      <th>8894</th>\n",
       "      <td>26.0</td>\n",
       "      <td>17.000000</td>\n",
       "    </tr>\n",
       "    <tr>\n",
       "      <th>56910</th>\n",
       "      <td>256.0</td>\n",
       "      <td>0.000000</td>\n",
       "    </tr>\n",
       "    <tr>\n",
       "      <th>110824</th>\n",
       "      <td>30.0</td>\n",
       "      <td>0.000000</td>\n",
       "    </tr>\n",
       "    <tr>\n",
       "      <th>35509</th>\n",
       "      <td>40.0</td>\n",
       "      <td>40.000000</td>\n",
       "    </tr>\n",
       "    <tr>\n",
       "      <th>44576</th>\n",
       "      <td>130.0</td>\n",
       "      <td>0.000000</td>\n",
       "    </tr>\n",
       "    <tr>\n",
       "      <th>43813</th>\n",
       "      <td>33.0</td>\n",
       "      <td>0.000000</td>\n",
       "    </tr>\n",
       "    <tr>\n",
       "      <th>48599</th>\n",
       "      <td>56.0</td>\n",
       "      <td>24.000000</td>\n",
       "    </tr>\n",
       "    <tr>\n",
       "      <th>60605</th>\n",
       "      <td>42.0</td>\n",
       "      <td>21.000000</td>\n",
       "    </tr>\n",
       "    <tr>\n",
       "      <th>52608</th>\n",
       "      <td>32.0</td>\n",
       "      <td>146.000000</td>\n",
       "    </tr>\n",
       "    <tr>\n",
       "      <th>22907</th>\n",
       "      <td>97.0</td>\n",
       "      <td>97.000000</td>\n",
       "    </tr>\n",
       "    <tr>\n",
       "      <th>48487</th>\n",
       "      <td>45.0</td>\n",
       "      <td>15.000000</td>\n",
       "    </tr>\n",
       "    <tr>\n",
       "      <th>63440</th>\n",
       "      <td>45.0</td>\n",
       "      <td>45.000000</td>\n",
       "    </tr>\n",
       "    <tr>\n",
       "      <th>1649</th>\n",
       "      <td>27.0</td>\n",
       "      <td>64.000000</td>\n",
       "    </tr>\n",
       "    <tr>\n",
       "      <th>51933</th>\n",
       "      <td>28.0</td>\n",
       "      <td>28.000000</td>\n",
       "    </tr>\n",
       "    <tr>\n",
       "      <th>63541</th>\n",
       "      <td>27.0</td>\n",
       "      <td>27.000000</td>\n",
       "    </tr>\n",
       "    <tr>\n",
       "      <th>41685</th>\n",
       "      <td>40.0</td>\n",
       "      <td>40.000000</td>\n",
       "    </tr>\n",
       "    <tr>\n",
       "      <th>63540</th>\n",
       "      <td>27.0</td>\n",
       "      <td>27.000000</td>\n",
       "    </tr>\n",
       "  </tbody>\n",
       "</table>\n",
       "</div>"
      ],
      "text/plain": [
       "        ArrivalDelay  PredictedDelay\n",
       "23363           49.0       49.000000\n",
       "67955           39.0        0.000000\n",
       "40047           72.0        0.000000\n",
       "93840          180.0      180.000000\n",
       "93652           30.0        0.000000\n",
       "107024          32.0        0.000000\n",
       "104975          53.0        0.000000\n",
       "101163          89.0       89.000000\n",
       "25168           29.0       29.000000\n",
       "63313           31.0       31.000000\n",
       "107376          39.0        0.000000\n",
       "90541           50.0        2.000000\n",
       "63532           37.0       37.000000\n",
       "49885           63.0       63.000000\n",
       "74491           41.0       41.000000\n",
       "100310          29.0        0.000000\n",
       "25607           28.0        0.000000\n",
       "45670           77.0        0.000000\n",
       "51822           45.0       45.000000\n",
       "59346           46.0       44.500000\n",
       "22373           92.0        0.000000\n",
       "4146            36.0        0.000000\n",
       "99707           27.0        0.000000\n",
       "6241            47.0        0.000000\n",
       "47096           29.0        0.000000\n",
       "98488           53.0       53.000000\n",
       "67205           89.0        3.333333\n",
       "31117           39.0       39.000000\n",
       "90977           29.0        0.000000\n",
       "27290           40.0       40.000000\n",
       "45957           86.0       86.000000\n",
       "77448           32.0        0.000000\n",
       "66339           39.0        0.000000\n",
       "8894            26.0       17.000000\n",
       "56910          256.0        0.000000\n",
       "110824          30.0        0.000000\n",
       "35509           40.0       40.000000\n",
       "44576          130.0        0.000000\n",
       "43813           33.0        0.000000\n",
       "48599           56.0       24.000000\n",
       "60605           42.0       21.000000\n",
       "52608           32.0      146.000000\n",
       "22907           97.0       97.000000\n",
       "48487           45.0       15.000000\n",
       "63440           45.0       45.000000\n",
       "1649            27.0       64.000000\n",
       "51933           28.0       28.000000\n",
       "63541           27.0       27.000000\n",
       "41685           40.0       40.000000\n",
       "63540           27.0       27.000000"
      ]
     },
     "execution_count": 28,
     "metadata": {},
     "output_type": "execute_result"
    }
   ],
   "source": [
    "df_dtr.loc[df_dtr['ArrivalDelay']>25].head(50)"
   ]
  },
  {
   "cell_type": "code",
   "execution_count": 29,
   "metadata": {},
   "outputs": [
    {
     "data": {
      "image/png": "[encoded data removed]",
      "text/plain": [
       "<Figure size 432x288 with 1 Axes>"
      ]
     },
     "metadata": {
      "needs_background": "light"
     },
     "output_type": "display_data"
    }
   ],
   "source": [
    "plt.plot(y_pred, color = 'red')\n",
    "viz = np.array(Y_test)\n",
    "plt.plot(viz, color = 'blue')\n",
    "plt.title('Difference between actual delay and predicted')\n",
    "plt.ylabel('Delay in minutes')\n",
    "plt.show()"
   ]
  },
  {
   "cell_type": "markdown",
   "metadata": {},
   "source": [
    "**Evaluating the model on mean squared error**"
   ]
  },
  {
   "cell_type": "code",
   "execution_count": 30,
   "metadata": {},
   "outputs": [
    {
     "data": {
      "text/plain": [
       "5.822959991149753"
      ]
     },
     "execution_count": 30,
     "metadata": {},
     "output_type": "execute_result"
    }
   ],
   "source": [
    "mean_squared_error(Y_test, y_pred, squared=False)"
   ]
  },
  {
   "cell_type": "code",
   "execution_count": 31,
   "metadata": {},
   "outputs": [
    {
     "name": "stdout",
     "output_type": "stream",
     "text": [
      "The R squared value on the decision tree regressor model is 0.1127727646074527\n"
     ]
    }
   ],
   "source": [
    "correlation_matrix = np.corrcoef(y_pred, Y_test)\n",
    "correlation_xy = correlation_matrix[0,1]\n",
    "r_squared = correlation_xy**2\n",
    "\n",
    "print(f'The R squared value on the decision tree regressor model is {r_squared}')"
   ]
  },
  {
   "cell_type": "markdown",
   "metadata": {},
   "source": [
    "# SVR"
   ]
  },
  {
   "cell_type": "code",
   "execution_count": 32,
   "metadata": {},
   "outputs": [],
   "source": [
    "sc_X = preprocessing.StandardScaler()\n",
    "sc_y = preprocessing.StandardScaler()\n",
    "X_sc = sc_X.fit_transform(X)\n",
    "y_sc = sc_y.fit_transform(y.values.reshape(-1,1))"
   ]
  },
  {
   "cell_type": "code",
   "execution_count": 33,
   "metadata": {},
   "outputs": [],
   "source": [
    "X_train_svr, X_test_svr, Y_train_svr, Y_test_svr = train_test_split(X_sc, y_sc, test_size=0.2)"
   ]
  },
  {
   "cell_type": "code",
   "execution_count": 12,
   "metadata": {},
   "outputs": [
    {
     "data": {
      "text/plain": [
       "SVR()"
      ]
     },
     "execution_count": 12,
     "metadata": {},
     "output_type": "execute_result"
    }
   ],
   "source": [
    "regressor_svr = SVR(kernel = 'rbf')\n",
    "regressor_svr.fit(X_train_svr, np.ravel(Y_train_svr))"
   ]
  },
  {
   "cell_type": "code",
   "execution_count": 14,
   "metadata": {},
   "outputs": [],
   "source": [
    "y_pred_svr = regressor_svr.predict(X_test_svr) "
   ]
  },
  {
   "cell_type": "code",
   "execution_count": 62,
   "metadata": {},
   "outputs": [],
   "source": [
    "y_pred_svr = sc_y.inverse_transform(y_pred_svr)\n",
    "Y_test_svr = sc_y.inverse_transform(Y_test_svr)"
   ]
  },
  {
   "cell_type": "code",
   "execution_count": 63,
   "metadata": {},
   "outputs": [
    {
     "data": {
      "text/plain": [
       "array([3.1296253 , 3.12748074, 3.1242697 , ..., 3.12869473, 3.10020592,\n",
       "       3.12352575])"
      ]
     },
     "execution_count": 63,
     "metadata": {},
     "output_type": "execute_result"
    }
   ],
   "source": [
    "y_pred_svr"
   ]
  },
  {
   "cell_type": "markdown",
   "metadata": {},
   "source": [
    "**Evaluating the model on mean squared error**"
   ]
  },
  {
   "cell_type": "code",
   "execution_count": 64,
   "metadata": {},
   "outputs": [
    {
     "data": {
      "text/plain": [
       "5.14786528979707"
      ]
     },
     "execution_count": 64,
     "metadata": {},
     "output_type": "execute_result"
    }
   ],
   "source": [
    "mean_squared_error(Y_test_svr, y_pred_svr, squared=False)"
   ]
  },
  {
   "cell_type": "code",
   "execution_count": null,
   "metadata": {},
   "outputs": [],
   "source": []
  }
 ],
 "metadata": {
  "kernelspec": {
   "display_name": "Python 3",
   "language": "python",
   "name": "python3"
  },
  "language_info": {
   "codemirror_mode": {
    "name": "ipython",
    "version": 3
   },
   "file_extension": ".py",
   "mimetype": "text/x-python",
   "name": "python",
   "nbconvert_exporter": "python",
   "pygments_lexer": "ipython3",
   "version": "3.8.5"
  }
 },
 "nbformat": 4,
 "nbformat_minor": 4
}
