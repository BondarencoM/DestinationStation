{
 "cells": [
  {
   "cell_type": "code",
   "execution_count": 7,
   "metadata": {},
   "outputs": [
    {
     "name": "stdout",
     "output_type": "stream",
     "text": [
      "Requirement already satisfied: imblearn in c:\\users\\zhaklin\\anaconda3\\lib\\site-packages (0.0)\n",
      "Requirement already satisfied: imbalanced-learn in c:\\users\\zhaklin\\anaconda3\\lib\\site-packages (from imblearn) (0.8.0)\n",
      "Requirement already satisfied: joblib>=0.11 in c:\\users\\zhaklin\\anaconda3\\lib\\site-packages (from imbalanced-learn->imblearn) (0.17.0)\n",
      "Requirement already satisfied: numpy>=1.13.3 in c:\\users\\zhaklin\\anaconda3\\lib\\site-packages (from imbalanced-learn->imblearn) (1.19.2)\n",
      "Requirement already satisfied: scipy>=0.19.1 in c:\\users\\zhaklin\\anaconda3\\lib\\site-packages (from imbalanced-learn->imblearn) (1.5.2)\n",
      "Requirement already satisfied: scikit-learn>=0.24 in c:\\users\\zhaklin\\anaconda3\\lib\\site-packages (from imbalanced-learn->imblearn) (0.24.2)\n",
      "Requirement already satisfied: threadpoolctl>=2.0.0 in c:\\users\\zhaklin\\anaconda3\\lib\\site-packages (from scikit-learn>=0.24->imbalanced-learn->imblearn) (2.1.0)\n"
     ]
    }
   ],
   "source": [
    "!pip install imblearn"
   ]
  },
  {
   "cell_type": "code",
   "execution_count": 80,
   "metadata": {},
   "outputs": [],
   "source": [
    "import pandas as pd\n",
    "from pandas import DataFrame\n",
    "import numpy as np\n",
    "import matplotlib.pyplot as plt\n",
    "import seaborn as sns\n",
    "from sklearn.model_selection import cross_val_score,train_test_split #for the splitting of the test and train data\n",
    "from sklearn.preprocessing import StandardScaler, LabelEncoder #feature scaling\n",
    "from sklearn.ensemble import RandomForestRegressor\n",
    "%matplotlib inline\n",
    "from sklearn import metrics\n",
    "from sklearn.metrics import f1_score #evaluation "
   ]
  },
  {
   "cell_type": "code",
   "execution_count": 9,
   "metadata": {},
   "outputs": [],
   "source": [
    "df = pd.read_csv(\"../assets/data/2019-UT-ASD-Full/2019-UT-ASD-scrapped.csv\")"
   ]
  },
  {
   "cell_type": "code",
   "execution_count": 10,
   "metadata": {},
   "outputs": [
    {
     "data": {
      "text/html": [
       "<div>\n",
       "<style scoped>\n",
       "    .dataframe tbody tr th:only-of-type {\n",
       "        vertical-align: middle;\n",
       "    }\n",
       "\n",
       "    .dataframe tbody tr th {\n",
       "        vertical-align: top;\n",
       "    }\n",
       "\n",
       "    .dataframe thead th {\n",
       "        text-align: right;\n",
       "    }\n",
       "</style>\n",
       "<table border=\"1\" class=\"dataframe\">\n",
       "  <thead>\n",
       "    <tr style=\"text-align: right;\">\n",
       "      <th></th>\n",
       "      <th>Unnamed: 0</th>\n",
       "      <th>Date</th>\n",
       "      <th>RideId</th>\n",
       "      <th>TrainId</th>\n",
       "      <th>DepartureStation</th>\n",
       "      <th>DepartureTime</th>\n",
       "      <th>DepartureDelay</th>\n",
       "      <th>DestinationStation</th>\n",
       "      <th>ArrivalTime</th>\n",
       "      <th>ArrivalDelay</th>\n",
       "      <th>...</th>\n",
       "      <th>rdt_station_names</th>\n",
       "      <th>rdt_station_codes</th>\n",
       "      <th>cause_nl</th>\n",
       "      <th>cause_en</th>\n",
       "      <th>statistical_cause_nl</th>\n",
       "      <th>statistical_cause_en</th>\n",
       "      <th>cause_group</th>\n",
       "      <th>start_time</th>\n",
       "      <th>end_time</th>\n",
       "      <th>duration_minutes</th>\n",
       "    </tr>\n",
       "  </thead>\n",
       "  <tbody>\n",
       "    <tr>\n",
       "      <th>0</th>\n",
       "      <td>0</td>\n",
       "      <td>2018-12-31</td>\n",
       "      <td>1405</td>\n",
       "      <td>1405</td>\n",
       "      <td>Utrecht Centraal</td>\n",
       "      <td>01:01</td>\n",
       "      <td>1.0</td>\n",
       "      <td>Amsterdam Centraal</td>\n",
       "      <td>01:29</td>\n",
       "      <td>1.5</td>\n",
       "      <td>...</td>\n",
       "      <td>NaN</td>\n",
       "      <td>NaN</td>\n",
       "      <td>NaN</td>\n",
       "      <td>NaN</td>\n",
       "      <td>NaN</td>\n",
       "      <td>NaN</td>\n",
       "      <td>NaN</td>\n",
       "      <td>NaN</td>\n",
       "      <td>NaN</td>\n",
       "      <td>NaN</td>\n",
       "    </tr>\n",
       "    <tr>\n",
       "      <th>1</th>\n",
       "      <td>1</td>\n",
       "      <td>2018-12-31</td>\n",
       "      <td>1402</td>\n",
       "      <td>1402</td>\n",
       "      <td>Amsterdam Centraal</td>\n",
       "      <td>01:18</td>\n",
       "      <td>0.0</td>\n",
       "      <td>Utrecht Centraal</td>\n",
       "      <td>01:53</td>\n",
       "      <td>0.0</td>\n",
       "      <td>...</td>\n",
       "      <td>NaN</td>\n",
       "      <td>NaN</td>\n",
       "      <td>NaN</td>\n",
       "      <td>NaN</td>\n",
       "      <td>NaN</td>\n",
       "      <td>NaN</td>\n",
       "      <td>NaN</td>\n",
       "      <td>NaN</td>\n",
       "      <td>NaN</td>\n",
       "      <td>NaN</td>\n",
       "    </tr>\n",
       "    <tr>\n",
       "      <th>2</th>\n",
       "      <td>2</td>\n",
       "      <td>2019-01-01</td>\n",
       "      <td>1409</td>\n",
       "      <td>1409</td>\n",
       "      <td>Utrecht Centraal</td>\n",
       "      <td>02:17</td>\n",
       "      <td>0.0</td>\n",
       "      <td>Amsterdam Centraal</td>\n",
       "      <td>02:44</td>\n",
       "      <td>1.0</td>\n",
       "      <td>...</td>\n",
       "      <td>NaN</td>\n",
       "      <td>NaN</td>\n",
       "      <td>NaN</td>\n",
       "      <td>NaN</td>\n",
       "      <td>NaN</td>\n",
       "      <td>NaN</td>\n",
       "      <td>NaN</td>\n",
       "      <td>NaN</td>\n",
       "      <td>NaN</td>\n",
       "      <td>NaN</td>\n",
       "    </tr>\n",
       "    <tr>\n",
       "      <th>3</th>\n",
       "      <td>3</td>\n",
       "      <td>2018-12-31</td>\n",
       "      <td>1406</td>\n",
       "      <td>1406</td>\n",
       "      <td>Amsterdam Centraal</td>\n",
       "      <td>02:19</td>\n",
       "      <td>1.5</td>\n",
       "      <td>Utrecht Centraal</td>\n",
       "      <td>02:45</td>\n",
       "      <td>0.0</td>\n",
       "      <td>...</td>\n",
       "      <td>NaN</td>\n",
       "      <td>NaN</td>\n",
       "      <td>NaN</td>\n",
       "      <td>NaN</td>\n",
       "      <td>NaN</td>\n",
       "      <td>NaN</td>\n",
       "      <td>NaN</td>\n",
       "      <td>NaN</td>\n",
       "      <td>NaN</td>\n",
       "      <td>NaN</td>\n",
       "    </tr>\n",
       "    <tr>\n",
       "      <th>4</th>\n",
       "      <td>4</td>\n",
       "      <td>2019-01-01</td>\n",
       "      <td>1413</td>\n",
       "      <td>1413</td>\n",
       "      <td>Utrecht Centraal</td>\n",
       "      <td>03:11</td>\n",
       "      <td>0.0</td>\n",
       "      <td>Amsterdam Centraal</td>\n",
       "      <td>03:44</td>\n",
       "      <td>0.0</td>\n",
       "      <td>...</td>\n",
       "      <td>NaN</td>\n",
       "      <td>NaN</td>\n",
       "      <td>NaN</td>\n",
       "      <td>NaN</td>\n",
       "      <td>NaN</td>\n",
       "      <td>NaN</td>\n",
       "      <td>NaN</td>\n",
       "      <td>NaN</td>\n",
       "      <td>NaN</td>\n",
       "      <td>NaN</td>\n",
       "    </tr>\n",
       "  </tbody>\n",
       "</table>\n",
       "<p>5 rows × 87 columns</p>\n",
       "</div>"
      ],
      "text/plain": [
       "   Unnamed: 0        Date  RideId  TrainId    DepartureStation DepartureTime  \\\n",
       "0           0  2018-12-31    1405     1405    Utrecht Centraal         01:01   \n",
       "1           1  2018-12-31    1402     1402  Amsterdam Centraal         01:18   \n",
       "2           2  2019-01-01    1409     1409    Utrecht Centraal         02:17   \n",
       "3           3  2018-12-31    1406     1406  Amsterdam Centraal         02:19   \n",
       "4           4  2019-01-01    1413     1413    Utrecht Centraal         03:11   \n",
       "\n",
       "   DepartureDelay  DestinationStation ArrivalTime  ArrivalDelay  ...  \\\n",
       "0             1.0  Amsterdam Centraal       01:29           1.5  ...   \n",
       "1             0.0    Utrecht Centraal       01:53           0.0  ...   \n",
       "2             0.0  Amsterdam Centraal       02:44           1.0  ...   \n",
       "3             1.5    Utrecht Centraal       02:45           0.0  ...   \n",
       "4             0.0  Amsterdam Centraal       03:44           0.0  ...   \n",
       "\n",
       "  rdt_station_names rdt_station_codes cause_nl cause_en statistical_cause_nl  \\\n",
       "0               NaN               NaN      NaN      NaN                  NaN   \n",
       "1               NaN               NaN      NaN      NaN                  NaN   \n",
       "2               NaN               NaN      NaN      NaN                  NaN   \n",
       "3               NaN               NaN      NaN      NaN                  NaN   \n",
       "4               NaN               NaN      NaN      NaN                  NaN   \n",
       "\n",
       "  statistical_cause_en cause_group start_time end_time duration_minutes  \n",
       "0                  NaN         NaN        NaN      NaN              NaN  \n",
       "1                  NaN         NaN        NaN      NaN              NaN  \n",
       "2                  NaN         NaN        NaN      NaN              NaN  \n",
       "3                  NaN         NaN        NaN      NaN              NaN  \n",
       "4                  NaN         NaN        NaN      NaN              NaN  \n",
       "\n",
       "[5 rows x 87 columns]"
      ]
     },
     "execution_count": 10,
     "metadata": {},
     "output_type": "execute_result"
    }
   ],
   "source": [
    "df.head()"
   ]
  },
  {
   "cell_type": "code",
   "execution_count": 11,
   "metadata": {},
   "outputs": [
    {
     "data": {
      "image/png": "[encoded data removed]",
      "text/plain": [
       "<Figure size 864x576 with 2 Axes>"
      ]
     },
     "metadata": {
      "needs_background": "light"
     },
     "output_type": "display_data"
    }
   ],
   "source": [
    "plt.figure(figsize=(12, 8))\n",
    "df_temp = df.copy()\n",
    "Index= ['RideId',\t'DepartureStation',\t'Date',\t'DestinationStation',\t'cause_en',\t'DepartureTime',\t'ArrivalTime',\t'DepartureDelay',\t'ArrivalDelay',\t'DepartureFog',\t'DepartureRain',\t'DepartureSnow',\t'DepartureThunder',\t'DepartureIceFormation ']\n",
    "Cols = ['RideId',\t'DepartureStation',\t'Date',\t'DestinationStation',\t'cause_en',\t'DepartureTime',\t'ArrivalTime',\t'DepartureDelay',\t'ArrivalDelay',\t'DepartureFog',\t'DepartureRain',\t'DepartureSnow',\t'DepartureThunder',\t'DepartureIceFormation ']\n",
    "df_temp = DataFrame(abs(np.random.randn(14, 14)), index=Index, columns=Cols)\n",
    "\n",
    "sns.heatmap(df_temp.corr(), annot=True, cmap = 'magma')\n",
    "plt.show()"
   ]
  },
  {
   "cell_type": "code",
   "execution_count": 12,
   "metadata": {},
   "outputs": [],
   "source": [
    "feature_list = ['RideId','DepartureStation','Date','DestinationStation', 'cause_en', 'DepartureTime', 'ArrivalTime', 'ArrivalDelay']"
   ]
  },
  {
   "cell_type": "code",
   "execution_count": 13,
   "metadata": {},
   "outputs": [
    {
     "data": {
      "text/plain": [
       "RideId                    0\n",
       "DepartureStation        930\n",
       "Date                      0\n",
       "DestinationStation     1073\n",
       "cause_en              62292\n",
       "DepartureTime           940\n",
       "ArrivalTime            1073\n",
       "ArrivalDelay              0\n",
       "dtype: int64"
      ]
     },
     "execution_count": 13,
     "metadata": {},
     "output_type": "execute_result"
    }
   ],
   "source": [
    "df[feature_list].isna().sum()"
   ]
  },
  {
   "cell_type": "code",
   "execution_count": 14,
   "metadata": {},
   "outputs": [],
   "source": [
    "df['HasMaintanence'] = df['cause_en'].apply(lambda cause: True if cause == 'engineering work' else False)"
   ]
  },
  {
   "cell_type": "code",
   "execution_count": 15,
   "metadata": {},
   "outputs": [],
   "source": [
    "df.drop(columns=['cause_en'], inplace=True)"
   ]
  },
  {
   "cell_type": "code",
   "execution_count": 16,
   "metadata": {},
   "outputs": [],
   "source": [
    "feature_list = ['RideId','DepartureStation','Date','DestinationStation', 'HasMaintanence', 'DepartureTime', 'ArrivalTime', 'ArrivalDelay']"
   ]
  },
  {
   "cell_type": "code",
   "execution_count": 17,
   "metadata": {
    "scrolled": true
   },
   "outputs": [
    {
     "data": {
      "text/plain": [
       "RideId                   0\n",
       "DepartureStation       930\n",
       "Date                     0\n",
       "DestinationStation    1073\n",
       "HasMaintanence           0\n",
       "DepartureTime          940\n",
       "ArrivalTime           1073\n",
       "ArrivalDelay             0\n",
       "dtype: int64"
      ]
     },
     "execution_count": 17,
     "metadata": {},
     "output_type": "execute_result"
    }
   ],
   "source": [
    "df[feature_list].isna().sum()"
   ]
  },
  {
   "cell_type": "code",
   "execution_count": 18,
   "metadata": {},
   "outputs": [],
   "source": [
    "feature_df = df[feature_list]"
   ]
  },
  {
   "cell_type": "code",
   "execution_count": 19,
   "metadata": {
    "scrolled": true
   },
   "outputs": [
    {
     "data": {
      "text/plain": [
       "RideId                   0\n",
       "DepartureStation       930\n",
       "Date                     0\n",
       "DestinationStation    1073\n",
       "HasMaintanence           0\n",
       "DepartureTime          940\n",
       "ArrivalTime           1073\n",
       "ArrivalDelay             0\n",
       "dtype: int64"
      ]
     },
     "execution_count": 19,
     "metadata": {},
     "output_type": "execute_result"
    }
   ],
   "source": [
    "feature_df.isna().sum()"
   ]
  },
  {
   "cell_type": "code",
   "execution_count": 20,
   "metadata": {},
   "outputs": [
    {
     "name": "stderr",
     "output_type": "stream",
     "text": [
      "<ipython-input-20-2a7612a683b6>:1: SettingWithCopyWarning: \n",
      "A value is trying to be set on a copy of a slice from a DataFrame\n",
      "\n",
      "See the caveats in the documentation: https://pandas.pydata.org/pandas-docs/stable/user_guide/indexing.html#returning-a-view-versus-a-copy\n",
      "  feature_df.dropna(inplace=True)\n"
     ]
    }
   ],
   "source": [
    "feature_df.dropna(inplace=True)"
   ]
  },
  {
   "cell_type": "code",
   "execution_count": 21,
   "metadata": {
    "scrolled": true
   },
   "outputs": [
    {
     "data": {
      "text/html": [
       "<div>\n",
       "<style scoped>\n",
       "    .dataframe tbody tr th:only-of-type {\n",
       "        vertical-align: middle;\n",
       "    }\n",
       "\n",
       "    .dataframe tbody tr th {\n",
       "        vertical-align: top;\n",
       "    }\n",
       "\n",
       "    .dataframe thead th {\n",
       "        text-align: right;\n",
       "    }\n",
       "</style>\n",
       "<table border=\"1\" class=\"dataframe\">\n",
       "  <thead>\n",
       "    <tr style=\"text-align: right;\">\n",
       "      <th></th>\n",
       "      <th>RideId</th>\n",
       "      <th>DepartureStation</th>\n",
       "      <th>Date</th>\n",
       "      <th>DestinationStation</th>\n",
       "      <th>HasMaintanence</th>\n",
       "      <th>DepartureTime</th>\n",
       "      <th>ArrivalTime</th>\n",
       "      <th>ArrivalDelay</th>\n",
       "    </tr>\n",
       "  </thead>\n",
       "  <tbody>\n",
       "    <tr>\n",
       "      <th>0</th>\n",
       "      <td>1405</td>\n",
       "      <td>Utrecht Centraal</td>\n",
       "      <td>2018-12-31</td>\n",
       "      <td>Amsterdam Centraal</td>\n",
       "      <td>False</td>\n",
       "      <td>01:01</td>\n",
       "      <td>01:29</td>\n",
       "      <td>1.5</td>\n",
       "    </tr>\n",
       "    <tr>\n",
       "      <th>1</th>\n",
       "      <td>1402</td>\n",
       "      <td>Amsterdam Centraal</td>\n",
       "      <td>2018-12-31</td>\n",
       "      <td>Utrecht Centraal</td>\n",
       "      <td>False</td>\n",
       "      <td>01:18</td>\n",
       "      <td>01:53</td>\n",
       "      <td>0.0</td>\n",
       "    </tr>\n",
       "    <tr>\n",
       "      <th>2</th>\n",
       "      <td>1409</td>\n",
       "      <td>Utrecht Centraal</td>\n",
       "      <td>2019-01-01</td>\n",
       "      <td>Amsterdam Centraal</td>\n",
       "      <td>False</td>\n",
       "      <td>02:17</td>\n",
       "      <td>02:44</td>\n",
       "      <td>1.0</td>\n",
       "    </tr>\n",
       "    <tr>\n",
       "      <th>3</th>\n",
       "      <td>1406</td>\n",
       "      <td>Amsterdam Centraal</td>\n",
       "      <td>2018-12-31</td>\n",
       "      <td>Utrecht Centraal</td>\n",
       "      <td>False</td>\n",
       "      <td>02:19</td>\n",
       "      <td>02:45</td>\n",
       "      <td>0.0</td>\n",
       "    </tr>\n",
       "    <tr>\n",
       "      <th>4</th>\n",
       "      <td>1413</td>\n",
       "      <td>Utrecht Centraal</td>\n",
       "      <td>2019-01-01</td>\n",
       "      <td>Amsterdam Centraal</td>\n",
       "      <td>False</td>\n",
       "      <td>03:11</td>\n",
       "      <td>03:44</td>\n",
       "      <td>0.0</td>\n",
       "    </tr>\n",
       "  </tbody>\n",
       "</table>\n",
       "</div>"
      ],
      "text/plain": [
       "   RideId    DepartureStation        Date  DestinationStation  HasMaintanence  \\\n",
       "0    1405    Utrecht Centraal  2018-12-31  Amsterdam Centraal           False   \n",
       "1    1402  Amsterdam Centraal  2018-12-31    Utrecht Centraal           False   \n",
       "2    1409    Utrecht Centraal  2019-01-01  Amsterdam Centraal           False   \n",
       "3    1406  Amsterdam Centraal  2018-12-31    Utrecht Centraal           False   \n",
       "4    1413    Utrecht Centraal  2019-01-01  Amsterdam Centraal           False   \n",
       "\n",
       "  DepartureTime ArrivalTime  ArrivalDelay  \n",
       "0         01:01       01:29           1.5  \n",
       "1         01:18       01:53           0.0  \n",
       "2         02:17       02:44           1.0  \n",
       "3         02:19       02:45           0.0  \n",
       "4         03:11       03:44           0.0  "
      ]
     },
     "execution_count": 21,
     "metadata": {},
     "output_type": "execute_result"
    }
   ],
   "source": [
    "feature_df.head()"
   ]
  },
  {
   "cell_type": "code",
   "execution_count": 22,
   "metadata": {},
   "outputs": [
    {
     "data": {
      "text/plain": [
       "RideId                  int64\n",
       "DepartureStation       object\n",
       "Date                   object\n",
       "DestinationStation     object\n",
       "HasMaintanence           bool\n",
       "DepartureTime          object\n",
       "ArrivalTime            object\n",
       "ArrivalDelay          float64\n",
       "dtype: object"
      ]
     },
     "execution_count": 22,
     "metadata": {},
     "output_type": "execute_result"
    }
   ],
   "source": [
    "feature_df.dtypes"
   ]
  },
  {
   "cell_type": "markdown",
   "metadata": {},
   "source": [
    "# Preparing Data For Training"
   ]
  },
  {
   "cell_type": "code",
   "execution_count": 23,
   "metadata": {},
   "outputs": [],
   "source": [
    "encoder = LabelEncoder()"
   ]
  },
  {
   "cell_type": "code",
   "execution_count": 24,
   "metadata": {},
   "outputs": [
    {
     "data": {
      "text/plain": [
       "array(['Utrecht Centraal', 'Amsterdam Centraal'], dtype=object)"
      ]
     },
     "execution_count": 24,
     "metadata": {},
     "output_type": "execute_result"
    }
   ],
   "source": [
    "feature_df['DepartureStation'].unique()"
   ]
  },
  {
   "cell_type": "code",
   "execution_count": 25,
   "metadata": {
    "scrolled": true
   },
   "outputs": [
    {
     "name": "stderr",
     "output_type": "stream",
     "text": [
      "<ipython-input-25-7937afe1ee27>:1: SettingWithCopyWarning: \n",
      "A value is trying to be set on a copy of a slice from a DataFrame.\n",
      "Try using .loc[row_indexer,col_indexer] = value instead\n",
      "\n",
      "See the caveats in the documentation: https://pandas.pydata.org/pandas-docs/stable/user_guide/indexing.html#returning-a-view-versus-a-copy\n",
      "  feature_df['DepartureStation'] = encoder.fit_transform(feature_df['DepartureStation'])\n",
      "<ipython-input-25-7937afe1ee27>:2: SettingWithCopyWarning: \n",
      "A value is trying to be set on a copy of a slice from a DataFrame.\n",
      "Try using .loc[row_indexer,col_indexer] = value instead\n",
      "\n",
      "See the caveats in the documentation: https://pandas.pydata.org/pandas-docs/stable/user_guide/indexing.html#returning-a-view-versus-a-copy\n",
      "  feature_df['DestinationStation'] = encoder.fit_transform(feature_df['DestinationStation'])\n"
     ]
    }
   ],
   "source": [
    "feature_df['DepartureStation'] = encoder.fit_transform(feature_df['DepartureStation'])\n",
    "feature_df['DestinationStation'] = encoder.fit_transform(feature_df['DestinationStation'])"
   ]
  },
  {
   "cell_type": "code",
   "execution_count": 26,
   "metadata": {},
   "outputs": [
    {
     "name": "stderr",
     "output_type": "stream",
     "text": [
      "<ipython-input-26-7e522f715bcc>:1: SettingWithCopyWarning: \n",
      "A value is trying to be set on a copy of a slice from a DataFrame.\n",
      "Try using .loc[row_indexer,col_indexer] = value instead\n",
      "\n",
      "See the caveats in the documentation: https://pandas.pydata.org/pandas-docs/stable/user_guide/indexing.html#returning-a-view-versus-a-copy\n",
      "  feature_df['Date'] = pd.to_datetime(feature_df['Date'])\n"
     ]
    }
   ],
   "source": [
    "feature_df['Date'] = pd.to_datetime(feature_df['Date'])"
   ]
  },
  {
   "cell_type": "code",
   "execution_count": 27,
   "metadata": {},
   "outputs": [
    {
     "name": "stderr",
     "output_type": "stream",
     "text": [
      "<ipython-input-27-2d8933329e59>:1: SettingWithCopyWarning: \n",
      "A value is trying to be set on a copy of a slice from a DataFrame.\n",
      "Try using .loc[row_indexer,col_indexer] = value instead\n",
      "\n",
      "See the caveats in the documentation: https://pandas.pydata.org/pandas-docs/stable/user_guide/indexing.html#returning-a-view-versus-a-copy\n",
      "  feature_df['Month'] = feature_df['Date'].dt.month\n",
      "<ipython-input-27-2d8933329e59>:2: SettingWithCopyWarning: \n",
      "A value is trying to be set on a copy of a slice from a DataFrame.\n",
      "Try using .loc[row_indexer,col_indexer] = value instead\n",
      "\n",
      "See the caveats in the documentation: https://pandas.pydata.org/pandas-docs/stable/user_guide/indexing.html#returning-a-view-versus-a-copy\n",
      "  feature_df['Day'] = feature_df['Date'].dt.dayofweek\n",
      "<ipython-input-27-2d8933329e59>:3: SettingWithCopyWarning: \n",
      "A value is trying to be set on a copy of a slice from a DataFrame.\n",
      "Try using .loc[row_indexer,col_indexer] = value instead\n",
      "\n",
      "See the caveats in the documentation: https://pandas.pydata.org/pandas-docs/stable/user_guide/indexing.html#returning-a-view-versus-a-copy\n",
      "  feature_df['DepartureTime'] = pd.to_datetime(feature_df['DepartureTime']).dt.hour\n",
      "<ipython-input-27-2d8933329e59>:4: SettingWithCopyWarning: \n",
      "A value is trying to be set on a copy of a slice from a DataFrame.\n",
      "Try using .loc[row_indexer,col_indexer] = value instead\n",
      "\n",
      "See the caveats in the documentation: https://pandas.pydata.org/pandas-docs/stable/user_guide/indexing.html#returning-a-view-versus-a-copy\n",
      "  feature_df['ArrivalTime'] = pd.to_datetime(feature_df['ArrivalTime']).dt.hour\n"
     ]
    }
   ],
   "source": [
    "feature_df['Month'] = feature_df['Date'].dt.month\n",
    "feature_df['Day'] = feature_df['Date'].dt.dayofweek\n",
    "feature_df['DepartureTime'] = pd.to_datetime(feature_df['DepartureTime']).dt.hour\n",
    "feature_df['ArrivalTime'] = pd.to_datetime(feature_df['ArrivalTime']).dt.hour"
   ]
  },
  {
   "cell_type": "code",
   "execution_count": 28,
   "metadata": {
    "scrolled": false
   },
   "outputs": [
    {
     "data": {
      "text/plain": [
       "0        2018-12-31\n",
       "1        2018-12-31\n",
       "2        2019-01-01\n",
       "3        2018-12-31\n",
       "4        2019-01-01\n",
       "            ...    \n",
       "111263   2019-12-31\n",
       "111264   2019-12-31\n",
       "111265   2019-12-31\n",
       "111266   2019-12-31\n",
       "111267   2019-12-31\n",
       "Name: Date, Length: 110193, dtype: datetime64[ns]"
      ]
     },
     "execution_count": 28,
     "metadata": {},
     "output_type": "execute_result"
    }
   ],
   "source": [
    "feature_df.pop('Date')"
   ]
  },
  {
   "cell_type": "code",
   "execution_count": 29,
   "metadata": {},
   "outputs": [
    {
     "data": {
      "text/plain": [
       "RideId                  int64\n",
       "DepartureStation        int32\n",
       "DestinationStation      int32\n",
       "HasMaintanence           bool\n",
       "DepartureTime           int64\n",
       "ArrivalTime             int64\n",
       "ArrivalDelay          float64\n",
       "Month                   int64\n",
       "Day                     int64\n",
       "dtype: object"
      ]
     },
     "execution_count": 29,
     "metadata": {},
     "output_type": "execute_result"
    }
   ],
   "source": [
    "feature_df.dtypes"
   ]
  },
  {
   "cell_type": "code",
   "execution_count": 30,
   "metadata": {},
   "outputs": [],
   "source": [
    "def apply_delay_category(delay):\n",
    "    if delay < 1:\n",
    "        return 'No Delay'\n",
    "    if delay < 5:\n",
    "        return '<5'\n",
    "    if delay < 10:\n",
    "        return '<10'\n",
    "    if delay < 15:\n",
    "        return '<15'\n",
    "    if delay < 20:\n",
    "        return '<20'\n",
    "    if delay < 25:\n",
    "        return '<25'\n",
    "    return '>25'"
   ]
  },
  {
   "cell_type": "code",
   "execution_count": 31,
   "metadata": {
    "scrolled": true
   },
   "outputs": [
    {
     "name": "stderr",
     "output_type": "stream",
     "text": [
      "<ipython-input-31-264a3505c4aa>:1: SettingWithCopyWarning: \n",
      "A value is trying to be set on a copy of a slice from a DataFrame.\n",
      "Try using .loc[row_indexer,col_indexer] = value instead\n",
      "\n",
      "See the caveats in the documentation: https://pandas.pydata.org/pandas-docs/stable/user_guide/indexing.html#returning-a-view-versus-a-copy\n",
      "  feature_df['DelayCategory'] = feature_df['ArrivalDelay'].apply(lambda delay: apply_delay_category(delay))\n"
     ]
    }
   ],
   "source": [
    "feature_df['DelayCategory'] = feature_df['ArrivalDelay'].apply(lambda delay: apply_delay_category(delay))"
   ]
  },
  {
   "cell_type": "code",
   "execution_count": 32,
   "metadata": {},
   "outputs": [
    {
     "name": "stderr",
     "output_type": "stream",
     "text": [
      "C:\\Users\\Zhaklin\\anaconda3\\lib\\site-packages\\pandas\\core\\frame.py:4163: SettingWithCopyWarning: \n",
      "A value is trying to be set on a copy of a slice from a DataFrame\n",
      "\n",
      "See the caveats in the documentation: https://pandas.pydata.org/pandas-docs/stable/user_guide/indexing.html#returning-a-view-versus-a-copy\n",
      "  return super().drop(\n"
     ]
    }
   ],
   "source": [
    "feature_df.drop(columns=['ArrivalDelay'], inplace=True)"
   ]
  },
  {
   "cell_type": "code",
   "execution_count": 33,
   "metadata": {},
   "outputs": [
    {
     "data": {
      "text/plain": [
       "array(['<5', 'No Delay', '<10', '<15', '<20', '>25', '<25'], dtype=object)"
      ]
     },
     "execution_count": 33,
     "metadata": {},
     "output_type": "execute_result"
    }
   ],
   "source": [
    "feature_df['DelayCategory'].unique()"
   ]
  },
  {
   "cell_type": "code",
   "execution_count": 34,
   "metadata": {
    "scrolled": true
   },
   "outputs": [
    {
     "name": "stderr",
     "output_type": "stream",
     "text": [
      "<ipython-input-34-f81ee0240815>:1: SettingWithCopyWarning: \n",
      "A value is trying to be set on a copy of a slice from a DataFrame.\n",
      "Try using .loc[row_indexer,col_indexer] = value instead\n",
      "\n",
      "See the caveats in the documentation: https://pandas.pydata.org/pandas-docs/stable/user_guide/indexing.html#returning-a-view-versus-a-copy\n",
      "  feature_df['DelayCategory'] = encoder.fit_transform(feature_df['DelayCategory'])\n"
     ]
    }
   ],
   "source": [
    "feature_df['DelayCategory'] = encoder.fit_transform(feature_df['DelayCategory'])"
   ]
  },
  {
   "cell_type": "code",
   "execution_count": 35,
   "metadata": {},
   "outputs": [
    {
     "data": {
      "text/plain": [
       "array([4, 6, 0, 1, 2, 5, 3])"
      ]
     },
     "execution_count": 35,
     "metadata": {},
     "output_type": "execute_result"
    }
   ],
   "source": [
    "feature_df['DelayCategory'].unique()"
   ]
  },
  {
   "cell_type": "code",
   "execution_count": 36,
   "metadata": {},
   "outputs": [],
   "source": [
    "y = feature_df.pop('DelayCategory')\n",
    "X = feature_df"
   ]
  },
  {
   "cell_type": "code",
   "execution_count": 37,
   "metadata": {},
   "outputs": [
    {
     "data": {
      "text/plain": [
       "0         4\n",
       "1         6\n",
       "2         4\n",
       "3         6\n",
       "4         6\n",
       "         ..\n",
       "111263    4\n",
       "111264    4\n",
       "111265    6\n",
       "111266    6\n",
       "111267    4\n",
       "Name: DelayCategory, Length: 110193, dtype: int32"
      ]
     },
     "execution_count": 37,
     "metadata": {},
     "output_type": "execute_result"
    }
   ],
   "source": [
    "y"
   ]
  },
  {
   "cell_type": "code",
   "execution_count": 38,
   "metadata": {},
   "outputs": [],
   "source": [
    "#devide the dataset into training and testing data (80% training and 20% testing)\n",
    "X_train, X_test, y_train, y_test = train_test_split(X, y, test_size=0.2, random_state=0) "
   ]
  },
  {
   "cell_type": "code",
   "execution_count": 39,
   "metadata": {},
   "outputs": [],
   "source": [
    "numeric_features = feature_df.select_dtypes(include=[np.number])\n",
    "#df = df.select_dtypes(include=[np.number])"
   ]
  },
  {
   "cell_type": "code",
   "execution_count": 40,
   "metadata": {},
   "outputs": [
    {
     "data": {
      "text/plain": [
       "Index(['RideId', 'DepartureStation', 'DestinationStation', 'DepartureTime',\n",
       "       'ArrivalTime', 'Month', 'Day'],\n",
       "      dtype='object')"
      ]
     },
     "execution_count": 40,
     "metadata": {},
     "output_type": "execute_result"
    }
   ],
   "source": [
    "numeric_features.columns"
   ]
  },
  {
   "cell_type": "code",
   "execution_count": 41,
   "metadata": {},
   "outputs": [],
   "source": [
    "columns = feature_df.columns.tolist()\n",
    "columns = [c for c in columns if c not in ['Date']]"
   ]
  },
  {
   "cell_type": "markdown",
   "metadata": {},
   "source": [
    "# Feature Scaling"
   ]
  },
  {
   "cell_type": "code",
   "execution_count": 42,
   "metadata": {
    "scrolled": false
   },
   "outputs": [
    {
     "data": {
      "text/plain": [
       "array([1, 0])"
      ]
     },
     "execution_count": 42,
     "metadata": {},
     "output_type": "execute_result"
    }
   ],
   "source": [
    "feature_df['DepartureStation'].unique()"
   ]
  },
  {
   "cell_type": "code",
   "execution_count": 95,
   "metadata": {
    "scrolled": false
   },
   "outputs": [],
   "source": [
    "sc = StandardScaler()\n",
    "X_train = sc.fit_transform(X_train)\n",
    "X_test = sc.transform(X_test)"
   ]
  },
  {
   "cell_type": "markdown",
   "metadata": {},
   "source": [
    "# Training the Algorithm"
   ]
  },
  {
   "cell_type": "code",
   "execution_count": 96,
   "metadata": {},
   "outputs": [],
   "source": [
    "from imblearn.over_sampling import SMOTENC\n",
    "smote = SMOTENC(sampling_strategy='not majority', categorical_features = [0,1,2,3,4,5,6])"
   ]
  },
  {
   "cell_type": "code",
   "execution_count": 97,
   "metadata": {},
   "outputs": [],
   "source": [
    "rfr = RandomForestRegressor(n_estimators=20, random_state=0)\n",
    "rfr.fit(X_train, y_train)\n",
    "y_pred = rfr.predict(X_test)"
   ]
  },
  {
   "cell_type": "markdown",
   "metadata": {},
   "source": [
    "# Evaluating the Algorithm"
   ]
  },
  {
   "cell_type": "code",
   "execution_count": 105,
   "metadata": {},
   "outputs": [
    {
     "data": {
      "text/plain": [
       "array([0.00203375, 0.00178759])"
      ]
     },
     "execution_count": 105,
     "metadata": {},
     "output_type": "execute_result"
    }
   ],
   "source": [
    "import statsmodels.api as sm \n",
    "model = sm.OLS(y, X).fit() \n",
    "model.bse "
   ]
  },
  {
   "cell_type": "code",
   "execution_count": 98,
   "metadata": {},
   "outputs": [
    {
     "name": "stdout",
     "output_type": "stream",
     "text": [
      "Mean Absolute Error: 0.6945311429569094\n",
      "Mean Squared Error: 1.6569221879115057\n",
      "Root Mean Squared Error: 1.2872148957775098\n"
     ]
    }
   ],
   "source": [
    "print('Mean Absolute Error:', metrics.mean_absolute_error(y_test, y_pred))\n",
    "print('Mean Squared Error:', metrics.mean_squared_error(y_test, y_pred))\n",
    "print('Root Mean Squared Error:', np.sqrt(metrics.mean_squared_error(y_test, y_pred)))"
   ]
  },
  {
   "cell_type": "code",
   "execution_count": 99,
   "metadata": {},
   "outputs": [
    {
     "name": "stdout",
     "output_type": "stream",
     "text": [
      "Mean Absolute Error: 0.69 degrees.\n"
     ]
    }
   ],
   "source": [
    "# Use the forest's predict method on the test data\n",
    "predictions = rfr.predict(X_test)\n",
    "# Calculate the absolute errors\n",
    "errors = abs(predictions - y_test)\n",
    "# Print out the mean absolute error (mae)\n",
    "print('Mean Absolute Error:', round(np.mean(errors), 2), 'degrees.')"
   ]
  },
  {
   "cell_type": "code",
   "execution_count": 100,
   "metadata": {
    "scrolled": false
   },
   "outputs": [
    {
     "data": {
      "text/plain": [
       "array([0.20562631, 0.01422135, 0.01602197, 0.        , 0.08506345,\n",
       "       0.07824773, 0.32649602, 0.27432317])"
      ]
     },
     "execution_count": 100,
     "metadata": {},
     "output_type": "execute_result"
    }
   ],
   "source": [
    "#Random forest determined feature importances\n",
    "rfr.feature_importances_  #rideid/month/day"
   ]
  },
  {
   "cell_type": "code",
   "execution_count": 102,
   "metadata": {},
   "outputs": [],
   "source": [
    "prediction = rfr.predict(X_test)"
   ]
  },
  {
   "cell_type": "code",
   "execution_count": 103,
   "metadata": {},
   "outputs": [],
   "source": [
    "df = pd.DataFrame({'True': y_test, 'pred' : prediction})"
   ]
  },
  {
   "cell_type": "code",
   "execution_count": 104,
   "metadata": {},
   "outputs": [
    {
     "data": {
      "text/html": [
       "<div>\n",
       "<style scoped>\n",
       "    .dataframe tbody tr th:only-of-type {\n",
       "        vertical-align: middle;\n",
       "    }\n",
       "\n",
       "    .dataframe tbody tr th {\n",
       "        vertical-align: top;\n",
       "    }\n",
       "\n",
       "    .dataframe thead th {\n",
       "        text-align: right;\n",
       "    }\n",
       "</style>\n",
       "<table border=\"1\" class=\"dataframe\">\n",
       "  <thead>\n",
       "    <tr style=\"text-align: right;\">\n",
       "      <th></th>\n",
       "      <th>True</th>\n",
       "      <th>pred</th>\n",
       "    </tr>\n",
       "  </thead>\n",
       "  <tbody>\n",
       "    <tr>\n",
       "      <th>53230</th>\n",
       "      <td>6</td>\n",
       "      <td>6.000000</td>\n",
       "    </tr>\n",
       "    <tr>\n",
       "      <th>56343</th>\n",
       "      <td>6</td>\n",
       "      <td>4.383075</td>\n",
       "    </tr>\n",
       "    <tr>\n",
       "      <th>99606</th>\n",
       "      <td>6</td>\n",
       "      <td>6.000000</td>\n",
       "    </tr>\n",
       "    <tr>\n",
       "      <th>32746</th>\n",
       "      <td>6</td>\n",
       "      <td>6.000000</td>\n",
       "    </tr>\n",
       "    <tr>\n",
       "      <th>98984</th>\n",
       "      <td>6</td>\n",
       "      <td>3.522500</td>\n",
       "    </tr>\n",
       "    <tr>\n",
       "      <th>...</th>\n",
       "      <td>...</td>\n",
       "      <td>...</td>\n",
       "    </tr>\n",
       "    <tr>\n",
       "      <th>77065</th>\n",
       "      <td>6</td>\n",
       "      <td>6.000000</td>\n",
       "    </tr>\n",
       "    <tr>\n",
       "      <th>83073</th>\n",
       "      <td>6</td>\n",
       "      <td>6.000000</td>\n",
       "    </tr>\n",
       "    <tr>\n",
       "      <th>8837</th>\n",
       "      <td>5</td>\n",
       "      <td>4.212857</td>\n",
       "    </tr>\n",
       "    <tr>\n",
       "      <th>90186</th>\n",
       "      <td>6</td>\n",
       "      <td>6.000000</td>\n",
       "    </tr>\n",
       "    <tr>\n",
       "      <th>24267</th>\n",
       "      <td>6</td>\n",
       "      <td>6.000000</td>\n",
       "    </tr>\n",
       "  </tbody>\n",
       "</table>\n",
       "<p>22039 rows × 2 columns</p>\n",
       "</div>"
      ],
      "text/plain": [
       "       True      pred\n",
       "53230     6  6.000000\n",
       "56343     6  4.383075\n",
       "99606     6  6.000000\n",
       "32746     6  6.000000\n",
       "98984     6  3.522500\n",
       "...     ...       ...\n",
       "77065     6  6.000000\n",
       "83073     6  6.000000\n",
       "8837      5  4.212857\n",
       "90186     6  6.000000\n",
       "24267     6  6.000000\n",
       "\n",
       "[22039 rows x 2 columns]"
      ]
     },
     "execution_count": 104,
     "metadata": {},
     "output_type": "execute_result"
    }
   ],
   "source": [
    "df"
   ]
  },
  {
   "cell_type": "code",
   "execution_count": null,
   "metadata": {},
   "outputs": [],
   "source": []
  }
 ],
 "metadata": {
  "kernelspec": {
   "display_name": "Python 3",
   "language": "python",
   "name": "python3"
  },
  "language_info": {
   "codemirror_mode": {
    "name": "ipython",
    "version": 3
   },
   "file_extension": ".py",
   "mimetype": "text/x-python",
   "name": "python",
   "nbconvert_exporter": "python",
   "pygments_lexer": "ipython3",
   "version": "3.8.5"
  }
 },
 "nbformat": 4,
 "nbformat_minor": 4
}