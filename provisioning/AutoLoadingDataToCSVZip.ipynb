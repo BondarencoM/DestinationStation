{
 "cells": [
  {
   "cell_type": "markdown",
   "metadata": {
    "id": "KPi4bhpBqn8x"
   },
   "source": [
    "# Download this file on your local computer\n"
   ]
  },
  {
   "cell_type": "code",
   "execution_count": 1,
   "metadata": {
    "id": "GrURFcNuV_DV"
   },
   "outputs": [],
   "source": [
    "import pandas as pd\n",
    "import numpy as np\n",
    "    \n",
    "import xml.etree.ElementTree as ET\n",
    "\n",
    "from datetime import datetime "
   ]
  },
  {
   "cell_type": "code",
   "execution_count": 2,
   "metadata": {
    "id": "uXxXvIJ6qnCG"
   },
   "outputs": [],
   "source": [
    "def extract_station_info(data, node, prefix):\r\n",
    "  if node:\r\n",
    "    data[prefix + 'Code'].append(node.find('./ns2:StationCode', ns).text)\r\n",
    "    data[prefix + 'UIC'].append(int(node.find('./ns2:UICCode', ns).text))\r\n",
    "    data[prefix + 'Type'].append(int(node.find('./ns2:Type', ns).text))\r\n",
    "  else:\r\n",
    "    data[prefix + 'Code'].append(np.NaN)\r\n",
    "    data[prefix + 'UIC'].append(np.NaN)\r\n",
    "    data[prefix + 'Type'].append(np.NaN)\r\n",
    "\r\n",
    "def parse_timestamp(date_string):\r\n",
    "  return datetime.strptime(date_string, '%Y-%m-%dT%H:%M:%S.%fZ')\r\n",
    "\r\n",
    "def encode_list(nodes, sufix):\r\n",
    "  UIC_codes = [node.find(sufix, ns).text for node in nodes]\r\n",
    "  return ';'.join(UIC_codes)"
   ]
  },
  {
   "cell_type": "code",
   "execution_count": 3,
   "metadata": {
    "id": "v7rUsNBxbJVS"
   },
   "outputs": [],
   "source": [
    "# namespace of the xml object\r\n",
    "ns={\r\n",
    "    'ns1d': 'urn:ndov:cdm:trein:reisinformatie:messages:5',\r\n",
    "    'ns1a': 'urn:ndov:cdm:trein:reisinformatie:messages:dynamischeaankomststaat:1',\r\n",
    "    'ns2': 'urn:ndov:cdm:trein:reisinformatie:data:4',\r\n",
    "}\r\n",
    "\r\n",
    "# dictionary that will save the data while loading it in\r\n",
    "def arrival_data_template():\r\n",
    "\r\n",
    "    return {\r\n",
    "        'ObservationTime': [],\r\n",
    "\r\n",
    "        # Ride\r\n",
    "        'RideId':[],\r\n",
    "        'RideTime': [],\r\n",
    "\r\n",
    "        # Departure station\r\n",
    "        'DepartureStationCode': [],\r\n",
    "        'DepartureStationUIC': [],\r\n",
    "        'DepartureStationType': [],\r\n",
    "\r\n",
    "        # Train\r\n",
    "        'TrainId': [],\r\n",
    "        'TrainType': [],\r\n",
    "        'TrainOperator': [],\r\n",
    "\r\n",
    "        # Actual destination\r\n",
    "        'DestinationStationCode': [],\r\n",
    "        'DestinationStationUIC': [],\r\n",
    "        'DestinationStationType': [],\r\n",
    "\r\n",
    "        # Arrival times\r\n",
    "        'PlannedArrivalTime': [],\r\n",
    "        'ActualArrivalTime': [],\r\n",
    "\r\n",
    "        # Arrival platform\r\n",
    "        'PlannedArrivalPlatform': [],\r\n",
    "        'PlannedArrivalPlatformSuffix': [],\r\n",
    "        'ActualArrivalPlatform': [],\r\n",
    "        'ActualArrivalPlatformSuffix': [],\r\n",
    "\r\n",
    "        # # Departure platforms\r\n",
    "        # 'PlannedDeparturePlatform': [],\r\n",
    "        # 'ActualDeparturePlatform': [],\r\n",
    "\r\n",
    "        # # Stop stations\r\n",
    "        # 'PlannedStopStations': [],\r\n",
    "        # 'ActualStopStations': [],\r\n",
    "\r\n",
    "        # # Matirial type\r\n",
    "        # 'MaterialType': [],\r\n",
    "        # 'MaterialDesignation': [],\r\n",
    "        # 'MaterialLength': [],\r\n",
    "\r\n",
    "        # 'ChangeType': [],\r\n",
    "\r\n",
    "    }\r\n",
    "\r\n",
    "def departure_data_template():\r\n",
    "    return {\r\n",
    "    'ObservationTime': [],\r\n",
    "\r\n",
    "    # Ride\r\n",
    "    'RideId':[],\r\n",
    "    'RideTime': [],\r\n",
    "\r\n",
    "    # Departure station\r\n",
    "    'DepartureStationCode': [],\r\n",
    "    'DepartureStationUIC': [],\r\n",
    "    'DepartureStationType': [],\r\n",
    "\r\n",
    "    # Train\r\n",
    "    'TrainId': [],\r\n",
    "    'TrainType': [],\r\n",
    "    'TrainOperator': [],\r\n",
    "\r\n",
    "    # Actual destination\r\n",
    "    'DestinationStationCode': [],\r\n",
    "    'DestinationStationUIC': [],\r\n",
    "    'DestinationStationType': [],\r\n",
    "\r\n",
    "    # Arrival times\r\n",
    "    'PlannedArrivalTime': [],\r\n",
    "    'ActualArrivalTime': [],\r\n",
    "\r\n",
    "    # Arrival platform\r\n",
    "    'PlannedArrivalPlatform': [],\r\n",
    "    'PlannedArrivalPlatformSuffix': [],\r\n",
    "    'ActualArrivalPlatform': [],\r\n",
    "    'ActualArrivalPlatformSuffix': [],\r\n",
    "\r\n",
    "    # # Departure platforms\r\n",
    "    # 'PlannedDeparturePlatform': [],\r\n",
    "    # 'ActualDeparturePlatform': [],\r\n",
    "\r\n",
    "    # # Stop stations\r\n",
    "    # 'PlannedStopStations': [],\r\n",
    "    # 'ActualStopStations': [],\r\n",
    "\r\n",
    "    # # Matirial type\r\n",
    "    # 'MaterialType': [],\r\n",
    "    # 'MaterialDesignation': [],\r\n",
    "    # 'MaterialLength': [],\r\n",
    "\r\n",
    "    # 'ChangeType': [],\r\n",
    "\r\n",
    "}\r\n",
    "  \r\n"
   ]
  },
  {
   "cell_type": "code",
   "execution_count": 4,
   "metadata": {
    "id": "bvV614tzWEv_",
    "outputId": "c89cfc93-570a-48bd-f26b-80377ea1c1f3",
    "scrolled": true
   },
   "outputs": [
    {
     "data": {
      "text/plain": "array(['2019-01-20'], dtype=object)"
     },
     "execution_count": 4,
     "metadata": {},
     "output_type": "execute_result"
    }
   ],
   "source": []
  },
  {
   "cell_type": "code",
   "execution_count": 16,
   "metadata": {},
   "outputs": [],
   "source": [
    "station_amsterdam = b'<ns2:RitStation><ns2:StationCode>ASD</ns2:StationCode>'\r\n",
    "station_utrecht = b'<ns2:RitStation><ns2:StationCode>UT</ns2:StationCode>'\r\n",
    "source_amsterdam = b'<ns2:TreinHerkomst InfoStatus=\"\"Gepland\"\"><ns2:StationCode>ASD</ns2:StationCode'\r\n",
    "source_utrecht = b'<ns2:TreinHerkomst InfoStatus=\"\"Gepland\"\"><ns2:StationCode>UT</ns2:StationCode>'\r\n",
    "destination_amsterdam = b'<ns2:TreinEindBestemming InfoStatus=\"\"Gepland\"\"><ns2:StationCode>AMS</ns2:StationCode>'\r\n",
    "destination_utrecht = b'<ns2:TreinEindBestemming InfoStatus=\"\"Gepland\"\"><ns2:StationCode>UT</ns2:StationCode>'"
   ]
  },
  {
   "cell_type": "code",
   "execution_count": 26,
   "metadata": {},
   "outputs": [
    {
     "name": "stdout",
     "output_type": "stream",
     "text": [
      "['2019-03-01' '2019-03-02' '2019-03-03' '2019-03-04' '2019-03-05'\n",
      " '2019-03-06' '2019-03-07' '2019-03-08' '2019-03-09' '2019-03-10'\n",
      " '2019-03-11' '2019-03-12' '2019-03-13' '2019-03-14' '2019-03-15'\n",
      " '2019-03-16' '2019-03-17' '2019-03-18' '2019-03-19' '2019-03-20'\n",
      " '2019-03-21' '2019-03-22' '2019-03-23' '2019-03-24' '2019-03-25'\n",
      " '2019-03-26' '2019-03-27' '2019-03-28' '2019-03-29' '2019-03-30'\n",
      " '2019-03-31']\n",
      "downloading:  2019-03-01\n",
      "downloading:  2019-03-02\n",
      "downloading:  2019-03-03\n",
      "downloading:  2019-03-04\n",
      "downloading:  2019-03-05\n",
      "downloading:  2019-03-06\n",
      "downloading:  2019-03-07\n",
      "downloading:  2019-03-08\n",
      "downloading:  2019-03-09\n",
      "downloading:  2019-03-10\n",
      "downloading:  2019-03-11\n",
      "downloading:  2019-03-12\n",
      "downloading:  2019-03-13\n",
      "downloading:  2019-03-14\n",
      "downloading:  2019-03-15\n",
      "downloading:  2019-03-16\n",
      "downloading:  2019-03-17\n",
      "downloading:  2019-03-18\n",
      "downloading:  2019-03-19\n",
      "downloading:  2019-03-20\n",
      "downloading:  2019-03-21\n",
      "downloading:  2019-03-22\n",
      "downloading:  2019-03-23\n",
      "downloading:  2019-03-24\n",
      "downloading:  2019-03-25\n",
      "downloading:  2019-03-26\n",
      "downloading:  2019-03-27\n",
      "downloading:  2019-03-28\n",
      "downloading:  2019-03-29\n",
      "downloading:  2019-03-30\n",
      "downloading:  2019-03-31\n"
     ]
    }
   ],
   "source": [
    "import requests\r\n",
    "import lzma\r\n",
    "\r\n",
    "arrival_lines = []\r\n",
    "departure_lines = []\r\n",
    "\r\n",
    "parsing_days = pd.date_range(start='2019/3/1', end='2019/3/31').strftime('%Y-%m-%d').values\r\n",
    "print(parsing_days)\r\n",
    "\r\n",
    "for day in parsing_days:\r\n",
    "    print('downloading: ',day) \r\n",
    "    url = f'https://trein.fwrite.org/AMS-Aurora-archive/{day[:7]}/DVSPPV_{day}.csv.xz'\r\n",
    "\r\n",
    "    req = requests.get(url, stream=True)\r\n",
    "\r\n",
    "    with lzma.LZMAFile(req.raw) as file:\r\n",
    "        for line in file:\r\n",
    "            if (source_utrecht in line and station_amsterdam in line) or (source_amsterdam in line and station_utrecht in line) :\r\n",
    "                arrival_lines.append(line)\r\n",
    "            if (station_amsterdam in line and destination_utrecht in line) or (station_utrecht in line and destination_amsterdam in line) :\r\n",
    "                departure_lines.append(line)\r\n",
    "    "
   ]
  },
  {
   "cell_type": "code",
   "execution_count": null,
   "metadata": {},
   "outputs": [],
   "source": []
  },
  {
   "cell_type": "code",
   "execution_count": 27,
   "metadata": {},
   "outputs": [],
   "source": [
    "from io import StringIO\r\n",
    "\r\n",
    "df_arrivals = pd.read_csv(StringIO(b'\\n'.join(arrival_lines).decode('utf-8')), header=None, names=['date', 'xml_obj', 'uuid'])\r\n",
    "df_departures = pd.read_csv(StringIO(b'\\n'.join(departure_lines).decode('utf-8')), header=None, names=['date', 'xml_obj', 'uuid'])"
   ]
  },
  {
   "cell_type": "code",
   "execution_count": 30,
   "metadata": {},
   "outputs": [],
   "source": [
    "df_departures.to_csv('departures.csv', index=None)\r\n",
    "df_arrivals.to_csv('arrivals.csv', index=None)"
   ]
  },
  {
   "cell_type": "markdown",
   "metadata": {
    "id": "tBSuCEgmqnCJ"
   },
   "source": [
    "# Please keep in mind this is memory intensive good approach is to do each month seperately and later merge them"
   ]
  },
  {
   "cell_type": "code",
   "execution_count": 31,
   "metadata": {
    "colab": {
     "base_uri": "https://localhost:8080/"
    },
    "id": "WzKgbl6ZWGuj",
    "outputId": "998187e4-fbe1-4305-d4dd-fbbed9ddcc7d",
    "scrolled": false
   },
   "outputs": [
    {
     "name": "stdout",
     "output_type": "stream",
     "text": [
      "(7146, 18)\n"
     ]
    }
   ],
   "source": [
    "arrival_data = arrival_data_template()\r\n",
    "departure_data = departure_data_template()\r\n",
    "\r\n",
    "# loop through every day\r\n",
    "\r\n",
    "for root_text, observation_time in df_arrivals[['xml_obj', 'date']].values:  \r\n",
    "            \r\n",
    "    arrival_data['ObservationTime'].append(observation_time)\r\n",
    "\r\n",
    "    root = ET.fromstring(root_text)\r\n",
    "\r\n",
    "    # Ride\r\n",
    "    ride = root.find('./ns2:ReisInformatieProductDAS/ns2:DynamischeAankomstStaat', ns)\r\n",
    "\r\n",
    "    arrival_data['RideId'].append(int(ride.find('./ns2:RitId', ns).text))\r\n",
    "    arrival_data['RideTime'].append(root.find('./ns2:ReisInformatieProductDAS/ns2:RIPAdministratie/ns2:ReisInformatieTijdstip', ns).text)\r\n",
    "\r\n",
    "    # Stations\r\n",
    "    train = ride.find('./ns2:TreinAankomst', ns)\r\n",
    "\r\n",
    "    destinationStation = ride.find('./ns2:RitStation', ns)\r\n",
    "    departureStation = train.find('./ns2:TreinHerkomst[@InfoStatus=\"Gepland\"]',ns)\r\n",
    "    \r\n",
    "    extract_station_info(arrival_data, departureStation, 'DepartureStation')\r\n",
    "    extract_station_info(arrival_data, destinationStation, 'DestinationStation')\r\n",
    "\r\n",
    "    # Arrival times\r\n",
    "    arrival_data['ActualArrivalTime'].append(train.find('./ns2:AankomstTijd[@InfoStatus=\"Actueel\"]', ns).text)\r\n",
    "    arrival_data['PlannedArrivalTime'].append(train.find('./ns2:AankomstTijd[@InfoStatus=\"Gepland\"]', ns).text)\r\n",
    "    \r\n",
    "    # Train\r\n",
    "    arrival_data['TrainId'].append(train.find('./ns2:TreinNummer', ns).text)\r\n",
    "    arrival_data['TrainType'].append(train.find('./ns2:TreinSoort', ns).text)\r\n",
    "    arrival_data['TrainOperator'].append(train.find('./ns2:Vervoerder', ns).text)\r\n",
    "\r\n",
    "    arrival_data['PlannedArrivalPlatform'].append(train.find('./ns2:TreinAankomstSpoor[@InfoStatus=\"Gepland\"]/ns2:SpoorNummer', ns).text)\r\n",
    "    suffix = train.find('./ns2:TreinAankomstSpoor[@InfoStatus=\"Gepland\"]/ns2:SpoorFase', ns)\r\n",
    "    arrival_data['PlannedArrivalPlatformSuffix'].append(None if suffix is None else suffix.text)\r\n",
    "\r\n",
    "    arrival_data['ActualArrivalPlatform'].append(train.find('./ns2:TreinAankomstSpoor[@InfoStatus=\"Actueel\"]/ns2:SpoorNummer', ns).text)\r\n",
    "    suffix = train.find('./ns2:TreinAankomstSpoor[@InfoStatus=\"Actueel\"]/ns2:SpoorFase', ns)\r\n",
    "    arrival_data['ActualArrivalPlatformSuffix'].append(None if suffix is None else suffix.text)\r\n",
    "    \r\n",
    "    # # Stop stations\r\n",
    "    # wagons = train.find('./ns1:TreinVleugel', ns)\r\n",
    "    # if not wagons: print('No wagons, wtf?')\r\n",
    "    # stop_stations = wagons.findall('./ns1:StopStations[@InfoStatus=\"Gepland\"]/ns1:Station', ns)\r\n",
    "    # if not stop_stations: print('No stop_stations, wtf?')\r\n",
    "\r\n",
    "    # data['PlannedStopStations'].append(encode_list(stop_stations, './ns1:UICCode'))\r\n",
    "\r\n",
    "    # stop_stations = wagons.findall('./ns1:StopStations[@InfoStatus=\"Actueel\"]/ns1:Station', ns)\r\n",
    "    # data['ActualStopStations'].append(encode_list(stop_stations, './ns1:UICCode'))\r\n",
    "    # if not stop_stations: print('No stop_stations2, wtf?')\r\n",
    "\r\n",
    "    # # Material\r\n",
    "    # material = wagons.find('./ns1:MaterieelDeelDVS', ns)\r\n",
    "    # if material:\r\n",
    "    #     data['MaterialType'].append(material.find('./ns1:MaterieelSoort', ns).text)\r\n",
    "    #     data['MaterialDesignation'].append(material.find('./ns1:MaterieelAanduiding', ns).text)\r\n",
    "    #     data['MaterialLength'].append(material.find('./ns1:MaterieelLengte', ns).text)\r\n",
    "    # else:\r\n",
    "    #     data['MaterialType'].append(np.NaN)\r\n",
    "    #     data['MaterialDesignation'].append(np.NaN)\r\n",
    "    #     data['MaterialLength'].append(np.NaN)\r\n",
    "\r\n",
    "    # # Change\r\n",
    "    # changes = root.findall('.//ns1:Wijziging', ns)\r\n",
    "    # if changes:\r\n",
    "    #     data['HasChange'].append(True)\r\n",
    "    #     data['ChangeType'].append(encode_list(changes, './ns1:WijzigingType'))\r\n",
    "    # else:\r\n",
    "    #     data['HasChange'].append(False)\r\n",
    "    #     data['ChangeType'].append(np.NaN)\r\n",
    "\r\n",
    "# Parse records about departures\r\n",
    "\"\"\"for root_text, observation_time in df_departures[['xml_obj', 'date']].values:  \r\n",
    "            \r\n",
    "    departure_data['ObservationTime'].append(observation_time)\r\n",
    "\r\n",
    "    root = ET.fromstring(root_text)\r\n",
    "\r\n",
    "    # Ride\r\n",
    "    ride = root.find('./ns2:ReisInformatieProductDVS/ns2:DynamischeVertrekStaat', ns)\r\n",
    "\r\n",
    "    departure_data['RideId'].append(int(ride.find('./ns2:RitId', ns).text))\r\n",
    "    departure_data['RideTime'].append(root.find('./ns2:ReisInformatieProductDVS/ns2:RIPAdministratie/ns2:ReisInformatieTijdstip', ns).text)\r\n",
    "\r\n",
    "    # Stations\r\n",
    "    train = ride.find('./ns2:Trein', ns)\r\n",
    "\r\n",
    "    departureStation = ride.find('./ns2:RitStation', ns)\r\n",
    "    destinationStation = train.find('./ns2:TreinEindBestemming[@InfoStatus=\"Gepland\"]',ns)\r\n",
    "    \r\n",
    "    extract_station_info(departure_data, departureStation, 'DepartureStation')\r\n",
    "    extract_station_info(departure_data, destinationStation, 'DestinationStation')\r\n",
    "\r\n",
    "    # Arrival times\r\n",
    "    departure_data['ActualDepartureTime'].append(train.find('./ns2:VertrekTijd[@InfoStatus=\"Actueel\"]', ns).text)\r\n",
    "    departure_data['PlannedDepartureTime'].append(train.find('./ns2:VertrekTijd[@InfoStatus=\"Gepland\"]', ns).text)\r\n",
    "    \r\n",
    "    # Train\r\n",
    "    departure_data['TrainId'].append(train.find('./ns2:TreinNummer', ns).text)\r\n",
    "    departure_data['TrainType'].append(train.find('./ns2:TreinSoort', ns).text)\r\n",
    "    departure_data['TrainOperator'].append(train.find('./ns2:Vervoerder', ns).text)\r\n",
    "\r\n",
    "    departure_data['PlannedDeparturePlatform'].append(train.find('./ns2:TreinVertrekSpoor[@InfoStatus=\"Gepland\"]/ns2:SpoorNummer', ns).text)\r\n",
    "    suffix = train.find('./ns2:TreinVertrekSpoor[@InfoStatus=\"Gepland\"]/ns2:SpoorFase', ns)\r\n",
    "    departure_data['PlannedDeparturePlatformSuffix'].append(None if suffix is None else suffix.text)\r\n",
    "\r\n",
    "    departure_data['ActualDeparturePlatform'].append(train.find('./ns2:TreinVertrekSpoor[@InfoStatus=\"Actueel\"]/ns2:SpoorNummer', ns).text)\r\n",
    "    suffix = train.find('./ns2:TreinVertrekSpoor[@InfoStatus=\"Actueel\"]/ns2:SpoorFase', ns)\r\n",
    "    departure_data['ActualDeparturePlatformSuffix'].append(None if suffix is None else suffix.text)\r\n",
    "\"\"\"\r\n",
    "            \r\n",
    "# # Convert the dictionary to a dataframe\r\n",
    "dfa = pd.DataFrame(arrival_data)    \r\n",
    "print(dfa.shape) # show the file size kinda\r\n",
    "# # save the file, specify your path and name for the file\r\n",
    "# df_flat.to_csv('./data/september.csv.zip', \r\n",
    "#                index=False, \r\n",
    "#                compression=dict(method='zip', archive_name='january.csv'))\r\n",
    "\r\n"
   ]
  },
  {
   "cell_type": "code",
   "execution_count": 22,
   "metadata": {},
   "outputs": [
    {
     "data": {
      "text/html": "<div>\n<style scoped>\n    .dataframe tbody tr th:only-of-type {\n        vertical-align: middle;\n    }\n\n    .dataframe tbody tr th {\n        vertical-align: top;\n    }\n\n    .dataframe thead th {\n        text-align: right;\n    }\n</style>\n<table border=\"1\" class=\"dataframe\">\n  <thead>\n    <tr style=\"text-align: right;\">\n      <th></th>\n      <th>ObservationTime</th>\n      <th>RideId</th>\n      <th>RideTime</th>\n      <th>DepartureStationCode</th>\n      <th>DepartureStationUIC</th>\n      <th>DepartureStationType</th>\n      <th>TrainId</th>\n      <th>TrainType</th>\n      <th>TrainOperator</th>\n      <th>DestinationStationCode</th>\n      <th>DestinationStationUIC</th>\n      <th>DestinationStationType</th>\n      <th>PlannedArrivalTime</th>\n      <th>ActualArrivalTime</th>\n      <th>PlannedArrivalPlatform</th>\n      <th>PlannedArrivalPlatformSuffix</th>\n      <th>ActualArrivalPlatform</th>\n      <th>ActualArrivalPlatformSuffix</th>\n    </tr>\n  </thead>\n  <tbody>\n    <tr>\n      <th>129</th>\n      <td>2019-01-02 07:23:08.704680+01:00</td>\n      <td>105</td>\n      <td>2019-01-02T07:33:00.000Z</td>\n      <td>ASD</td>\n      <td>8400058</td>\n      <td>6</td>\n      <td>105</td>\n      <td>ICE International</td>\n      <td>NS</td>\n      <td>UT</td>\n      <td>8400621</td>\n      <td>6</td>\n      <td>2019-01-02T07:33:00.000Z</td>\n      <td>2019-01-02T07:33:00.000Z</td>\n      <td>18</td>\n      <td>None</td>\n      <td>18</td>\n      <td>None</td>\n    </tr>\n    <tr>\n      <th>131</th>\n      <td>2019-01-02 08:14:53.961020+01:00</td>\n      <td>105</td>\n      <td>2019-01-02T07:33:00.000Z</td>\n      <td>ASD</td>\n      <td>8400058</td>\n      <td>6</td>\n      <td>105</td>\n      <td>ICE International</td>\n      <td>NS</td>\n      <td>UT</td>\n      <td>8400621</td>\n      <td>6</td>\n      <td>2019-01-02T07:33:00.000Z</td>\n      <td>2019-01-02T07:34:02.000Z</td>\n      <td>18</td>\n      <td>None</td>\n      <td>18</td>\n      <td>None</td>\n    </tr>\n    <tr>\n      <th>132</th>\n      <td>2019-01-02 08:16:34.890657+01:00</td>\n      <td>105</td>\n      <td>2019-01-02T07:33:00.000Z</td>\n      <td>ASD</td>\n      <td>8400058</td>\n      <td>6</td>\n      <td>105</td>\n      <td>ICE International</td>\n      <td>NS</td>\n      <td>UT</td>\n      <td>8400621</td>\n      <td>6</td>\n      <td>2019-01-02T07:33:00.000Z</td>\n      <td>2019-01-02T07:33:12.000Z</td>\n      <td>18</td>\n      <td>None</td>\n      <td>18</td>\n      <td>None</td>\n    </tr>\n    <tr>\n      <th>133</th>\n      <td>2019-01-02 08:32:18.975099+01:00</td>\n      <td>105</td>\n      <td>2019-01-02T07:33:00.000Z</td>\n      <td>ASD</td>\n      <td>8400058</td>\n      <td>6</td>\n      <td>105</td>\n      <td>ICE International</td>\n      <td>NS</td>\n      <td>UT</td>\n      <td>8400621</td>\n      <td>6</td>\n      <td>2019-01-02T07:33:00.000Z</td>\n      <td>2019-01-02T07:33:12.000Z</td>\n      <td>18</td>\n      <td>None</td>\n      <td>18</td>\n      <td>None</td>\n    </tr>\n    <tr>\n      <th>134</th>\n      <td>2019-01-02 08:37:42.943253+01:00</td>\n      <td>105</td>\n      <td>2019-01-02T07:33:00.000Z</td>\n      <td>ASD</td>\n      <td>8400058</td>\n      <td>6</td>\n      <td>105</td>\n      <td>ICE International</td>\n      <td>NS</td>\n      <td>UT</td>\n      <td>8400621</td>\n      <td>6</td>\n      <td>2019-01-02T07:33:00.000Z</td>\n      <td>2019-01-02T07:33:12.000Z</td>\n      <td>18</td>\n      <td>None</td>\n      <td>18</td>\n      <td>None</td>\n    </tr>\n    <tr>\n      <th>203</th>\n      <td>2019-01-03 07:23:10.802265+01:00</td>\n      <td>105</td>\n      <td>2019-01-03T07:33:00.000Z</td>\n      <td>ASD</td>\n      <td>8400058</td>\n      <td>6</td>\n      <td>105</td>\n      <td>ICE International</td>\n      <td>NS</td>\n      <td>UT</td>\n      <td>8400621</td>\n      <td>6</td>\n      <td>2019-01-03T07:33:00.000Z</td>\n      <td>2019-01-03T07:33:00.000Z</td>\n      <td>18</td>\n      <td>None</td>\n      <td>18</td>\n      <td>None</td>\n    </tr>\n    <tr>\n      <th>205</th>\n      <td>2019-01-03 08:32:11.170526+01:00</td>\n      <td>105</td>\n      <td>2019-01-03T07:33:00.000Z</td>\n      <td>ASD</td>\n      <td>8400058</td>\n      <td>6</td>\n      <td>105</td>\n      <td>ICE International</td>\n      <td>NS</td>\n      <td>UT</td>\n      <td>8400621</td>\n      <td>6</td>\n      <td>2019-01-03T07:33:00.000Z</td>\n      <td>2019-01-03T07:33:00.000Z</td>\n      <td>18</td>\n      <td>None</td>\n      <td>18</td>\n      <td>None</td>\n    </tr>\n    <tr>\n      <th>206</th>\n      <td>2019-01-03 08:49:03.881832+01:00</td>\n      <td>105</td>\n      <td>2019-01-03T07:33:00.000Z</td>\n      <td>ASD</td>\n      <td>8400058</td>\n      <td>6</td>\n      <td>105</td>\n      <td>ICE International</td>\n      <td>NS</td>\n      <td>UT</td>\n      <td>8400621</td>\n      <td>6</td>\n      <td>2019-01-03T07:33:00.000Z</td>\n      <td>2019-01-03T07:33:00.000Z</td>\n      <td>18</td>\n      <td>None</td>\n      <td>18</td>\n      <td>None</td>\n    </tr>\n    <tr>\n      <th>272</th>\n      <td>2019-01-04 07:23:10.747901+01:00</td>\n      <td>105</td>\n      <td>2019-01-04T07:33:00.000Z</td>\n      <td>ASD</td>\n      <td>8400058</td>\n      <td>6</td>\n      <td>105</td>\n      <td>ICE International</td>\n      <td>NS</td>\n      <td>UT</td>\n      <td>8400621</td>\n      <td>6</td>\n      <td>2019-01-04T07:33:00.000Z</td>\n      <td>2019-01-04T07:33:00.000Z</td>\n      <td>18</td>\n      <td>None</td>\n      <td>18</td>\n      <td>None</td>\n    </tr>\n    <tr>\n      <th>274</th>\n      <td>2019-01-04 08:19:24.291712+01:00</td>\n      <td>105</td>\n      <td>2019-01-04T07:33:00.000Z</td>\n      <td>ASD</td>\n      <td>8400058</td>\n      <td>6</td>\n      <td>105</td>\n      <td>ICE International</td>\n      <td>NS</td>\n      <td>UT</td>\n      <td>8400621</td>\n      <td>6</td>\n      <td>2019-01-04T07:33:00.000Z</td>\n      <td>2019-01-04T07:34:13.000Z</td>\n      <td>18</td>\n      <td>None</td>\n      <td>18</td>\n      <td>None</td>\n    </tr>\n    <tr>\n      <th>275</th>\n      <td>2019-01-04 08:33:44.071321+01:00</td>\n      <td>105</td>\n      <td>2019-01-04T07:33:00.000Z</td>\n      <td>ASD</td>\n      <td>8400058</td>\n      <td>6</td>\n      <td>105</td>\n      <td>ICE International</td>\n      <td>NS</td>\n      <td>UT</td>\n      <td>8400621</td>\n      <td>6</td>\n      <td>2019-01-04T07:33:00.000Z</td>\n      <td>2019-01-04T07:34:13.000Z</td>\n      <td>18</td>\n      <td>None</td>\n      <td>18</td>\n      <td>None</td>\n    </tr>\n    <tr>\n      <th>276</th>\n      <td>2019-01-04 08:37:38.178122+01:00</td>\n      <td>105</td>\n      <td>2019-01-04T07:33:00.000Z</td>\n      <td>ASD</td>\n      <td>8400058</td>\n      <td>6</td>\n      <td>105</td>\n      <td>ICE International</td>\n      <td>NS</td>\n      <td>UT</td>\n      <td>8400621</td>\n      <td>6</td>\n      <td>2019-01-04T07:33:00.000Z</td>\n      <td>2019-01-04T07:34:13.000Z</td>\n      <td>18</td>\n      <td>None</td>\n      <td>18</td>\n      <td>None</td>\n    </tr>\n    <tr>\n      <th>281</th>\n      <td>2019-01-04 11:16:26.433671+01:00</td>\n      <td>105</td>\n      <td>2019-01-04T07:33:00.000Z</td>\n      <td>ASD</td>\n      <td>8400058</td>\n      <td>6</td>\n      <td>105</td>\n      <td>ICE International</td>\n      <td>NS</td>\n      <td>UT</td>\n      <td>8400621</td>\n      <td>6</td>\n      <td>2019-01-04T07:33:00.000Z</td>\n      <td>2019-01-04T07:33:00.000Z</td>\n      <td>18</td>\n      <td>None</td>\n      <td>18</td>\n      <td>None</td>\n    </tr>\n    <tr>\n      <th>343</th>\n      <td>2019-01-05 07:22:13.957492+01:00</td>\n      <td>105</td>\n      <td>2019-01-05T07:32:00.000Z</td>\n      <td>ASD</td>\n      <td>8400058</td>\n      <td>6</td>\n      <td>105</td>\n      <td>ICE International</td>\n      <td>NS</td>\n      <td>UT</td>\n      <td>8400621</td>\n      <td>6</td>\n      <td>2019-01-05T07:32:00.000Z</td>\n      <td>2019-01-05T07:32:00.000Z</td>\n      <td>19</td>\n      <td>None</td>\n      <td>19</td>\n      <td>None</td>\n    </tr>\n    <tr>\n      <th>349</th>\n      <td>2019-01-05 08:20:48.610765+01:00</td>\n      <td>105</td>\n      <td>2019-01-05T07:32:00.000Z</td>\n      <td>ASD</td>\n      <td>8400058</td>\n      <td>6</td>\n      <td>105</td>\n      <td>ICE International</td>\n      <td>NS</td>\n      <td>UT</td>\n      <td>8400621</td>\n      <td>6</td>\n      <td>2019-01-05T07:32:00.000Z</td>\n      <td>2019-01-05T07:35:36.000Z</td>\n      <td>19</td>\n      <td>None</td>\n      <td>19</td>\n      <td>None</td>\n    </tr>\n    <tr>\n      <th>350</th>\n      <td>2019-01-05 08:29:18.600938+01:00</td>\n      <td>105</td>\n      <td>2019-01-05T07:32:00.000Z</td>\n      <td>ASD</td>\n      <td>8400058</td>\n      <td>6</td>\n      <td>105</td>\n      <td>ICE International</td>\n      <td>NS</td>\n      <td>UT</td>\n      <td>8400621</td>\n      <td>6</td>\n      <td>2019-01-05T07:32:00.000Z</td>\n      <td>2019-01-05T07:36:36.000Z</td>\n      <td>19</td>\n      <td>None</td>\n      <td>19</td>\n      <td>None</td>\n    </tr>\n    <tr>\n      <th>351</th>\n      <td>2019-01-05 08:31:34.640152+01:00</td>\n      <td>105</td>\n      <td>2019-01-05T07:32:00.000Z</td>\n      <td>ASD</td>\n      <td>8400058</td>\n      <td>6</td>\n      <td>105</td>\n      <td>ICE International</td>\n      <td>NS</td>\n      <td>UT</td>\n      <td>8400621</td>\n      <td>6</td>\n      <td>2019-01-05T07:32:00.000Z</td>\n      <td>2019-01-05T07:37:03.000Z</td>\n      <td>19</td>\n      <td>None</td>\n      <td>19</td>\n      <td>None</td>\n    </tr>\n    <tr>\n      <th>352</th>\n      <td>2019-01-05 08:35:51.320014+01:00</td>\n      <td>105</td>\n      <td>2019-01-05T07:32:00.000Z</td>\n      <td>ASD</td>\n      <td>8400058</td>\n      <td>6</td>\n      <td>105</td>\n      <td>ICE International</td>\n      <td>NS</td>\n      <td>UT</td>\n      <td>8400621</td>\n      <td>6</td>\n      <td>2019-01-05T07:32:00.000Z</td>\n      <td>2019-01-05T07:38:37.000Z</td>\n      <td>19</td>\n      <td>None</td>\n      <td>19</td>\n      <td>None</td>\n    </tr>\n    <tr>\n      <th>353</th>\n      <td>2019-01-05 08:37:03.296259+01:00</td>\n      <td>105</td>\n      <td>2019-01-05T07:32:00.000Z</td>\n      <td>ASD</td>\n      <td>8400058</td>\n      <td>6</td>\n      <td>105</td>\n      <td>ICE International</td>\n      <td>NS</td>\n      <td>UT</td>\n      <td>8400621</td>\n      <td>6</td>\n      <td>2019-01-05T07:32:00.000Z</td>\n      <td>2019-01-05T07:38:37.000Z</td>\n      <td>19</td>\n      <td>None</td>\n      <td>19</td>\n      <td>None</td>\n    </tr>\n    <tr>\n      <th>354</th>\n      <td>2019-01-05 08:40:55.071092+01:00</td>\n      <td>105</td>\n      <td>2019-01-05T07:32:00.000Z</td>\n      <td>ASD</td>\n      <td>8400058</td>\n      <td>6</td>\n      <td>105</td>\n      <td>ICE International</td>\n      <td>NS</td>\n      <td>UT</td>\n      <td>8400621</td>\n      <td>6</td>\n      <td>2019-01-05T07:32:00.000Z</td>\n      <td>2019-01-05T07:38:37.000Z</td>\n      <td>19</td>\n      <td>None</td>\n      <td>19</td>\n      <td>None</td>\n    </tr>\n    <tr>\n      <th>413</th>\n      <td>2019-01-06 07:23:07.124293+01:00</td>\n      <td>105</td>\n      <td>2019-01-06T07:33:00.000Z</td>\n      <td>ASD</td>\n      <td>8400058</td>\n      <td>6</td>\n      <td>105</td>\n      <td>ICE International</td>\n      <td>NS</td>\n      <td>UT</td>\n      <td>8400621</td>\n      <td>6</td>\n      <td>2019-01-06T07:33:00.000Z</td>\n      <td>2019-01-06T07:33:00.000Z</td>\n      <td>19</td>\n      <td>None</td>\n      <td>19</td>\n      <td>None</td>\n    </tr>\n    <tr>\n      <th>425</th>\n      <td>2019-01-06 08:13:59.786529+01:00</td>\n      <td>105</td>\n      <td>2019-01-06T07:33:00.000Z</td>\n      <td>ASD</td>\n      <td>8400058</td>\n      <td>6</td>\n      <td>105</td>\n      <td>ICE International</td>\n      <td>NS</td>\n      <td>UT</td>\n      <td>8400621</td>\n      <td>6</td>\n      <td>2019-01-06T07:33:00.000Z</td>\n      <td>2019-01-06T07:34:18.000Z</td>\n      <td>19</td>\n      <td>None</td>\n      <td>19</td>\n      <td>None</td>\n    </tr>\n    <tr>\n      <th>430</th>\n      <td>2019-01-06 08:30:39.374456+01:00</td>\n      <td>105</td>\n      <td>2019-01-06T07:33:00.000Z</td>\n      <td>ASD</td>\n      <td>8400058</td>\n      <td>6</td>\n      <td>105</td>\n      <td>ICE International</td>\n      <td>NS</td>\n      <td>UT</td>\n      <td>8400621</td>\n      <td>6</td>\n      <td>2019-01-06T07:33:00.000Z</td>\n      <td>2019-01-06T07:33:26.000Z</td>\n      <td>19</td>\n      <td>None</td>\n      <td>19</td>\n      <td>None</td>\n    </tr>\n    <tr>\n      <th>431</th>\n      <td>2019-01-06 08:31:46.789292+01:00</td>\n      <td>105</td>\n      <td>2019-01-06T07:33:00.000Z</td>\n      <td>ASD</td>\n      <td>8400058</td>\n      <td>6</td>\n      <td>105</td>\n      <td>ICE International</td>\n      <td>NS</td>\n      <td>UT</td>\n      <td>8400621</td>\n      <td>6</td>\n      <td>2019-01-06T07:33:00.000Z</td>\n      <td>2019-01-06T07:33:26.000Z</td>\n      <td>19</td>\n      <td>None</td>\n      <td>19</td>\n      <td>None</td>\n    </tr>\n    <tr>\n      <th>435</th>\n      <td>2019-01-06 08:37:41.101429+01:00</td>\n      <td>105</td>\n      <td>2019-01-06T07:33:00.000Z</td>\n      <td>ASD</td>\n      <td>8400058</td>\n      <td>6</td>\n      <td>105</td>\n      <td>ICE International</td>\n      <td>NS</td>\n      <td>UT</td>\n      <td>8400621</td>\n      <td>6</td>\n      <td>2019-01-06T07:33:00.000Z</td>\n      <td>2019-01-06T07:33:26.000Z</td>\n      <td>19</td>\n      <td>None</td>\n      <td>19</td>\n      <td>None</td>\n    </tr>\n    <tr>\n      <th>500</th>\n      <td>2019-01-07 07:23:08.872428+01:00</td>\n      <td>105</td>\n      <td>2019-01-07T07:33:00.000Z</td>\n      <td>ASD</td>\n      <td>8400058</td>\n      <td>6</td>\n      <td>105</td>\n      <td>ICE International</td>\n      <td>NS</td>\n      <td>UT</td>\n      <td>8400621</td>\n      <td>6</td>\n      <td>2019-01-07T07:33:00.000Z</td>\n      <td>2019-01-07T07:33:00.000Z</td>\n      <td>18</td>\n      <td>None</td>\n      <td>18</td>\n      <td>None</td>\n    </tr>\n    <tr>\n      <th>502</th>\n      <td>2019-01-07 08:14:46.807879+01:00</td>\n      <td>105</td>\n      <td>2019-01-07T07:33:00.000Z</td>\n      <td>ASD</td>\n      <td>8400058</td>\n      <td>6</td>\n      <td>105</td>\n      <td>ICE International</td>\n      <td>NS</td>\n      <td>UT</td>\n      <td>8400621</td>\n      <td>6</td>\n      <td>2019-01-07T07:33:00.000Z</td>\n      <td>2019-01-07T07:34:12.000Z</td>\n      <td>18</td>\n      <td>None</td>\n      <td>18</td>\n      <td>None</td>\n    </tr>\n    <tr>\n      <th>503</th>\n      <td>2019-01-07 08:33:24.422286+01:00</td>\n      <td>105</td>\n      <td>2019-01-07T07:33:00.000Z</td>\n      <td>ASD</td>\n      <td>8400058</td>\n      <td>6</td>\n      <td>105</td>\n      <td>ICE International</td>\n      <td>NS</td>\n      <td>UT</td>\n      <td>8400621</td>\n      <td>6</td>\n      <td>2019-01-07T07:33:00.000Z</td>\n      <td>2019-01-07T07:35:12.000Z</td>\n      <td>18</td>\n      <td>None</td>\n      <td>18</td>\n      <td>None</td>\n    </tr>\n    <tr>\n      <th>504</th>\n      <td>2019-01-07 08:34:24.825753+01:00</td>\n      <td>105</td>\n      <td>2019-01-07T07:33:00.000Z</td>\n      <td>ASD</td>\n      <td>8400058</td>\n      <td>6</td>\n      <td>105</td>\n      <td>ICE International</td>\n      <td>NS</td>\n      <td>UT</td>\n      <td>8400621</td>\n      <td>6</td>\n      <td>2019-01-07T07:33:00.000Z</td>\n      <td>2019-01-07T07:35:12.000Z</td>\n      <td>18</td>\n      <td>None</td>\n      <td>18</td>\n      <td>None</td>\n    </tr>\n    <tr>\n      <th>505</th>\n      <td>2019-01-07 08:38:08.911010+01:00</td>\n      <td>105</td>\n      <td>2019-01-07T07:33:00.000Z</td>\n      <td>ASD</td>\n      <td>8400058</td>\n      <td>6</td>\n      <td>105</td>\n      <td>ICE International</td>\n      <td>NS</td>\n      <td>UT</td>\n      <td>8400621</td>\n      <td>6</td>\n      <td>2019-01-07T07:33:00.000Z</td>\n      <td>2019-01-07T07:35:12.000Z</td>\n      <td>18</td>\n      <td>None</td>\n      <td>18</td>\n      <td>None</td>\n    </tr>\n    <tr>\n      <th>575</th>\n      <td>2019-01-08 07:23:12.037120+01:00</td>\n      <td>105</td>\n      <td>2019-01-08T07:33:00.000Z</td>\n      <td>ASD</td>\n      <td>8400058</td>\n      <td>6</td>\n      <td>105</td>\n      <td>ICE International</td>\n      <td>NS</td>\n      <td>UT</td>\n      <td>8400621</td>\n      <td>6</td>\n      <td>2019-01-08T07:33:00.000Z</td>\n      <td>2019-01-08T07:33:00.000Z</td>\n      <td>18</td>\n      <td>None</td>\n      <td>18</td>\n      <td>None</td>\n    </tr>\n    <tr>\n      <th>577</th>\n      <td>2019-01-08 08:31:26.128060+01:00</td>\n      <td>105</td>\n      <td>2019-01-08T07:33:00.000Z</td>\n      <td>ASD</td>\n      <td>8400058</td>\n      <td>6</td>\n      <td>105</td>\n      <td>ICE International</td>\n      <td>NS</td>\n      <td>UT</td>\n      <td>8400621</td>\n      <td>6</td>\n      <td>2019-01-08T07:33:00.000Z</td>\n      <td>2019-01-08T07:34:11.000Z</td>\n      <td>18</td>\n      <td>None</td>\n      <td>18</td>\n      <td>None</td>\n    </tr>\n    <tr>\n      <th>578</th>\n      <td>2019-01-08 08:31:49.047462+01:00</td>\n      <td>105</td>\n      <td>2019-01-08T07:33:00.000Z</td>\n      <td>ASD</td>\n      <td>8400058</td>\n      <td>6</td>\n      <td>105</td>\n      <td>ICE International</td>\n      <td>NS</td>\n      <td>UT</td>\n      <td>8400621</td>\n      <td>6</td>\n      <td>2019-01-08T07:33:00.000Z</td>\n      <td>2019-01-08T07:33:38.000Z</td>\n      <td>18</td>\n      <td>None</td>\n      <td>18</td>\n      <td>None</td>\n    </tr>\n    <tr>\n      <th>579</th>\n      <td>2019-01-08 08:32:59.200509+01:00</td>\n      <td>105</td>\n      <td>2019-01-08T07:33:00.000Z</td>\n      <td>ASD</td>\n      <td>8400058</td>\n      <td>6</td>\n      <td>105</td>\n      <td>ICE International</td>\n      <td>NS</td>\n      <td>UT</td>\n      <td>8400621</td>\n      <td>6</td>\n      <td>2019-01-08T07:33:00.000Z</td>\n      <td>2019-01-08T07:33:38.000Z</td>\n      <td>18</td>\n      <td>None</td>\n      <td>18</td>\n      <td>None</td>\n    </tr>\n    <tr>\n      <th>580</th>\n      <td>2019-01-08 08:33:47.259846+01:00</td>\n      <td>105</td>\n      <td>2019-01-08T07:33:00.000Z</td>\n      <td>ASD</td>\n      <td>8400058</td>\n      <td>6</td>\n      <td>105</td>\n      <td>ICE International</td>\n      <td>NS</td>\n      <td>UT</td>\n      <td>8400621</td>\n      <td>6</td>\n      <td>2019-01-08T07:33:00.000Z</td>\n      <td>2019-01-08T07:34:08.000Z</td>\n      <td>18</td>\n      <td>None</td>\n      <td>18</td>\n      <td>None</td>\n    </tr>\n    <tr>\n      <th>581</th>\n      <td>2019-01-08 08:38:03.578208+01:00</td>\n      <td>105</td>\n      <td>2019-01-08T07:33:00.000Z</td>\n      <td>ASD</td>\n      <td>8400058</td>\n      <td>6</td>\n      <td>105</td>\n      <td>ICE International</td>\n      <td>NS</td>\n      <td>UT</td>\n      <td>8400621</td>\n      <td>6</td>\n      <td>2019-01-08T07:33:00.000Z</td>\n      <td>2019-01-08T07:34:08.000Z</td>\n      <td>18</td>\n      <td>None</td>\n      <td>18</td>\n      <td>None</td>\n    </tr>\n    <tr>\n      <th>649</th>\n      <td>2019-01-09 07:23:13.138528+01:00</td>\n      <td>105</td>\n      <td>2019-01-09T07:33:00.000Z</td>\n      <td>ASD</td>\n      <td>8400058</td>\n      <td>6</td>\n      <td>105</td>\n      <td>ICE International</td>\n      <td>NS</td>\n      <td>UT</td>\n      <td>8400621</td>\n      <td>6</td>\n      <td>2019-01-09T07:33:00.000Z</td>\n      <td>2019-01-09T07:33:00.000Z</td>\n      <td>18</td>\n      <td>None</td>\n      <td>18</td>\n      <td>None</td>\n    </tr>\n    <tr>\n      <th>653</th>\n      <td>2019-01-09 08:31:50.902286+01:00</td>\n      <td>105</td>\n      <td>2019-01-09T07:33:00.000Z</td>\n      <td>ASD</td>\n      <td>8400058</td>\n      <td>6</td>\n      <td>105</td>\n      <td>ICE International</td>\n      <td>NS</td>\n      <td>UT</td>\n      <td>8400621</td>\n      <td>6</td>\n      <td>2019-01-09T07:33:00.000Z</td>\n      <td>2019-01-09T07:33:00.000Z</td>\n      <td>18</td>\n      <td>None</td>\n      <td>18</td>\n      <td>None</td>\n    </tr>\n    <tr>\n      <th>654</th>\n      <td>2019-01-09 08:39:32.939238+01:00</td>\n      <td>105</td>\n      <td>2019-01-09T07:33:00.000Z</td>\n      <td>ASD</td>\n      <td>8400058</td>\n      <td>6</td>\n      <td>105</td>\n      <td>ICE International</td>\n      <td>NS</td>\n      <td>UT</td>\n      <td>8400621</td>\n      <td>6</td>\n      <td>2019-01-09T07:33:00.000Z</td>\n      <td>2019-01-09T07:33:00.000Z</td>\n      <td>18</td>\n      <td>None</td>\n      <td>18</td>\n      <td>None</td>\n    </tr>\n    <tr>\n      <th>723</th>\n      <td>2019-01-10 07:23:15.653198+01:00</td>\n      <td>105</td>\n      <td>2019-01-10T07:33:00.000Z</td>\n      <td>ASD</td>\n      <td>8400058</td>\n      <td>6</td>\n      <td>105</td>\n      <td>ICE International</td>\n      <td>NS</td>\n      <td>UT</td>\n      <td>8400621</td>\n      <td>6</td>\n      <td>2019-01-10T07:33:00.000Z</td>\n      <td>2019-01-10T07:33:00.000Z</td>\n      <td>18</td>\n      <td>None</td>\n      <td>18</td>\n      <td>None</td>\n    </tr>\n    <tr>\n      <th>725</th>\n      <td>2019-01-10 08:11:09.292287+01:00</td>\n      <td>105</td>\n      <td>2019-01-10T07:33:00.000Z</td>\n      <td>ASD</td>\n      <td>8400058</td>\n      <td>6</td>\n      <td>105</td>\n      <td>ICE International</td>\n      <td>NS</td>\n      <td>UT</td>\n      <td>8400621</td>\n      <td>6</td>\n      <td>2019-01-10T07:33:00.000Z</td>\n      <td>2019-01-10T07:34:02.000Z</td>\n      <td>18</td>\n      <td>None</td>\n      <td>18</td>\n      <td>None</td>\n    </tr>\n    <tr>\n      <th>726</th>\n      <td>2019-01-10 08:12:52.363901+01:00</td>\n      <td>105</td>\n      <td>2019-01-10T07:33:00.000Z</td>\n      <td>ASD</td>\n      <td>8400058</td>\n      <td>6</td>\n      <td>105</td>\n      <td>ICE International</td>\n      <td>NS</td>\n      <td>UT</td>\n      <td>8400621</td>\n      <td>6</td>\n      <td>2019-01-10T07:33:00.000Z</td>\n      <td>2019-01-10T07:35:04.000Z</td>\n      <td>18</td>\n      <td>None</td>\n      <td>18</td>\n      <td>None</td>\n    </tr>\n    <tr>\n      <th>727</th>\n      <td>2019-01-10 08:23:45.885337+01:00</td>\n      <td>105</td>\n      <td>2019-01-10T07:33:00.000Z</td>\n      <td>ASD</td>\n      <td>8400058</td>\n      <td>6</td>\n      <td>105</td>\n      <td>ICE International</td>\n      <td>NS</td>\n      <td>UT</td>\n      <td>8400621</td>\n      <td>6</td>\n      <td>2019-01-10T07:33:00.000Z</td>\n      <td>2019-01-10T07:37:38.000Z</td>\n      <td>18</td>\n      <td>None</td>\n      <td>18</td>\n      <td>None</td>\n    </tr>\n    <tr>\n      <th>728</th>\n      <td>2019-01-10 08:32:09.447355+01:00</td>\n      <td>105</td>\n      <td>2019-01-10T07:33:00.000Z</td>\n      <td>ASD</td>\n      <td>8400058</td>\n      <td>6</td>\n      <td>105</td>\n      <td>ICE International</td>\n      <td>NS</td>\n      <td>UT</td>\n      <td>8400621</td>\n      <td>6</td>\n      <td>2019-01-10T07:33:00.000Z</td>\n      <td>2019-01-10T07:38:38.000Z</td>\n      <td>18</td>\n      <td>None</td>\n      <td>18</td>\n      <td>None</td>\n    </tr>\n    <tr>\n      <th>729</th>\n      <td>2019-01-10 08:37:34.203744+01:00</td>\n      <td>105</td>\n      <td>2019-01-10T07:33:00.000Z</td>\n      <td>ASD</td>\n      <td>8400058</td>\n      <td>6</td>\n      <td>105</td>\n      <td>ICE International</td>\n      <td>NS</td>\n      <td>UT</td>\n      <td>8400621</td>\n      <td>6</td>\n      <td>2019-01-10T07:33:00.000Z</td>\n      <td>2019-01-10T07:38:38.000Z</td>\n      <td>18</td>\n      <td>None</td>\n      <td>18</td>\n      <td>None</td>\n    </tr>\n    <tr>\n      <th>730</th>\n      <td>2019-01-10 08:40:10.641900+01:00</td>\n      <td>105</td>\n      <td>2019-01-10T07:33:00.000Z</td>\n      <td>ASD</td>\n      <td>8400058</td>\n      <td>6</td>\n      <td>105</td>\n      <td>ICE International</td>\n      <td>NS</td>\n      <td>UT</td>\n      <td>8400621</td>\n      <td>6</td>\n      <td>2019-01-10T07:33:00.000Z</td>\n      <td>2019-01-10T07:38:38.000Z</td>\n      <td>18</td>\n      <td>None</td>\n      <td>18</td>\n      <td>None</td>\n    </tr>\n    <tr>\n      <th>797</th>\n      <td>2019-01-11 07:23:11.513506+01:00</td>\n      <td>105</td>\n      <td>2019-01-11T07:33:00.000Z</td>\n      <td>ASD</td>\n      <td>8400058</td>\n      <td>6</td>\n      <td>105</td>\n      <td>ICE International</td>\n      <td>NS</td>\n      <td>UT</td>\n      <td>8400621</td>\n      <td>6</td>\n      <td>2019-01-11T07:33:00.000Z</td>\n      <td>2019-01-11T07:33:00.000Z</td>\n      <td>18</td>\n      <td>None</td>\n      <td>18</td>\n      <td>None</td>\n    </tr>\n    <tr>\n      <th>799</th>\n      <td>2019-01-11 08:15:11.351230+01:00</td>\n      <td>105</td>\n      <td>2019-01-11T07:33:00.000Z</td>\n      <td>ASD</td>\n      <td>8400058</td>\n      <td>6</td>\n      <td>105</td>\n      <td>ICE International</td>\n      <td>NS</td>\n      <td>UT</td>\n      <td>8400621</td>\n      <td>6</td>\n      <td>2019-01-11T07:33:00.000Z</td>\n      <td>2019-01-11T07:34:31.000Z</td>\n      <td>18</td>\n      <td>None</td>\n      <td>18</td>\n      <td>None</td>\n    </tr>\n    <tr>\n      <th>800</th>\n      <td>2019-01-11 08:28:42.385170+01:00</td>\n      <td>105</td>\n      <td>2019-01-11T07:33:00.000Z</td>\n      <td>ASD</td>\n      <td>8400058</td>\n      <td>6</td>\n      <td>105</td>\n      <td>ICE International</td>\n      <td>NS</td>\n      <td>UT</td>\n      <td>8400621</td>\n      <td>6</td>\n      <td>2019-01-11T07:33:00.000Z</td>\n      <td>2019-01-11T07:35:07.000Z</td>\n      <td>18</td>\n      <td>None</td>\n      <td>18</td>\n      <td>None</td>\n    </tr>\n    <tr>\n      <th>801</th>\n      <td>2019-01-11 08:33:58.421088+01:00</td>\n      <td>105</td>\n      <td>2019-01-11T07:33:00.000Z</td>\n      <td>ASD</td>\n      <td>8400058</td>\n      <td>6</td>\n      <td>105</td>\n      <td>ICE International</td>\n      <td>NS</td>\n      <td>UT</td>\n      <td>8400621</td>\n      <td>6</td>\n      <td>2019-01-11T07:33:00.000Z</td>\n      <td>2019-01-11T07:36:44.000Z</td>\n      <td>18</td>\n      <td>None</td>\n      <td>18</td>\n      <td>None</td>\n    </tr>\n  </tbody>\n</table>\n</div>",
      "text/plain": "                      ObservationTime  RideId                  RideTime  \\\n129  2019-01-02 07:23:08.704680+01:00     105  2019-01-02T07:33:00.000Z   \n131  2019-01-02 08:14:53.961020+01:00     105  2019-01-02T07:33:00.000Z   \n132  2019-01-02 08:16:34.890657+01:00     105  2019-01-02T07:33:00.000Z   \n133  2019-01-02 08:32:18.975099+01:00     105  2019-01-02T07:33:00.000Z   \n134  2019-01-02 08:37:42.943253+01:00     105  2019-01-02T07:33:00.000Z   \n203  2019-01-03 07:23:10.802265+01:00     105  2019-01-03T07:33:00.000Z   \n205  2019-01-03 08:32:11.170526+01:00     105  2019-01-03T07:33:00.000Z   \n206  2019-01-03 08:49:03.881832+01:00     105  2019-01-03T07:33:00.000Z   \n272  2019-01-04 07:23:10.747901+01:00     105  2019-01-04T07:33:00.000Z   \n274  2019-01-04 08:19:24.291712+01:00     105  2019-01-04T07:33:00.000Z   \n275  2019-01-04 08:33:44.071321+01:00     105  2019-01-04T07:33:00.000Z   \n276  2019-01-04 08:37:38.178122+01:00     105  2019-01-04T07:33:00.000Z   \n281  2019-01-04 11:16:26.433671+01:00     105  2019-01-04T07:33:00.000Z   \n343  2019-01-05 07:22:13.957492+01:00     105  2019-01-05T07:32:00.000Z   \n349  2019-01-05 08:20:48.610765+01:00     105  2019-01-05T07:32:00.000Z   \n350  2019-01-05 08:29:18.600938+01:00     105  2019-01-05T07:32:00.000Z   \n351  2019-01-05 08:31:34.640152+01:00     105  2019-01-05T07:32:00.000Z   \n352  2019-01-05 08:35:51.320014+01:00     105  2019-01-05T07:32:00.000Z   \n353  2019-01-05 08:37:03.296259+01:00     105  2019-01-05T07:32:00.000Z   \n354  2019-01-05 08:40:55.071092+01:00     105  2019-01-05T07:32:00.000Z   \n413  2019-01-06 07:23:07.124293+01:00     105  2019-01-06T07:33:00.000Z   \n425  2019-01-06 08:13:59.786529+01:00     105  2019-01-06T07:33:00.000Z   \n430  2019-01-06 08:30:39.374456+01:00     105  2019-01-06T07:33:00.000Z   \n431  2019-01-06 08:31:46.789292+01:00     105  2019-01-06T07:33:00.000Z   \n435  2019-01-06 08:37:41.101429+01:00     105  2019-01-06T07:33:00.000Z   \n500  2019-01-07 07:23:08.872428+01:00     105  2019-01-07T07:33:00.000Z   \n502  2019-01-07 08:14:46.807879+01:00     105  2019-01-07T07:33:00.000Z   \n503  2019-01-07 08:33:24.422286+01:00     105  2019-01-07T07:33:00.000Z   \n504  2019-01-07 08:34:24.825753+01:00     105  2019-01-07T07:33:00.000Z   \n505  2019-01-07 08:38:08.911010+01:00     105  2019-01-07T07:33:00.000Z   \n575  2019-01-08 07:23:12.037120+01:00     105  2019-01-08T07:33:00.000Z   \n577  2019-01-08 08:31:26.128060+01:00     105  2019-01-08T07:33:00.000Z   \n578  2019-01-08 08:31:49.047462+01:00     105  2019-01-08T07:33:00.000Z   \n579  2019-01-08 08:32:59.200509+01:00     105  2019-01-08T07:33:00.000Z   \n580  2019-01-08 08:33:47.259846+01:00     105  2019-01-08T07:33:00.000Z   \n581  2019-01-08 08:38:03.578208+01:00     105  2019-01-08T07:33:00.000Z   \n649  2019-01-09 07:23:13.138528+01:00     105  2019-01-09T07:33:00.000Z   \n653  2019-01-09 08:31:50.902286+01:00     105  2019-01-09T07:33:00.000Z   \n654  2019-01-09 08:39:32.939238+01:00     105  2019-01-09T07:33:00.000Z   \n723  2019-01-10 07:23:15.653198+01:00     105  2019-01-10T07:33:00.000Z   \n725  2019-01-10 08:11:09.292287+01:00     105  2019-01-10T07:33:00.000Z   \n726  2019-01-10 08:12:52.363901+01:00     105  2019-01-10T07:33:00.000Z   \n727  2019-01-10 08:23:45.885337+01:00     105  2019-01-10T07:33:00.000Z   \n728  2019-01-10 08:32:09.447355+01:00     105  2019-01-10T07:33:00.000Z   \n729  2019-01-10 08:37:34.203744+01:00     105  2019-01-10T07:33:00.000Z   \n730  2019-01-10 08:40:10.641900+01:00     105  2019-01-10T07:33:00.000Z   \n797  2019-01-11 07:23:11.513506+01:00     105  2019-01-11T07:33:00.000Z   \n799  2019-01-11 08:15:11.351230+01:00     105  2019-01-11T07:33:00.000Z   \n800  2019-01-11 08:28:42.385170+01:00     105  2019-01-11T07:33:00.000Z   \n801  2019-01-11 08:33:58.421088+01:00     105  2019-01-11T07:33:00.000Z   \n\n    DepartureStationCode  DepartureStationUIC  DepartureStationType TrainId  \\\n129                  ASD              8400058                     6     105   \n131                  ASD              8400058                     6     105   \n132                  ASD              8400058                     6     105   \n133                  ASD              8400058                     6     105   \n134                  ASD              8400058                     6     105   \n203                  ASD              8400058                     6     105   \n205                  ASD              8400058                     6     105   \n206                  ASD              8400058                     6     105   \n272                  ASD              8400058                     6     105   \n274                  ASD              8400058                     6     105   \n275                  ASD              8400058                     6     105   \n276                  ASD              8400058                     6     105   \n281                  ASD              8400058                     6     105   \n343                  ASD              8400058                     6     105   \n349                  ASD              8400058                     6     105   \n350                  ASD              8400058                     6     105   \n351                  ASD              8400058                     6     105   \n352                  ASD              8400058                     6     105   \n353                  ASD              8400058                     6     105   \n354                  ASD              8400058                     6     105   \n413                  ASD              8400058                     6     105   \n425                  ASD              8400058                     6     105   \n430                  ASD              8400058                     6     105   \n431                  ASD              8400058                     6     105   \n435                  ASD              8400058                     6     105   \n500                  ASD              8400058                     6     105   \n502                  ASD              8400058                     6     105   \n503                  ASD              8400058                     6     105   \n504                  ASD              8400058                     6     105   \n505                  ASD              8400058                     6     105   \n575                  ASD              8400058                     6     105   \n577                  ASD              8400058                     6     105   \n578                  ASD              8400058                     6     105   \n579                  ASD              8400058                     6     105   \n580                  ASD              8400058                     6     105   \n581                  ASD              8400058                     6     105   \n649                  ASD              8400058                     6     105   \n653                  ASD              8400058                     6     105   \n654                  ASD              8400058                     6     105   \n723                  ASD              8400058                     6     105   \n725                  ASD              8400058                     6     105   \n726                  ASD              8400058                     6     105   \n727                  ASD              8400058                     6     105   \n728                  ASD              8400058                     6     105   \n729                  ASD              8400058                     6     105   \n730                  ASD              8400058                     6     105   \n797                  ASD              8400058                     6     105   \n799                  ASD              8400058                     6     105   \n800                  ASD              8400058                     6     105   \n801                  ASD              8400058                     6     105   \n\n             TrainType TrainOperator DestinationStationCode  \\\n129  ICE International            NS                     UT   \n131  ICE International            NS                     UT   \n132  ICE International            NS                     UT   \n133  ICE International            NS                     UT   \n134  ICE International            NS                     UT   \n203  ICE International            NS                     UT   \n205  ICE International            NS                     UT   \n206  ICE International            NS                     UT   \n272  ICE International            NS                     UT   \n274  ICE International            NS                     UT   \n275  ICE International            NS                     UT   \n276  ICE International            NS                     UT   \n281  ICE International            NS                     UT   \n343  ICE International            NS                     UT   \n349  ICE International            NS                     UT   \n350  ICE International            NS                     UT   \n351  ICE International            NS                     UT   \n352  ICE International            NS                     UT   \n353  ICE International            NS                     UT   \n354  ICE International            NS                     UT   \n413  ICE International            NS                     UT   \n425  ICE International            NS                     UT   \n430  ICE International            NS                     UT   \n431  ICE International            NS                     UT   \n435  ICE International            NS                     UT   \n500  ICE International            NS                     UT   \n502  ICE International            NS                     UT   \n503  ICE International            NS                     UT   \n504  ICE International            NS                     UT   \n505  ICE International            NS                     UT   \n575  ICE International            NS                     UT   \n577  ICE International            NS                     UT   \n578  ICE International            NS                     UT   \n579  ICE International            NS                     UT   \n580  ICE International            NS                     UT   \n581  ICE International            NS                     UT   \n649  ICE International            NS                     UT   \n653  ICE International            NS                     UT   \n654  ICE International            NS                     UT   \n723  ICE International            NS                     UT   \n725  ICE International            NS                     UT   \n726  ICE International            NS                     UT   \n727  ICE International            NS                     UT   \n728  ICE International            NS                     UT   \n729  ICE International            NS                     UT   \n730  ICE International            NS                     UT   \n797  ICE International            NS                     UT   \n799  ICE International            NS                     UT   \n800  ICE International            NS                     UT   \n801  ICE International            NS                     UT   \n\n     DestinationStationUIC  DestinationStationType        PlannedArrivalTime  \\\n129                8400621                       6  2019-01-02T07:33:00.000Z   \n131                8400621                       6  2019-01-02T07:33:00.000Z   \n132                8400621                       6  2019-01-02T07:33:00.000Z   \n133                8400621                       6  2019-01-02T07:33:00.000Z   \n134                8400621                       6  2019-01-02T07:33:00.000Z   \n203                8400621                       6  2019-01-03T07:33:00.000Z   \n205                8400621                       6  2019-01-03T07:33:00.000Z   \n206                8400621                       6  2019-01-03T07:33:00.000Z   \n272                8400621                       6  2019-01-04T07:33:00.000Z   \n274                8400621                       6  2019-01-04T07:33:00.000Z   \n275                8400621                       6  2019-01-04T07:33:00.000Z   \n276                8400621                       6  2019-01-04T07:33:00.000Z   \n281                8400621                       6  2019-01-04T07:33:00.000Z   \n343                8400621                       6  2019-01-05T07:32:00.000Z   \n349                8400621                       6  2019-01-05T07:32:00.000Z   \n350                8400621                       6  2019-01-05T07:32:00.000Z   \n351                8400621                       6  2019-01-05T07:32:00.000Z   \n352                8400621                       6  2019-01-05T07:32:00.000Z   \n353                8400621                       6  2019-01-05T07:32:00.000Z   \n354                8400621                       6  2019-01-05T07:32:00.000Z   \n413                8400621                       6  2019-01-06T07:33:00.000Z   \n425                8400621                       6  2019-01-06T07:33:00.000Z   \n430                8400621                       6  2019-01-06T07:33:00.000Z   \n431                8400621                       6  2019-01-06T07:33:00.000Z   \n435                8400621                       6  2019-01-06T07:33:00.000Z   \n500                8400621                       6  2019-01-07T07:33:00.000Z   \n502                8400621                       6  2019-01-07T07:33:00.000Z   \n503                8400621                       6  2019-01-07T07:33:00.000Z   \n504                8400621                       6  2019-01-07T07:33:00.000Z   \n505                8400621                       6  2019-01-07T07:33:00.000Z   \n575                8400621                       6  2019-01-08T07:33:00.000Z   \n577                8400621                       6  2019-01-08T07:33:00.000Z   \n578                8400621                       6  2019-01-08T07:33:00.000Z   \n579                8400621                       6  2019-01-08T07:33:00.000Z   \n580                8400621                       6  2019-01-08T07:33:00.000Z   \n581                8400621                       6  2019-01-08T07:33:00.000Z   \n649                8400621                       6  2019-01-09T07:33:00.000Z   \n653                8400621                       6  2019-01-09T07:33:00.000Z   \n654                8400621                       6  2019-01-09T07:33:00.000Z   \n723                8400621                       6  2019-01-10T07:33:00.000Z   \n725                8400621                       6  2019-01-10T07:33:00.000Z   \n726                8400621                       6  2019-01-10T07:33:00.000Z   \n727                8400621                       6  2019-01-10T07:33:00.000Z   \n728                8400621                       6  2019-01-10T07:33:00.000Z   \n729                8400621                       6  2019-01-10T07:33:00.000Z   \n730                8400621                       6  2019-01-10T07:33:00.000Z   \n797                8400621                       6  2019-01-11T07:33:00.000Z   \n799                8400621                       6  2019-01-11T07:33:00.000Z   \n800                8400621                       6  2019-01-11T07:33:00.000Z   \n801                8400621                       6  2019-01-11T07:33:00.000Z   \n\n            ActualArrivalTime PlannedArrivalPlatform  \\\n129  2019-01-02T07:33:00.000Z                     18   \n131  2019-01-02T07:34:02.000Z                     18   \n132  2019-01-02T07:33:12.000Z                     18   \n133  2019-01-02T07:33:12.000Z                     18   \n134  2019-01-02T07:33:12.000Z                     18   \n203  2019-01-03T07:33:00.000Z                     18   \n205  2019-01-03T07:33:00.000Z                     18   \n206  2019-01-03T07:33:00.000Z                     18   \n272  2019-01-04T07:33:00.000Z                     18   \n274  2019-01-04T07:34:13.000Z                     18   \n275  2019-01-04T07:34:13.000Z                     18   \n276  2019-01-04T07:34:13.000Z                     18   \n281  2019-01-04T07:33:00.000Z                     18   \n343  2019-01-05T07:32:00.000Z                     19   \n349  2019-01-05T07:35:36.000Z                     19   \n350  2019-01-05T07:36:36.000Z                     19   \n351  2019-01-05T07:37:03.000Z                     19   \n352  2019-01-05T07:38:37.000Z                     19   \n353  2019-01-05T07:38:37.000Z                     19   \n354  2019-01-05T07:38:37.000Z                     19   \n413  2019-01-06T07:33:00.000Z                     19   \n425  2019-01-06T07:34:18.000Z                     19   \n430  2019-01-06T07:33:26.000Z                     19   \n431  2019-01-06T07:33:26.000Z                     19   \n435  2019-01-06T07:33:26.000Z                     19   \n500  2019-01-07T07:33:00.000Z                     18   \n502  2019-01-07T07:34:12.000Z                     18   \n503  2019-01-07T07:35:12.000Z                     18   \n504  2019-01-07T07:35:12.000Z                     18   \n505  2019-01-07T07:35:12.000Z                     18   \n575  2019-01-08T07:33:00.000Z                     18   \n577  2019-01-08T07:34:11.000Z                     18   \n578  2019-01-08T07:33:38.000Z                     18   \n579  2019-01-08T07:33:38.000Z                     18   \n580  2019-01-08T07:34:08.000Z                     18   \n581  2019-01-08T07:34:08.000Z                     18   \n649  2019-01-09T07:33:00.000Z                     18   \n653  2019-01-09T07:33:00.000Z                     18   \n654  2019-01-09T07:33:00.000Z                     18   \n723  2019-01-10T07:33:00.000Z                     18   \n725  2019-01-10T07:34:02.000Z                     18   \n726  2019-01-10T07:35:04.000Z                     18   \n727  2019-01-10T07:37:38.000Z                     18   \n728  2019-01-10T07:38:38.000Z                     18   \n729  2019-01-10T07:38:38.000Z                     18   \n730  2019-01-10T07:38:38.000Z                     18   \n797  2019-01-11T07:33:00.000Z                     18   \n799  2019-01-11T07:34:31.000Z                     18   \n800  2019-01-11T07:35:07.000Z                     18   \n801  2019-01-11T07:36:44.000Z                     18   \n\n    PlannedArrivalPlatformSuffix ActualArrivalPlatform  \\\n129                         None                    18   \n131                         None                    18   \n132                         None                    18   \n133                         None                    18   \n134                         None                    18   \n203                         None                    18   \n205                         None                    18   \n206                         None                    18   \n272                         None                    18   \n274                         None                    18   \n275                         None                    18   \n276                         None                    18   \n281                         None                    18   \n343                         None                    19   \n349                         None                    19   \n350                         None                    19   \n351                         None                    19   \n352                         None                    19   \n353                         None                    19   \n354                         None                    19   \n413                         None                    19   \n425                         None                    19   \n430                         None                    19   \n431                         None                    19   \n435                         None                    19   \n500                         None                    18   \n502                         None                    18   \n503                         None                    18   \n504                         None                    18   \n505                         None                    18   \n575                         None                    18   \n577                         None                    18   \n578                         None                    18   \n579                         None                    18   \n580                         None                    18   \n581                         None                    18   \n649                         None                    18   \n653                         None                    18   \n654                         None                    18   \n723                         None                    18   \n725                         None                    18   \n726                         None                    18   \n727                         None                    18   \n728                         None                    18   \n729                         None                    18   \n730                         None                    18   \n797                         None                    18   \n799                         None                    18   \n800                         None                    18   \n801                         None                    18   \n\n    ActualArrivalPlatformSuffix  \n129                        None  \n131                        None  \n132                        None  \n133                        None  \n134                        None  \n203                        None  \n205                        None  \n206                        None  \n272                        None  \n274                        None  \n275                        None  \n276                        None  \n281                        None  \n343                        None  \n349                        None  \n350                        None  \n351                        None  \n352                        None  \n353                        None  \n354                        None  \n413                        None  \n425                        None  \n430                        None  \n431                        None  \n435                        None  \n500                        None  \n502                        None  \n503                        None  \n504                        None  \n505                        None  \n575                        None  \n577                        None  \n578                        None  \n579                        None  \n580                        None  \n581                        None  \n649                        None  \n653                        None  \n654                        None  \n723                        None  \n725                        None  \n726                        None  \n727                        None  \n728                        None  \n729                        None  \n730                        None  \n797                        None  \n799                        None  \n800                        None  \n801                        None  "
     },
     "execution_count": 22,
     "metadata": {},
     "output_type": "execute_result"
    }
   ],
   "source": [
    "dfa.sort_values(['RideId', 'PlannedArrivalTime', ]).head(50)"
   ]
  },
  {
   "cell_type": "code",
   "execution_count": null,
   "metadata": {
    "id": "zsrk1mUwqnCM",
    "outputId": "36854ebe-07cb-4ecd-b9ec-d9823bfaeffa"
   },
   "outputs": [],
   "source": [
    "# you can laod the files again in \r\n",
    "df_july = pd.read_csv('../data/july.csv.zip')\r\n",
    "df_august = pd.read_csv('../data/august.csv.zip')\r\n",
    "df_september = pd.read_csv('../data/september.csv.zip')"
   ]
  },
  {
   "cell_type": "code",
   "execution_count": null,
   "metadata": {
    "id": "pmkBFh4tqnCQ"
   },
   "outputs": [],
   "source": [
    "# here you merge them into one big dataframe\n",
    "months = [df_july, df_august, df_september]\n",
    "df_months = pd.concat(months)"
   ]
  },
  {
   "cell_type": "code",
   "execution_count": null,
   "metadata": {
    "id": "rXwV3KZFqnCR"
   },
   "outputs": [],
   "source": [
    "# save the big dataframe again\n",
    "df_months.to_csv('../data/july_to_september.csv.zip', \n",
    "                 index=False, \n",
    "                 compression=dict(method='zip', archive_name='july_to_september.csv'))"
   ]
  },
  {
   "cell_type": "code",
   "execution_count": null,
   "metadata": {
    "id": "fQIa0u97qnCV"
   },
   "outputs": [],
   "source": [
    "# here we filter out only all rides from utrecht to amsterdam and vise versa\n",
    "df_ut_asd = df_months.loc[((df_months['DepartureStationCode'] == 'UT') & \n",
    "               (df_months['PlannedDestinationStationCode'] == 'ASD')) | \n",
    "              ((df_months['DepartureStationCode'] == 'ASD') & \n",
    "               (df_months['PlannedDestinationStationCode'] == 'UT'))]"
   ]
  },
  {
   "cell_type": "code",
   "execution_count": null,
   "metadata": {
    "id": "i2wgSTEfqnCW"
   },
   "outputs": [],
   "source": [
    "# save the reduced dataframe again\n",
    "df_ut_asd.to_csv('../data/july_to_september_utrecht_amsterdam.csv.zip', \n",
    "                 index=False, \n",
    "                 compression=dict(method='zip', archive_name='july_to_september_utrecht_amsterdam.csv'))"
   ]
  }
 ],
 "metadata": {
  "colab": {
   "collapsed_sections": [],
   "name": "AutoLoadingDataToCSVZip.ipynb",
   "provenance": []
  },
  "kernelspec": {
   "display_name": "Python 3.8.2 64-bit",
   "name": "python382jvsc74a57bd0b484e608f6e9819578ec834ce331f788e59296a3ef9763dbfaaa1081558300ba"
  },
  "language_info": {
   "name": "python",
   "version": ""
  }
 },
 "nbformat": 4,
 "nbformat_minor": 1
}