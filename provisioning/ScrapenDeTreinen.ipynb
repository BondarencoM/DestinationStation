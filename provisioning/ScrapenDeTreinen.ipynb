{
 "cells": [
  {
   "cell_type": "code",
   "execution_count": 148,
   "metadata": {},
   "outputs": [],
   "source": [
    "from bs4 import BeautifulSoup\r\n",
    "import pandas as pd\r\n",
    "import lxml\r\n"
   ]
  },
  {
   "cell_type": "code",
   "execution_count": 149,
   "metadata": {},
   "outputs": [],
   "source": [
    "ids = pd.read_csv('../assets/data/2019-UT-ASD-Full/2019-07-01--2019-12-31-identifiers.csv')"
   ]
  },
  {
   "cell_type": "code",
   "execution_count": 199,
   "metadata": {},
   "outputs": [
    {
     "name": "stdout",
     "output_type": "stream",
     "text": [
      "(48587, 4)\n"
     ]
    },
    {
     "data": {
      "text/html": "<div>\n<style scoped>\n    .dataframe tbody tr th:only-of-type {\n        vertical-align: middle;\n    }\n\n    .dataframe tbody tr th {\n        vertical-align: top;\n    }\n\n    .dataframe thead th {\n        text-align: right;\n    }\n</style>\n<table border=\"1\" class=\"dataframe\">\n  <thead>\n    <tr style=\"text-align: right;\">\n      <th></th>\n      <th>Date</th>\n      <th>RideId</th>\n      <th>TrainId</th>\n      <th>RideInstance</th>\n    </tr>\n  </thead>\n  <tbody>\n    <tr>\n      <th>0</th>\n      <td>2019-06-30</td>\n      <td>7393</td>\n      <td>7393</td>\n      <td>2019-06-30#7393</td>\n    </tr>\n    <tr>\n      <th>1</th>\n      <td>2019-06-30</td>\n      <td>2981</td>\n      <td>2981</td>\n      <td>2019-06-30#2981</td>\n    </tr>\n    <tr>\n      <th>2</th>\n      <td>2019-06-30</td>\n      <td>2985</td>\n      <td>2985</td>\n      <td>2019-06-30#2985</td>\n    </tr>\n  </tbody>\n</table>\n</div>",
      "text/plain": "         Date  RideId  TrainId     RideInstance\n0  2019-06-30    7393     7393  2019-06-30#7393\n1  2019-06-30    2981     2981  2019-06-30#2981\n2  2019-06-30    2985     2985  2019-06-30#2985"
     },
     "execution_count": 199,
     "metadata": {},
     "output_type": "execute_result"
    }
   ],
   "source": [
    "ids.drop_duplicates(inplace=True)\r\n",
    "ids['RideInstance'] = ids.Date + '#' + ids.RideId.astype(str)\r\n",
    "print(ids.shape)\r\n",
    "ids.head(3)"
   ]
  },
  {
   "cell_type": "code",
   "execution_count": 151,
   "metadata": {},
   "outputs": [],
   "source": [
    "def safetext(tag):\r\n",
    "    return tag.text.strip() if tag is not None else None\r\n",
    "\r\n",
    "def safefindtext(tag):\r\n",
    "    return tag.find(text=True).strip() if tag is not None else None\r\n",
    "    \r\n",
    "def get_platform(ride):\r\n",
    "    try:\r\n",
    "        columns = ride.find_all('div', recursive=False)\r\n",
    "        return safetext(columns[3])\r\n",
    "    except IndexError:\r\n",
    "        return None\r\n",
    "\r\n",
    "def get_materials(ride):\r\n",
    "    return ';'.join([material.get('title') for material in ride.select('div.material-parts .material-part')])\r\n",
    "\r\n"
   ]
  },
  {
   "cell_type": "code",
   "execution_count": 198,
   "metadata": {},
   "outputs": [
    {
     "name": "stdout",
     "output_type": "stream",
     "text": [
      "(998, 16)\n"
     ]
    },
    {
     "data": {
      "text/html": "<div>\n<style scoped>\n    .dataframe tbody tr th:only-of-type {\n        vertical-align: middle;\n    }\n\n    .dataframe tbody tr th {\n        vertical-align: top;\n    }\n\n    .dataframe thead th {\n        text-align: right;\n    }\n</style>\n<table border=\"1\" class=\"dataframe\">\n  <thead>\n    <tr style=\"text-align: right;\">\n      <th></th>\n      <th>Date</th>\n      <th>RideId</th>\n      <th>TrainId</th>\n      <th>DepartureStation</th>\n      <th>DepartureTime</th>\n      <th>DepartureDelay</th>\n      <th>DestinationStation</th>\n      <th>ArrivalTime</th>\n      <th>ArrivalDelay</th>\n      <th>DeparturePlatform</th>\n      <th>ArrivalPlatform</th>\n      <th>DepartureMaterials</th>\n      <th>ArrivalMaterials</th>\n      <th>InbetweenStations</th>\n      <th>FaultMessages</th>\n      <th>RideInstance</th>\n    </tr>\n  </thead>\n  <tbody>\n    <tr>\n      <th>73</th>\n      <td>2019-07-01</td>\n      <td>222</td>\n      <td>222</td>\n      <td>Utrecht Centraal</td>\n      <td>09:03</td>\n      <td>+2½</td>\n      <td>Amsterdam Centraal</td>\n      <td>09:28</td>\n      <td>NaN</td>\n      <td>5</td>\n      <td>7b</td>\n      <td>ICE-3M 4651</td>\n      <td>NaN</td>\n      <td>NaN</td>\n      <td>NaN</td>\n      <td>2019-07-01#222</td>\n    </tr>\n    <tr>\n      <th>41</th>\n      <td>2019-07-01</td>\n      <td>3016</td>\n      <td>3016</td>\n      <td>Utrecht Centraal</td>\n      <td>07:08</td>\n      <td>NaN</td>\n      <td>Amsterdam Centraal</td>\n      <td>07:35</td>\n      <td>NaN</td>\n      <td>5</td>\n      <td>8</td>\n      <td>VIRM-6 8633;VIRM-4 9512</td>\n      <td>VIRM-6 8633;VIRM-4 9512</td>\n      <td>Amsterdam Amstel</td>\n      <td>NaN</td>\n      <td>2019-07-01#3016</td>\n    </tr>\n    <tr>\n      <th>617</th>\n      <td>2019-07-03</td>\n      <td>3018</td>\n      <td>3018</td>\n      <td>Utrecht Centraal</td>\n      <td>07:38</td>\n      <td>NaN</td>\n      <td>Amsterdam Centraal</td>\n      <td>08:05</td>\n      <td>NaN</td>\n      <td>5</td>\n      <td>8</td>\n      <td>VIRM-4 9592;VIRM-6 8648</td>\n      <td>VIRM-4 9592;VIRM-6 8648</td>\n      <td>Amsterdam Amstel</td>\n      <td>NaN</td>\n      <td>2019-07-03#3018</td>\n    </tr>\n  </tbody>\n</table>\n</div>",
      "text/plain": "           Date  RideId  TrainId  DepartureStation DepartureTime  \\\n73   2019-07-01     222      222  Utrecht Centraal         09:03   \n41   2019-07-01    3016     3016  Utrecht Centraal         07:08   \n617  2019-07-03    3018     3018  Utrecht Centraal         07:38   \n\n    DepartureDelay  DestinationStation ArrivalTime ArrivalDelay  \\\n73             +2½  Amsterdam Centraal       09:28          NaN   \n41             NaN  Amsterdam Centraal       07:35          NaN   \n617            NaN  Amsterdam Centraal       08:05          NaN   \n\n    DeparturePlatform ArrivalPlatform       DepartureMaterials  \\\n73                  5              7b              ICE-3M 4651   \n41                  5               8  VIRM-6 8633;VIRM-4 9512   \n617                 5               8  VIRM-4 9592;VIRM-6 8648   \n\n            ArrivalMaterials InbetweenStations FaultMessages     RideInstance  \n73                       NaN               NaN           NaN   2019-07-01#222  \n41   VIRM-6 8633;VIRM-4 9512  Amsterdam Amstel           NaN  2019-07-01#3016  \n617  VIRM-4 9592;VIRM-6 8648  Amsterdam Amstel           NaN  2019-07-03#3018  "
     },
     "execution_count": 198,
     "metadata": {},
     "output_type": "execute_result"
    }
   ],
   "source": [
    "dfresults = pd.read_csv('../assets/data/2019-UT-ASD-Full/2019-07-01--2019-12-31_scrapped.csv')\r\n",
    "dfresults['RideInstance'] = dfresults.Date + '#' + dfresults.RideId.astype(str)\r\n",
    "print(dfresults.shape)\r\n",
    "dfresults.sample(3)\r\n"
   ]
  },
  {
   "cell_type": "code",
   "execution_count": 200,
   "metadata": {},
   "outputs": [
    {
     "name": "stdout",
     "output_type": "stream",
     "text": [
      "Could not find Amsterdam or Utrecht stations https://www.rijdendetreinen.nl/en/train-archive/2019-07-05/11409\n",
      "Could not find Amsterdam or Utrecht stations https://www.rijdendetreinen.nl/en/train-archive/2019-07-05/11413\n",
      "Could not find Amsterdam or Utrecht stations https://www.rijdendetreinen.nl/en/train-archive/2019-07-11/11409\n",
      "Could not find Amsterdam or Utrecht stations https://www.rijdendetreinen.nl/en/train-archive/2019-07-11/11413\n",
      "Could not find Amsterdam or Utrecht stations https://www.rijdendetreinen.nl/en/train-archive/2019-07-12/11409\n",
      "Could not find Amsterdam or Utrecht stations https://www.rijdendetreinen.nl/en/train-archive/2019-07-12/11413\n",
      "Could not find Amsterdam or Utrecht stations https://www.rijdendetreinen.nl/en/train-archive/2019-07-12/300844\n",
      "Could not find Amsterdam or Utrecht stations https://www.rijdendetreinen.nl/en/train-archive/2019-07-18/11409\n",
      "Could not find Amsterdam or Utrecht stations https://www.rijdendetreinen.nl/en/train-archive/2019-07-18/11413\n",
      "Could not find Amsterdam or Utrecht stations https://www.rijdendetreinen.nl/en/train-archive/2019-07-19/11409\n",
      "Could not find Amsterdam or Utrecht stations https://www.rijdendetreinen.nl/en/train-archive/2019-07-19/11413\n"
     ]
    }
   ],
   "source": [
    "from requests import get\r\n",
    "data = {}\r\n",
    "scrapecols = ['DepartureStation', 'DepartureTime', 'DepartureDelay', 'DestinationStation','ArrivalTime',  'ArrivalDelay', \r\n",
    "               'DeparturePlatform', 'ArrivalPlatform', 'DepartureMaterials', 'ArrivalMaterials', 'InbetweenStations', 'FaultMessages']\r\n",
    "colnames = ['Date', 'RideId', 'TrainId', *scrapecols]\r\n",
    "\r\n",
    "for column in colnames:\r\n",
    "    data[column] = []\r\n",
    "\r\n",
    "\r\n",
    "for day, rid, tid, instance in ids[['Date', 'RideId', 'TrainId', 'RideInstance']].loc[1000:5000].values:\r\n",
    "\r\n",
    "    if instance in dfresults.RideInstance.values:\r\n",
    "        continue\r\n",
    "\r\n",
    "    search_url = f'https://www.rijdendetreinen.nl/en/train-archive/{day}/{rid}'\r\n",
    "    result = get(search_url) \r\n",
    "\r\n",
    "    search_soup = BeautifulSoup(result.text, features='lxml')\r\n",
    "\r\n",
    "    data['Date'].append(day)\r\n",
    "    data['RideId'].append(rid)\r\n",
    "    data['TrainId'].append(tid)\r\n",
    "\r\n",
    "    if result.status_code == 404:\r\n",
    "        for column in scrapecols:\r\n",
    "            data[column].append(None)\r\n",
    "        print('404 cannot find ride', search_url)\r\n",
    "        continue\r\n",
    "\r\n",
    "    origin = None\r\n",
    "    destination = None\r\n",
    "    inbetween = []\r\n",
    "    rides = search_soup.find('div', { 'class': 'train-archive'}).select('div.row.service')\r\n",
    "\r\n",
    "    if len(rides) == 0:\r\n",
    "        for column in scrapecols:\r\n",
    "            data[column].append(None)\r\n",
    "        print('no entries found for ride', search_url)\r\n",
    "        continue\r\n",
    "\r\n",
    "    for ride in rides:\r\n",
    "\r\n",
    "        station = safetext(ride.find('a'))\r\n",
    "        if station not in ['Amsterdam Centraal', 'Utrecht Centraal']:\r\n",
    "            if origin and not destination:\r\n",
    "                inbetween.append(station)\r\n",
    "            continue\r\n",
    "\r\n",
    "        if origin is None:\r\n",
    "            origin = station\r\n",
    "            data['DepartureStation'].append(origin)\r\n",
    "\r\n",
    "            data['DepartureTime'].append(safefindtext(ride.select_one('div.departure-time')))\r\n",
    "            data['DepartureDelay'].append(safefindtext(ride.select_one('div.departure-time .label')))\r\n",
    "            \r\n",
    "            data['DeparturePlatform'].append(get_platform(ride))\r\n",
    "            data['DepartureMaterials'].append(get_materials(ride))\r\n",
    "\r\n",
    "            data['FaultMessages'].append(';'.join([message.text.strip() for message in ride.select('.text-danger')]))             \r\n",
    "        else:\r\n",
    "            destination = station\r\n",
    "            data['DestinationStation'].append(destination)\r\n",
    "            data['ArrivalTime'].append(safefindtext(ride.select_one('div.arrival-time')) )\r\n",
    "            data['ArrivalDelay'].append(safefindtext(ride.select_one('div.arrival-time .label')))\r\n",
    "\r\n",
    "            data['ArrivalPlatform'].append(get_platform(ride))\r\n",
    "            data['ArrivalMaterials'].append(get_materials(ride))\r\n",
    "\r\n",
    "            data['InbetweenStations'].append(';'.join(inbetween))\r\n",
    "    if origin is None:\r\n",
    "        for column in scrapecols:\r\n",
    "            data[column].append(None)\r\n",
    "        print('Could not find Amsterdam or Utrecht stations', search_url)\r\n",
    "        continue\r\n"
   ]
  },
  {
   "cell_type": "code",
   "execution_count": 201,
   "metadata": {},
   "outputs": [
    {
     "name": "stdout",
     "output_type": "stream",
     "text": [
      "Date 4000\n",
      "RideId 4000\n",
      "TrainId 4000\n",
      "DepartureStation 4000\n",
      "DepartureTime 4000\n",
      "DepartureDelay 4000\n",
      "DestinationStation 3993\n",
      "ArrivalTime 3993\n",
      "ArrivalDelay 3993\n",
      "DeparturePlatform 4000\n",
      "ArrivalPlatform 3993\n",
      "DepartureMaterials 4000\n",
      "ArrivalMaterials 3993\n",
      "InbetweenStations 3993\n",
      "FaultMessages 4000\n"
     ]
    }
   ],
   "source": [
    "for key in data:\r\n",
    "    print(key, len(data[key]))"
   ]
  },
  {
   "cell_type": "code",
   "execution_count": 202,
   "metadata": {},
   "outputs": [
    {
     "ename": "ValueError",
     "evalue": "arrays must all be same length",
     "output_type": "error",
     "traceback": [
      "\u001b[1;31m---------------------------------------------------------------------------\u001b[0m",
      "\u001b[1;31mValueError\u001b[0m                                Traceback (most recent call last)",
      "\u001b[1;32m<ipython-input-202-9bc5ca00a0c0>\u001b[0m in \u001b[0;36m<module>\u001b[1;34m\u001b[0m\n\u001b[1;32m----> 1\u001b[1;33m \u001b[0mdf\u001b[0m \u001b[1;33m=\u001b[0m \u001b[0mpd\u001b[0m\u001b[1;33m.\u001b[0m\u001b[0mconcat\u001b[0m\u001b[1;33m(\u001b[0m\u001b[1;33m[\u001b[0m \u001b[0mdfresults\u001b[0m\u001b[1;33m,\u001b[0m \u001b[0mpd\u001b[0m\u001b[1;33m.\u001b[0m\u001b[0mDataFrame\u001b[0m\u001b[1;33m(\u001b[0m\u001b[0mdata\u001b[0m\u001b[1;33m)\u001b[0m\u001b[1;33m]\u001b[0m\u001b[1;33m)\u001b[0m\u001b[1;33m\u001b[0m\u001b[1;33m\u001b[0m\u001b[0m\n\u001b[0m\u001b[0;32m      2\u001b[0m \u001b[0mdf\u001b[0m\u001b[1;33m[\u001b[0m\u001b[1;34m'RideInstance'\u001b[0m\u001b[1;33m]\u001b[0m \u001b[1;33m=\u001b[0m \u001b[0mdf\u001b[0m\u001b[1;33m.\u001b[0m\u001b[0mDate\u001b[0m \u001b[1;33m+\u001b[0m \u001b[1;34m'#'\u001b[0m \u001b[1;33m+\u001b[0m \u001b[0mdf\u001b[0m\u001b[1;33m.\u001b[0m\u001b[0mRideId\u001b[0m\u001b[1;33m.\u001b[0m\u001b[0mastype\u001b[0m\u001b[1;33m(\u001b[0m\u001b[0mstr\u001b[0m\u001b[1;33m)\u001b[0m\u001b[1;33m\u001b[0m\u001b[1;33m\u001b[0m\u001b[0m\n\u001b[0;32m      3\u001b[0m \u001b[0mdf\u001b[0m\u001b[1;33m\u001b[0m\u001b[1;33m\u001b[0m\u001b[0m\n",
      "\u001b[1;32m~\\AppData\\Roaming\\Python\\Python38\\site-packages\\pandas\\core\\frame.py\u001b[0m in \u001b[0;36m__init__\u001b[1;34m(self, data, index, columns, dtype, copy)\u001b[0m\n\u001b[0;32m    527\u001b[0m \u001b[1;33m\u001b[0m\u001b[0m\n\u001b[0;32m    528\u001b[0m         \u001b[1;32melif\u001b[0m \u001b[0misinstance\u001b[0m\u001b[1;33m(\u001b[0m\u001b[0mdata\u001b[0m\u001b[1;33m,\u001b[0m \u001b[0mdict\u001b[0m\u001b[1;33m)\u001b[0m\u001b[1;33m:\u001b[0m\u001b[1;33m\u001b[0m\u001b[1;33m\u001b[0m\u001b[0m\n\u001b[1;32m--> 529\u001b[1;33m             \u001b[0mmgr\u001b[0m \u001b[1;33m=\u001b[0m \u001b[0minit_dict\u001b[0m\u001b[1;33m(\u001b[0m\u001b[0mdata\u001b[0m\u001b[1;33m,\u001b[0m \u001b[0mindex\u001b[0m\u001b[1;33m,\u001b[0m \u001b[0mcolumns\u001b[0m\u001b[1;33m,\u001b[0m \u001b[0mdtype\u001b[0m\u001b[1;33m=\u001b[0m\u001b[0mdtype\u001b[0m\u001b[1;33m)\u001b[0m\u001b[1;33m\u001b[0m\u001b[1;33m\u001b[0m\u001b[0m\n\u001b[0m\u001b[0;32m    530\u001b[0m         \u001b[1;32melif\u001b[0m \u001b[0misinstance\u001b[0m\u001b[1;33m(\u001b[0m\u001b[0mdata\u001b[0m\u001b[1;33m,\u001b[0m \u001b[0mma\u001b[0m\u001b[1;33m.\u001b[0m\u001b[0mMaskedArray\u001b[0m\u001b[1;33m)\u001b[0m\u001b[1;33m:\u001b[0m\u001b[1;33m\u001b[0m\u001b[1;33m\u001b[0m\u001b[0m\n\u001b[0;32m    531\u001b[0m             \u001b[1;32mimport\u001b[0m \u001b[0mnumpy\u001b[0m\u001b[1;33m.\u001b[0m\u001b[0mma\u001b[0m\u001b[1;33m.\u001b[0m\u001b[0mmrecords\u001b[0m \u001b[1;32mas\u001b[0m \u001b[0mmrecords\u001b[0m\u001b[1;33m\u001b[0m\u001b[1;33m\u001b[0m\u001b[0m\n",
      "\u001b[1;32m~\\AppData\\Roaming\\Python\\Python38\\site-packages\\pandas\\core\\internals\\construction.py\u001b[0m in \u001b[0;36minit_dict\u001b[1;34m(data, index, columns, dtype)\u001b[0m\n\u001b[0;32m    285\u001b[0m             \u001b[0marr\u001b[0m \u001b[1;32mif\u001b[0m \u001b[1;32mnot\u001b[0m \u001b[0mis_datetime64tz_dtype\u001b[0m\u001b[1;33m(\u001b[0m\u001b[0marr\u001b[0m\u001b[1;33m)\u001b[0m \u001b[1;32melse\u001b[0m \u001b[0marr\u001b[0m\u001b[1;33m.\u001b[0m\u001b[0mcopy\u001b[0m\u001b[1;33m(\u001b[0m\u001b[1;33m)\u001b[0m \u001b[1;32mfor\u001b[0m \u001b[0marr\u001b[0m \u001b[1;32min\u001b[0m \u001b[0marrays\u001b[0m\u001b[1;33m\u001b[0m\u001b[1;33m\u001b[0m\u001b[0m\n\u001b[0;32m    286\u001b[0m         ]\n\u001b[1;32m--> 287\u001b[1;33m     \u001b[1;32mreturn\u001b[0m \u001b[0marrays_to_mgr\u001b[0m\u001b[1;33m(\u001b[0m\u001b[0marrays\u001b[0m\u001b[1;33m,\u001b[0m \u001b[0mdata_names\u001b[0m\u001b[1;33m,\u001b[0m \u001b[0mindex\u001b[0m\u001b[1;33m,\u001b[0m \u001b[0mcolumns\u001b[0m\u001b[1;33m,\u001b[0m \u001b[0mdtype\u001b[0m\u001b[1;33m=\u001b[0m\u001b[0mdtype\u001b[0m\u001b[1;33m)\u001b[0m\u001b[1;33m\u001b[0m\u001b[1;33m\u001b[0m\u001b[0m\n\u001b[0m\u001b[0;32m    288\u001b[0m \u001b[1;33m\u001b[0m\u001b[0m\n\u001b[0;32m    289\u001b[0m \u001b[1;33m\u001b[0m\u001b[0m\n",
      "\u001b[1;32m~\\AppData\\Roaming\\Python\\Python38\\site-packages\\pandas\\core\\internals\\construction.py\u001b[0m in \u001b[0;36marrays_to_mgr\u001b[1;34m(arrays, arr_names, index, columns, dtype, verify_integrity)\u001b[0m\n\u001b[0;32m     78\u001b[0m         \u001b[1;31m# figure out the index, if necessary\u001b[0m\u001b[1;33m\u001b[0m\u001b[1;33m\u001b[0m\u001b[1;33m\u001b[0m\u001b[0m\n\u001b[0;32m     79\u001b[0m         \u001b[1;32mif\u001b[0m \u001b[0mindex\u001b[0m \u001b[1;32mis\u001b[0m \u001b[1;32mNone\u001b[0m\u001b[1;33m:\u001b[0m\u001b[1;33m\u001b[0m\u001b[1;33m\u001b[0m\u001b[0m\n\u001b[1;32m---> 80\u001b[1;33m             \u001b[0mindex\u001b[0m \u001b[1;33m=\u001b[0m \u001b[0mextract_index\u001b[0m\u001b[1;33m(\u001b[0m\u001b[0marrays\u001b[0m\u001b[1;33m)\u001b[0m\u001b[1;33m\u001b[0m\u001b[1;33m\u001b[0m\u001b[0m\n\u001b[0m\u001b[0;32m     81\u001b[0m         \u001b[1;32melse\u001b[0m\u001b[1;33m:\u001b[0m\u001b[1;33m\u001b[0m\u001b[1;33m\u001b[0m\u001b[0m\n\u001b[0;32m     82\u001b[0m             \u001b[0mindex\u001b[0m \u001b[1;33m=\u001b[0m \u001b[0mensure_index\u001b[0m\u001b[1;33m(\u001b[0m\u001b[0mindex\u001b[0m\u001b[1;33m)\u001b[0m\u001b[1;33m\u001b[0m\u001b[1;33m\u001b[0m\u001b[0m\n",
      "\u001b[1;32m~\\AppData\\Roaming\\Python\\Python38\\site-packages\\pandas\\core\\internals\\construction.py\u001b[0m in \u001b[0;36mextract_index\u001b[1;34m(data)\u001b[0m\n\u001b[0;32m    399\u001b[0m             \u001b[0mlengths\u001b[0m \u001b[1;33m=\u001b[0m \u001b[0mlist\u001b[0m\u001b[1;33m(\u001b[0m\u001b[0mset\u001b[0m\u001b[1;33m(\u001b[0m\u001b[0mraw_lengths\u001b[0m\u001b[1;33m)\u001b[0m\u001b[1;33m)\u001b[0m\u001b[1;33m\u001b[0m\u001b[1;33m\u001b[0m\u001b[0m\n\u001b[0;32m    400\u001b[0m             \u001b[1;32mif\u001b[0m \u001b[0mlen\u001b[0m\u001b[1;33m(\u001b[0m\u001b[0mlengths\u001b[0m\u001b[1;33m)\u001b[0m \u001b[1;33m>\u001b[0m \u001b[1;36m1\u001b[0m\u001b[1;33m:\u001b[0m\u001b[1;33m\u001b[0m\u001b[1;33m\u001b[0m\u001b[0m\n\u001b[1;32m--> 401\u001b[1;33m                 \u001b[1;32mraise\u001b[0m \u001b[0mValueError\u001b[0m\u001b[1;33m(\u001b[0m\u001b[1;34m\"arrays must all be same length\"\u001b[0m\u001b[1;33m)\u001b[0m\u001b[1;33m\u001b[0m\u001b[1;33m\u001b[0m\u001b[0m\n\u001b[0m\u001b[0;32m    402\u001b[0m \u001b[1;33m\u001b[0m\u001b[0m\n\u001b[0;32m    403\u001b[0m             \u001b[1;32mif\u001b[0m \u001b[0mhave_dicts\u001b[0m\u001b[1;33m:\u001b[0m\u001b[1;33m\u001b[0m\u001b[1;33m\u001b[0m\u001b[0m\n",
      "\u001b[1;31mValueError\u001b[0m: arrays must all be same length"
     ]
    }
   ],
   "source": [
    "df = pd.concat([ dfresults, pd.DataFrame(data)])\r\n",
    "df['RideInstance'] = df.Date + '#' + df.RideId.astype(str)\r\n",
    "df"
   ]
  },
  {
   "cell_type": "code",
   "execution_count": null,
   "metadata": {},
   "outputs": [],
   "source": [
    "df.to_csv('gg.csv',index=None)\r\n",
    "df.to_csv('../assets/data/2019-UT-ASD-Full/2019-07-01--2019-12-31_scrapped.csv',index=None)"
   ]
  }
 ],
 "metadata": {
  "kernelspec": {
   "display_name": "Python 3.8.2 64-bit",
   "name": "python382jvsc74a57bd0b484e608f6e9819578ec834ce331f788e59296a3ef9763dbfaaa1081558300ba"
  },
  "language_info": {
   "codemirror_mode": {
    "name": "ipython",
    "version": 3
   },
   "file_extension": ".py",
   "mimetype": "text/x-python",
   "name": "python",
   "nbconvert_exporter": "python",
   "pygments_lexer": "ipython3",
   "version": "3.8.2"
  },
  "orig_nbformat": 2
 },
 "nbformat": 4,
 "nbformat_minor": 2
}