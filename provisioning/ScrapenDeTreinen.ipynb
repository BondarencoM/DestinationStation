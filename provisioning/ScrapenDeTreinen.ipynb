{
 "cells": [
  {
   "cell_type": "code",
   "execution_count": 1,
   "metadata": {},
   "outputs": [],
   "source": [
    "from bs4 import BeautifulSoup\r\n",
    "import pandas as pd\r\n",
    "import lxml\r\n"
   ]
  },
  {
   "cell_type": "code",
   "execution_count": 2,
   "metadata": {},
   "outputs": [],
   "source": [
    "ids = pd.read_csv('../assets/data/2019-UT-ASD-Full/2019-07-01--2019-12-31-identifiers.csv')"
   ]
  },
  {
   "cell_type": "code",
   "execution_count": 3,
   "metadata": {},
   "outputs": [
    {
     "name": "stdout",
     "output_type": "stream",
     "text": [
      "(48587, 4)\n"
     ]
    },
    {
     "data": {
      "text/html": "<div>\n<style scoped>\n    .dataframe tbody tr th:only-of-type {\n        vertical-align: middle;\n    }\n\n    .dataframe tbody tr th {\n        vertical-align: top;\n    }\n\n    .dataframe thead th {\n        text-align: right;\n    }\n</style>\n<table border=\"1\" class=\"dataframe\">\n  <thead>\n    <tr style=\"text-align: right;\">\n      <th></th>\n      <th>Date</th>\n      <th>RideId</th>\n      <th>TrainId</th>\n      <th>RideInstance</th>\n    </tr>\n  </thead>\n  <tbody>\n    <tr>\n      <th>0</th>\n      <td>2019-06-30</td>\n      <td>7393</td>\n      <td>7393</td>\n      <td>2019-06-30#7393</td>\n    </tr>\n    <tr>\n      <th>1</th>\n      <td>2019-06-30</td>\n      <td>2981</td>\n      <td>2981</td>\n      <td>2019-06-30#2981</td>\n    </tr>\n    <tr>\n      <th>2</th>\n      <td>2019-06-30</td>\n      <td>2985</td>\n      <td>2985</td>\n      <td>2019-06-30#2985</td>\n    </tr>\n  </tbody>\n</table>\n</div>",
      "text/plain": "         Date  RideId  TrainId     RideInstance\n0  2019-06-30    7393     7393  2019-06-30#7393\n1  2019-06-30    2981     2981  2019-06-30#2981\n2  2019-06-30    2985     2985  2019-06-30#2985"
     },
     "execution_count": 3,
     "metadata": {},
     "output_type": "execute_result"
    }
   ],
   "source": [
    "ids.drop_duplicates(inplace=True)\r\n",
    "ids['RideInstance'] = ids.Date + '#' + ids.RideId.astype(str)\r\n",
    "print(ids.shape)\r\n",
    "ids.head(3)"
   ]
  },
  {
   "cell_type": "code",
   "execution_count": 6,
   "metadata": {},
   "outputs": [],
   "source": [
    "def safetext(tag):\r\n",
    "    return tag.text.strip() if tag is not None else None\r\n",
    "\r\n",
    "def safefindtext(tag):\r\n",
    "    return tag.find(text=True).strip() if tag is not None else None\r\n",
    "    \r\n",
    "def get_platform(ride):\r\n",
    "    try:\r\n",
    "        columns = ride.find_all('div', recursive=False)\r\n",
    "        return safetext(columns[3])\r\n",
    "    except IndexError:\r\n",
    "        return None\r\n",
    "\r\n",
    "def get_materials(ride):\r\n",
    "    return ';'.join([material.get('title') for material in ride.select('div.material-parts .material-part')])\r\n",
    "\r\n",
    "def blank_scrape(data):\r\n",
    "    for column in scrapecols:\r\n",
    "        data[column].append(None)\r\n"
   ]
  },
  {
   "cell_type": "code",
   "execution_count": 18,
   "metadata": {},
   "outputs": [
    {
     "name": "stdout",
     "output_type": "stream",
     "text": [
      "(1498, 16)\n"
     ]
    }
   ],
   "source": [
    "dfresults = pd.read_csv('../assets/data/2019-UT-ASD-Full/2019-07-01--2019-12-31_scrapped.csv')\r\n",
    "dfresults['RideInstance'] = dfresults.Date + '#' + dfresults.RideId.astype(str)\r\n",
    "print(dfresults.shape)\r\n"
   ]
  },
  {
   "cell_type": "code",
   "execution_count": 13,
   "metadata": {},
   "outputs": [
    {
     "name": "stdout",
     "output_type": "stream",
     "text": [
      "(1498, 16)\n",
      "Found Utrecht Centraal but could not find the destination in https://www.rijdendetreinen.nl/en/train-archive/2019-07-09/300839\n",
      "Could not find Amsterdam or Utrecht stations https://www.rijdendetreinen.nl/en/train-archive/2019-07-11/11409\n",
      "Could not find Amsterdam or Utrecht stations https://www.rijdendetreinen.nl/en/train-archive/2019-07-11/11413\n"
     ]
    }
   ],
   "source": [
    "# Get all the rides we have scrapped to make sure we don't scrape them again\r\n",
    "\r\n",
    "dfresults = pd.read_csv('../assets/data/2019-UT-ASD-Full/2019-07-01--2019-12-31_scrapped.csv')\r\n",
    "dfresults['RideInstance'] = dfresults.Date + '#' + dfresults.RideId.astype(str)\r\n",
    "print(dfresults.shape)\r\n",
    "\r\n",
    "\r\n",
    "from requests import get\r\n",
    "data = {}\r\n",
    "scrapecols = ['DepartureStation', 'DepartureTime', 'DepartureDelay', 'DestinationStation','ArrivalTime',  'ArrivalDelay', \r\n",
    "               'DeparturePlatform', 'ArrivalPlatform', 'DepartureMaterials', 'ArrivalMaterials', 'InbetweenStations', 'FaultMessages']\r\n",
    "colnames = ['Date', 'RideId', 'TrainId', *scrapecols]\r\n",
    "\r\n",
    "for column in colnames:\r\n",
    "    data[column] = []\r\n",
    "\r\n",
    "#Change this .loc slice to scrape a different interval, but make sure you write the previous interval to a file\r\n",
    "for day, rid, tid, instance in ids[['Date', 'RideId', 'TrainId', 'RideInstance']].loc[1500:2500].values:\r\n",
    "\r\n",
    "    # Skip if we already scrapped this\r\n",
    "    if instance in dfresults.RideInstance.values:\r\n",
    "        continue\r\n",
    "\r\n",
    "    search_url = f'https://www.rijdendetreinen.nl/en/train-archive/{day}/{rid}'\r\n",
    "    result = get(search_url) \r\n",
    "\r\n",
    "    search_soup = BeautifulSoup(result.text, features='lxml')\r\n",
    "\r\n",
    "    data['Date'].append(day)\r\n",
    "    data['RideId'].append(rid)\r\n",
    "    data['TrainId'].append(tid)\r\n",
    "\r\n",
    "    # If the site returns 404 make everything blank\r\n",
    "    if result.status_code == 404:\r\n",
    "        blank_scrape(data)\r\n",
    "        print('404 cannot find ride', search_url)\r\n",
    "        continue\r\n",
    "\r\n",
    "    origin = None\r\n",
    "    destination = None\r\n",
    "    inbetween = []\r\n",
    "\r\n",
    "    # find every single stop of that specific tide\r\n",
    "    stops = search_soup.find('div', { 'class': 'train-archive'}).select('div.row.service')\r\n",
    "\r\n",
    "    if len(stops) == 0:\r\n",
    "        blank_scrape(data)\r\n",
    "        print('no entries found for ride', search_url)\r\n",
    "        continue\r\n",
    "\r\n",
    "    for ride in stops:\r\n",
    "\r\n",
    "        station = safetext(ride.find('a'))\r\n",
    "\r\n",
    "        # ignore everything before the first station that interests us and after the last\r\n",
    "        if station not in ['Amsterdam Centraal', 'Utrecht Centraal']:\r\n",
    "            if origin and not destination:\r\n",
    "                inbetween.append(station)\r\n",
    "            continue\r\n",
    "\r\n",
    "        \r\n",
    "        if origin is None:\r\n",
    "            origin = station\r\n",
    "            data['DepartureStation'].append(origin)\r\n",
    "\r\n",
    "            data['DepartureTime'].append(safefindtext(ride.select_one('div.departure-time')))\r\n",
    "            data['DepartureDelay'].append(safefindtext(ride.select_one('div.departure-time .label')))\r\n",
    "            \r\n",
    "            data['DeparturePlatform'].append(get_platform(ride))\r\n",
    "            data['DepartureMaterials'].append(get_materials(ride))\r\n",
    "\r\n",
    "            data['FaultMessages'].append(';'.join([message.text.strip() for message in ride.select('.text-danger')]))             \r\n",
    "        else:\r\n",
    "            destination = station\r\n",
    "            data['DestinationStation'].append(destination)\r\n",
    "            data['ArrivalTime'].append(safefindtext(ride.select_one('div.arrival-time')) )\r\n",
    "            data['ArrivalDelay'].append(safefindtext(ride.select_one('div.arrival-time .label')))\r\n",
    "\r\n",
    "            data['ArrivalPlatform'].append(get_platform(ride))\r\n",
    "            data['ArrivalMaterials'].append(get_materials(ride))\r\n",
    "\r\n",
    "            data['InbetweenStations'].append(';'.join(inbetween))\r\n",
    "    \r\n",
    "    # We couldn't find Amsterdam or Utrech in the list\r\n",
    "    if origin is None:\r\n",
    "        blank_scrape(data)\r\n",
    "        print('Could not find Amsterdam or Utrecht stations', search_url)\r\n",
    "\r\n",
    "    # We found Amsterdam or Utrech but did not find the other one, the destination is None\r\n",
    "    elif destination is None:\r\n",
    "        data['DestinationStation'].append(None)\r\n",
    "        data['ArrivalTime'].append(None)\r\n",
    "        data['ArrivalDelay'].append(None)\r\n",
    "\r\n",
    "        data['ArrivalPlatform'].append(None)\r\n",
    "        data['ArrivalMaterials'].append(None)\r\n",
    "\r\n",
    "        data['InbetweenStations'].append(';'.join(inbetween))\r\n",
    "        print('Found', origin,'but could not find the destination in', search_url)\r\n"
   ]
  },
  {
   "cell_type": "code",
   "execution_count": 14,
   "metadata": {},
   "outputs": [
    {
     "name": "stdout",
     "output_type": "stream",
     "text": [
      "Date 1000\n",
      "RideId 1000\n",
      "TrainId 1000\n",
      "DepartureStation 1000\n",
      "DepartureTime 1000\n",
      "DepartureDelay 1000\n",
      "DestinationStation 1000\n",
      "ArrivalTime 1000\n",
      "ArrivalDelay 1000\n",
      "DeparturePlatform 1000\n",
      "ArrivalPlatform 1000\n",
      "DepartureMaterials 1000\n",
      "ArrivalMaterials 1000\n",
      "InbetweenStations 1000\n",
      "FaultMessages 1000\n"
     ]
    }
   ],
   "source": [
    "for key in data:\r\n",
    "    print(key, len(data[key]))"
   ]
  },
  {
   "cell_type": "code",
   "execution_count": 20,
   "metadata": {},
   "outputs": [
    {
     "data": {
      "text/html": "<div>\n<style scoped>\n    .dataframe tbody tr th:only-of-type {\n        vertical-align: middle;\n    }\n\n    .dataframe tbody tr th {\n        vertical-align: top;\n    }\n\n    .dataframe thead th {\n        text-align: right;\n    }\n</style>\n<table border=\"1\" class=\"dataframe\">\n  <thead>\n    <tr style=\"text-align: right;\">\n      <th></th>\n      <th>Date</th>\n      <th>RideId</th>\n      <th>TrainId</th>\n      <th>DepartureStation</th>\n      <th>DepartureTime</th>\n      <th>DepartureDelay</th>\n      <th>DestinationStation</th>\n      <th>ArrivalTime</th>\n      <th>ArrivalDelay</th>\n      <th>DeparturePlatform</th>\n      <th>ArrivalPlatform</th>\n      <th>DepartureMaterials</th>\n      <th>ArrivalMaterials</th>\n      <th>InbetweenStations</th>\n      <th>FaultMessages</th>\n      <th>RideInstance</th>\n    </tr>\n  </thead>\n  <tbody>\n    <tr>\n      <th>0</th>\n      <td>2019-06-30</td>\n      <td>7393</td>\n      <td>7393</td>\n      <td>Amsterdam Centraal</td>\n      <td>00:28</td>\n      <td>NaN</td>\n      <td>Utrecht Centraal</td>\n      <td>01:10</td>\n      <td>NaN</td>\n      <td>2b</td>\n      <td>14</td>\n      <td>SLT-4 2435;SLT-6 2648</td>\n      <td>NaN</td>\n      <td>Amsterdam Muiderpoort;Amsterdam Amstel;Duivend...</td>\n      <td>NaN</td>\n      <td>2019-06-30#7393</td>\n    </tr>\n    <tr>\n      <th>1</th>\n      <td>2019-06-30</td>\n      <td>2981</td>\n      <td>2981</td>\n      <td>Amsterdam Centraal</td>\n      <td>21:40</td>\n      <td>NaN</td>\n      <td>Utrecht Centraal</td>\n      <td>22:07</td>\n      <td>NaN</td>\n      <td>4b</td>\n      <td>18</td>\n      <td>VIRM-4 9480</td>\n      <td>VIRM-4 9480</td>\n      <td>Amsterdam Amstel</td>\n      <td>NaN</td>\n      <td>2019-06-30#2981</td>\n    </tr>\n    <tr>\n      <th>2</th>\n      <td>2019-06-30</td>\n      <td>2985</td>\n      <td>2985</td>\n      <td>Amsterdam Centraal</td>\n      <td>22:40</td>\n      <td>NaN</td>\n      <td>Utrecht Centraal</td>\n      <td>23:07</td>\n      <td>NaN</td>\n      <td>4b</td>\n      <td>18</td>\n      <td>VIRM-6 8649</td>\n      <td>VIRM-6 8649</td>\n      <td>Amsterdam Amstel</td>\n      <td>NaN</td>\n      <td>2019-06-30#2985</td>\n    </tr>\n    <tr>\n      <th>3</th>\n      <td>2019-06-30</td>\n      <td>3087</td>\n      <td>3087</td>\n      <td>Amsterdam Centraal</td>\n      <td>23:24</td>\n      <td>NaN</td>\n      <td>Utrecht Centraal</td>\n      <td>23:52</td>\n      <td>NaN</td>\n      <td>4a</td>\n      <td>19</td>\n      <td>VIRM-6 8621</td>\n      <td>VIRM-6 8621</td>\n      <td>Amsterdam Amstel</td>\n      <td>NaN</td>\n      <td>2019-06-30#3087</td>\n    </tr>\n    <tr>\n      <th>4</th>\n      <td>2019-06-30</td>\n      <td>2980</td>\n      <td>2980</td>\n      <td>Utrecht Centraal</td>\n      <td>22:53</td>\n      <td>+1½</td>\n      <td>Amsterdam Centraal</td>\n      <td>23:21</td>\n      <td>NaN</td>\n      <td>7</td>\n      <td>8a</td>\n      <td>VIRM-6 8676</td>\n      <td>VIRM-6 8676</td>\n      <td>Amsterdam Bijlmer ArenA;Amsterdam Amstel</td>\n      <td>NaN</td>\n      <td>2019-06-30#2980</td>\n    </tr>\n    <tr>\n      <th>...</th>\n      <td>...</td>\n      <td>...</td>\n      <td>...</td>\n      <td>...</td>\n      <td>...</td>\n      <td>...</td>\n      <td>...</td>\n      <td>...</td>\n      <td>...</td>\n      <td>...</td>\n      <td>...</td>\n      <td>...</td>\n      <td>...</td>\n      <td>...</td>\n      <td>...</td>\n      <td>...</td>\n    </tr>\n    <tr>\n      <th>995</th>\n      <td>2019-07-11</td>\n      <td>3953</td>\n      <td>3953</td>\n      <td>Amsterdam Centraal</td>\n      <td>14:45</td>\n      <td>None</td>\n      <td>Utrecht Centraal</td>\n      <td>15:12</td>\n      <td>None</td>\n      <td>4b</td>\n      <td>18</td>\n      <td>VIRM-4 9560</td>\n      <td>VIRM-4 9560</td>\n      <td>Amsterdam Amstel</td>\n      <td></td>\n      <td>2019-07-11#3953</td>\n    </tr>\n    <tr>\n      <th>996</th>\n      <td>2019-07-11</td>\n      <td>3943</td>\n      <td>303943</td>\n      <td>Amsterdam Centraal</td>\n      <td>12:14</td>\n      <td>None</td>\n      <td>Utrecht Centraal</td>\n      <td>12:40</td>\n      <td>None</td>\n      <td>5b</td>\n      <td>18</td>\n      <td>VIRM-6 8717</td>\n      <td>VIRM-6 8717</td>\n      <td>Amsterdam Amstel</td>\n      <td></td>\n      <td>2019-07-11#3943</td>\n    </tr>\n    <tr>\n      <th>997</th>\n      <td>2019-07-11</td>\n      <td>3948</td>\n      <td>3948</td>\n      <td>Utrecht Centraal</td>\n      <td>14:48</td>\n      <td>None</td>\n      <td>Amsterdam Centraal</td>\n      <td>15:15</td>\n      <td>None</td>\n      <td>7</td>\n      <td>8a</td>\n      <td>VIRM-4 9580</td>\n      <td>VIRM-4 9580</td>\n      <td>Amsterdam Amstel</td>\n      <td></td>\n      <td>2019-07-11#3948</td>\n    </tr>\n    <tr>\n      <th>998</th>\n      <td>2019-07-11</td>\n      <td>7446</td>\n      <td>7446</td>\n      <td>Utrecht Centraal</td>\n      <td>14:37</td>\n      <td>None</td>\n      <td>Amsterdam Centraal</td>\n      <td>15:20</td>\n      <td>None</td>\n      <td>14</td>\n      <td>7b</td>\n      <td>SGMM-3 2994;SGMM-2 2142</td>\n      <td>SGMM-3 2994;SGMM-2 2142</td>\n      <td>Utrecht Zuilen;Maarssen;Breukelen;Abcoude;Amst...</td>\n      <td></td>\n      <td>2019-07-11#7446</td>\n    </tr>\n    <tr>\n      <th>999</th>\n      <td>2019-07-11</td>\n      <td>3053</td>\n      <td>3053</td>\n      <td>Amsterdam Centraal</td>\n      <td>14:54</td>\n      <td>None</td>\n      <td>Utrecht Centraal</td>\n      <td>15:22</td>\n      <td>None</td>\n      <td>4b</td>\n      <td>19</td>\n      <td>VIRM-6 8652</td>\n      <td>VIRM-6 8652</td>\n      <td>Amsterdam Amstel</td>\n      <td></td>\n      <td>2019-07-11#3053</td>\n    </tr>\n  </tbody>\n</table>\n<p>2498 rows × 16 columns</p>\n</div>",
      "text/plain": "           Date  RideId  TrainId    DepartureStation DepartureTime  \\\n0    2019-06-30    7393     7393  Amsterdam Centraal         00:28   \n1    2019-06-30    2981     2981  Amsterdam Centraal         21:40   \n2    2019-06-30    2985     2985  Amsterdam Centraal         22:40   \n3    2019-06-30    3087     3087  Amsterdam Centraal         23:24   \n4    2019-06-30    2980     2980    Utrecht Centraal         22:53   \n..          ...     ...      ...                 ...           ...   \n995  2019-07-11    3953     3953  Amsterdam Centraal         14:45   \n996  2019-07-11    3943   303943  Amsterdam Centraal         12:14   \n997  2019-07-11    3948     3948    Utrecht Centraal         14:48   \n998  2019-07-11    7446     7446    Utrecht Centraal         14:37   \n999  2019-07-11    3053     3053  Amsterdam Centraal         14:54   \n\n    DepartureDelay  DestinationStation ArrivalTime ArrivalDelay  \\\n0              NaN    Utrecht Centraal       01:10          NaN   \n1              NaN    Utrecht Centraal       22:07          NaN   \n2              NaN    Utrecht Centraal       23:07          NaN   \n3              NaN    Utrecht Centraal       23:52          NaN   \n4              +1½  Amsterdam Centraal       23:21          NaN   \n..             ...                 ...         ...          ...   \n995           None    Utrecht Centraal       15:12         None   \n996           None    Utrecht Centraal       12:40         None   \n997           None  Amsterdam Centraal       15:15         None   \n998           None  Amsterdam Centraal       15:20         None   \n999           None    Utrecht Centraal       15:22         None   \n\n    DeparturePlatform ArrivalPlatform       DepartureMaterials  \\\n0                  2b              14    SLT-4 2435;SLT-6 2648   \n1                  4b              18              VIRM-4 9480   \n2                  4b              18              VIRM-6 8649   \n3                  4a              19              VIRM-6 8621   \n4                   7              8a              VIRM-6 8676   \n..                ...             ...                      ...   \n995                4b              18              VIRM-4 9560   \n996                5b              18              VIRM-6 8717   \n997                 7              8a              VIRM-4 9580   \n998                14              7b  SGMM-3 2994;SGMM-2 2142   \n999                4b              19              VIRM-6 8652   \n\n            ArrivalMaterials  \\\n0                        NaN   \n1                VIRM-4 9480   \n2                VIRM-6 8649   \n3                VIRM-6 8621   \n4                VIRM-6 8676   \n..                       ...   \n995              VIRM-4 9560   \n996              VIRM-6 8717   \n997              VIRM-4 9580   \n998  SGMM-3 2994;SGMM-2 2142   \n999              VIRM-6 8652   \n\n                                     InbetweenStations FaultMessages  \\\n0    Amsterdam Muiderpoort;Amsterdam Amstel;Duivend...           NaN   \n1                                     Amsterdam Amstel           NaN   \n2                                     Amsterdam Amstel           NaN   \n3                                     Amsterdam Amstel           NaN   \n4             Amsterdam Bijlmer ArenA;Amsterdam Amstel           NaN   \n..                                                 ...           ...   \n995                                   Amsterdam Amstel                 \n996                                   Amsterdam Amstel                 \n997                                   Amsterdam Amstel                 \n998  Utrecht Zuilen;Maarssen;Breukelen;Abcoude;Amst...                 \n999                                   Amsterdam Amstel                 \n\n        RideInstance  \n0    2019-06-30#7393  \n1    2019-06-30#2981  \n2    2019-06-30#2985  \n3    2019-06-30#3087  \n4    2019-06-30#2980  \n..               ...  \n995  2019-07-11#3953  \n996  2019-07-11#3943  \n997  2019-07-11#3948  \n998  2019-07-11#7446  \n999  2019-07-11#3053  \n\n[2498 rows x 16 columns]"
     },
     "execution_count": 20,
     "metadata": {},
     "output_type": "execute_result"
    }
   ],
   "source": [
    "df = pd.concat([ dfresults, pd.DataFrame(data)])\r\n",
    "df['RideInstance'] = df.Date + '#' + df.RideId.astype(str)\r\n",
    "df"
   ]
  },
  {
   "cell_type": "code",
   "execution_count": 21,
   "metadata": {},
   "outputs": [],
   "source": [
    "df.to_csv('gg.csv',index=None)\r\n",
    "df.to_csv('../assets/data/2019-UT-ASD-Full/2019-07-01--2019-12-31_scrapped.csv',index=None)"
   ]
  }
 ],
 "metadata": {
  "kernelspec": {
   "display_name": "Python 3.8.2 64-bit",
   "name": "python382jvsc74a57bd0b484e608f6e9819578ec834ce331f788e59296a3ef9763dbfaaa1081558300ba"
  },
  "language_info": {
   "codemirror_mode": {
    "name": "ipython",
    "version": 3
   },
   "file_extension": ".py",
   "mimetype": "text/x-python",
   "name": "python",
   "nbconvert_exporter": "python",
   "pygments_lexer": "ipython3",
   "version": "3.8.2"
  },
  "orig_nbformat": 2
 },
 "nbformat": 4,
 "nbformat_minor": 2
}